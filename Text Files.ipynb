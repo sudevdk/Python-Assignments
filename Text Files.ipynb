{
 "cells": [
  {
   "cell_type": "markdown",
   "id": "9642065f",
   "metadata": {},
   "source": [
    "# Text Files"
   ]
  },
  {
   "cell_type": "code",
   "execution_count": 1,
   "id": "cf815098",
   "metadata": {},
   "outputs": [
    {
     "ename": "FileNotFoundError",
     "evalue": "[Errno 2] No such file or directory: 'test_new.txt'",
     "output_type": "error",
     "traceback": [
      "\u001b[1;31m---------------------------------------------------------------------------\u001b[0m",
      "\u001b[1;31mFileNotFoundError\u001b[0m                         Traceback (most recent call last)",
      "\u001b[1;32m~\\AppData\\Local\\Temp/ipykernel_10112/14366340.py\u001b[0m in \u001b[0;36m<module>\u001b[1;34m\u001b[0m\n\u001b[1;32m----> 1\u001b[1;33m \u001b[0mf\u001b[0m\u001b[1;33m=\u001b[0m\u001b[0mopen\u001b[0m\u001b[1;33m(\u001b[0m\u001b[1;34m\"test_new.txt\"\u001b[0m\u001b[1;33m)\u001b[0m \u001b[1;31m#r\u001b[0m\u001b[1;33m\u001b[0m\u001b[1;33m\u001b[0m\u001b[0m\n\u001b[0m",
      "\u001b[1;31mFileNotFoundError\u001b[0m: [Errno 2] No such file or directory: 'test_new.txt'"
     ]
    }
   ],
   "source": [
    "f=open(\"test_new.txt\") #r"
   ]
  },
  {
   "cell_type": "code",
   "execution_count": 2,
   "id": "9743b225",
   "metadata": {},
   "outputs": [],
   "source": [
    "f=open(\"test_new.txt\",\"w\")"
   ]
  },
  {
   "cell_type": "code",
   "execution_count": 3,
   "id": "c8de7ca1",
   "metadata": {},
   "outputs": [
    {
     "data": {
      "text/plain": [
       "52"
      ]
     },
     "execution_count": 3,
     "metadata": {},
     "output_type": "execute_result"
    }
   ],
   "source": [
    "f.write(r\"chgudyui cnhgusudo gcyg chddydi gydggd bvguu 1111111\")"
   ]
  },
  {
   "cell_type": "code",
   "execution_count": 4,
   "id": "403456ac",
   "metadata": {},
   "outputs": [],
   "source": [
    "f.close()"
   ]
  },
  {
   "cell_type": "code",
   "execution_count": 5,
   "id": "9ed03a5e",
   "metadata": {},
   "outputs": [],
   "source": [
    "f=open(\"test_new.txt\")"
   ]
  },
  {
   "cell_type": "code",
   "execution_count": 6,
   "id": "72b04838",
   "metadata": {},
   "outputs": [
    {
     "data": {
      "text/plain": [
       "'chgudyui cnhgusudo gcyg chddydi gydggd bvguu 1111111'"
      ]
     },
     "execution_count": 6,
     "metadata": {},
     "output_type": "execute_result"
    }
   ],
   "source": [
    "f.read()"
   ]
  },
  {
   "cell_type": "code",
   "execution_count": 7,
   "id": "027bf8e9",
   "metadata": {},
   "outputs": [
    {
     "data": {
      "text/plain": [
       "''"
      ]
     },
     "execution_count": 7,
     "metadata": {},
     "output_type": "execute_result"
    }
   ],
   "source": [
    "f.read()"
   ]
  },
  {
   "cell_type": "code",
   "execution_count": 8,
   "id": "2ef11989",
   "metadata": {},
   "outputs": [
    {
     "data": {
      "text/plain": [
       "0"
      ]
     },
     "execution_count": 8,
     "metadata": {},
     "output_type": "execute_result"
    }
   ],
   "source": [
    "f.seek(0)"
   ]
  },
  {
   "cell_type": "code",
   "execution_count": 9,
   "id": "e905a106",
   "metadata": {},
   "outputs": [
    {
     "data": {
      "text/plain": [
       "'chgudyui cnhgusudo gcyg chddydi gydggd bvguu 1111111'"
      ]
     },
     "execution_count": 9,
     "metadata": {},
     "output_type": "execute_result"
    }
   ],
   "source": [
    "f.read()"
   ]
  },
  {
   "cell_type": "code",
   "execution_count": 10,
   "id": "3efb4431",
   "metadata": {},
   "outputs": [
    {
     "data": {
      "text/plain": [
       "5"
      ]
     },
     "execution_count": 10,
     "metadata": {},
     "output_type": "execute_result"
    }
   ],
   "source": [
    "f.seek(5)"
   ]
  },
  {
   "cell_type": "code",
   "execution_count": 11,
   "id": "10e6466e",
   "metadata": {},
   "outputs": [
    {
     "data": {
      "text/plain": [
       "'yui cnhgusudo gcyg chddydi gydggd bvguu 1111111'"
      ]
     },
     "execution_count": 11,
     "metadata": {},
     "output_type": "execute_result"
    }
   ],
   "source": [
    "f.read()"
   ]
  },
  {
   "cell_type": "code",
   "execution_count": 12,
   "id": "5226da36",
   "metadata": {},
   "outputs": [
    {
     "data": {
      "text/plain": [
       "0"
      ]
     },
     "execution_count": 12,
     "metadata": {},
     "output_type": "execute_result"
    }
   ],
   "source": [
    "f.seek(0)"
   ]
  },
  {
   "cell_type": "code",
   "execution_count": 13,
   "id": "592576fa",
   "metadata": {},
   "outputs": [
    {
     "data": {
      "text/plain": [
       "'chgudyui cnhgusudo gcyg chddydi gydggd bvguu 1111111'"
      ]
     },
     "execution_count": 13,
     "metadata": {},
     "output_type": "execute_result"
    }
   ],
   "source": [
    "f.read()"
   ]
  },
  {
   "cell_type": "code",
   "execution_count": 14,
   "id": "156d1e46",
   "metadata": {},
   "outputs": [],
   "source": [
    "f=open(\"test_new.txt\",\"r\")  #Read only"
   ]
  },
  {
   "cell_type": "code",
   "execution_count": 15,
   "id": "0fc659f9",
   "metadata": {},
   "outputs": [
    {
     "ename": "UnsupportedOperation",
     "evalue": "not writable",
     "output_type": "error",
     "traceback": [
      "\u001b[1;31m---------------------------------------------------------------------------\u001b[0m",
      "\u001b[1;31mUnsupportedOperation\u001b[0m                      Traceback (most recent call last)",
      "\u001b[1;32m~\\AppData\\Local\\Temp/ipykernel_10112/3304306669.py\u001b[0m in \u001b[0;36m<module>\u001b[1;34m\u001b[0m\n\u001b[1;32m----> 1\u001b[1;33m \u001b[0mf\u001b[0m\u001b[1;33m.\u001b[0m\u001b[0mwrite\u001b[0m\u001b[1;33m(\u001b[0m\u001b[1;34m\"mjhuiokl,n,hguh,cfsd,zsetff\"\u001b[0m\u001b[1;33m)\u001b[0m\u001b[1;33m\u001b[0m\u001b[1;33m\u001b[0m\u001b[0m\n\u001b[0m",
      "\u001b[1;31mUnsupportedOperation\u001b[0m: not writable"
     ]
    }
   ],
   "source": [
    "f.write(\"mjhuiokl,n,hguh,cfsd,zsetff\")"
   ]
  },
  {
   "cell_type": "code",
   "execution_count": 16,
   "id": "732b09d6",
   "metadata": {},
   "outputs": [
    {
     "data": {
      "text/plain": [
       "'chgudyui cnhgusudo gcyg chddydi gydggd bvguu 1111111'"
      ]
     },
     "execution_count": 16,
     "metadata": {},
     "output_type": "execute_result"
    }
   ],
   "source": [
    "f.read()"
   ]
  },
  {
   "cell_type": "code",
   "execution_count": 17,
   "id": "5f282b47",
   "metadata": {},
   "outputs": [
    {
     "data": {
      "text/plain": [
       "''"
      ]
     },
     "execution_count": 17,
     "metadata": {},
     "output_type": "execute_result"
    }
   ],
   "source": [
    "f.read()"
   ]
  },
  {
   "cell_type": "code",
   "execution_count": 18,
   "id": "eed7f2d4",
   "metadata": {},
   "outputs": [
    {
     "data": {
      "text/plain": [
       "0"
      ]
     },
     "execution_count": 18,
     "metadata": {},
     "output_type": "execute_result"
    }
   ],
   "source": [
    "f.seek(0)"
   ]
  },
  {
   "cell_type": "code",
   "execution_count": 19,
   "id": "1abbc395",
   "metadata": {},
   "outputs": [
    {
     "data": {
      "text/plain": [
       "'chgudyui c'"
      ]
     },
     "execution_count": 19,
     "metadata": {},
     "output_type": "execute_result"
    }
   ],
   "source": [
    "f.read(10)"
   ]
  },
  {
   "cell_type": "code",
   "execution_count": 20,
   "id": "db27a361",
   "metadata": {},
   "outputs": [],
   "source": [
    "f.close()"
   ]
  },
  {
   "cell_type": "code",
   "execution_count": 21,
   "id": "c79c55f5",
   "metadata": {},
   "outputs": [
    {
     "ename": "ValueError",
     "evalue": "I/O operation on closed file.",
     "output_type": "error",
     "traceback": [
      "\u001b[1;31m---------------------------------------------------------------------------\u001b[0m",
      "\u001b[1;31mValueError\u001b[0m                                Traceback (most recent call last)",
      "\u001b[1;32m~\\AppData\\Local\\Temp/ipykernel_10112/3059900045.py\u001b[0m in \u001b[0;36m<module>\u001b[1;34m\u001b[0m\n\u001b[1;32m----> 1\u001b[1;33m \u001b[0mf\u001b[0m\u001b[1;33m.\u001b[0m\u001b[0mread\u001b[0m\u001b[1;33m(\u001b[0m\u001b[1;33m)\u001b[0m\u001b[1;33m\u001b[0m\u001b[1;33m\u001b[0m\u001b[0m\n\u001b[0m",
      "\u001b[1;31mValueError\u001b[0m: I/O operation on closed file."
     ]
    }
   ],
   "source": [
    "f.read()"
   ]
  },
  {
   "cell_type": "code",
   "execution_count": 22,
   "id": "3310b238",
   "metadata": {},
   "outputs": [
    {
     "data": {
      "text/plain": [
       "<_io.TextIOWrapper name='test.txt' mode='w' encoding='cp1252'>"
      ]
     },
     "execution_count": 22,
     "metadata": {},
     "output_type": "execute_result"
    }
   ],
   "source": [
    "open(\"test.txt\",\"w\")"
   ]
  },
  {
   "cell_type": "code",
   "execution_count": 23,
   "id": "822b5cb1",
   "metadata": {},
   "outputs": [],
   "source": [
    "f=open(\"test.txt\",\"w\")"
   ]
  },
  {
   "cell_type": "code",
   "execution_count": 24,
   "id": "79e47bce",
   "metadata": {},
   "outputs": [
    {
     "data": {
      "text/plain": [
       "34"
      ]
     },
     "execution_count": 24,
     "metadata": {},
     "output_type": "execute_result"
    }
   ],
   "source": [
    "f.write(\"hhgfh hgfgdk bcfdhg jsdfeg chdswfe\")"
   ]
  },
  {
   "cell_type": "code",
   "execution_count": 25,
   "id": "15edaac8",
   "metadata": {},
   "outputs": [],
   "source": [
    "f.close()"
   ]
  },
  {
   "cell_type": "code",
   "execution_count": 26,
   "id": "7b9bcd44",
   "metadata": {},
   "outputs": [],
   "source": [
    "f=open(\"test.txt\",\"a\")"
   ]
  },
  {
   "cell_type": "code",
   "execution_count": 27,
   "id": "a12c10a8",
   "metadata": {},
   "outputs": [
    {
     "data": {
      "text/plain": [
       "28"
      ]
     },
     "execution_count": 27,
     "metadata": {},
     "output_type": "execute_result"
    }
   ],
   "source": [
    "f.write(\"sddsfgfhfdkueoepgfatefgoogir\")"
   ]
  },
  {
   "cell_type": "code",
   "execution_count": 28,
   "id": "0e8fc577",
   "metadata": {},
   "outputs": [],
   "source": [
    "f.close()"
   ]
  },
  {
   "cell_type": "code",
   "execution_count": 29,
   "id": "288239f6",
   "metadata": {},
   "outputs": [],
   "source": [
    "f=open(\"test.txt\",\"wb\")"
   ]
  },
  {
   "cell_type": "code",
   "execution_count": 30,
   "id": "279a255f",
   "metadata": {},
   "outputs": [
    {
     "ename": "TypeError",
     "evalue": "a bytes-like object is required, not 'str'",
     "output_type": "error",
     "traceback": [
      "\u001b[1;31m---------------------------------------------------------------------------\u001b[0m",
      "\u001b[1;31mTypeError\u001b[0m                                 Traceback (most recent call last)",
      "\u001b[1;32m~\\AppData\\Local\\Temp/ipykernel_10112/3079530179.py\u001b[0m in \u001b[0;36m<module>\u001b[1;34m\u001b[0m\n\u001b[1;32m----> 1\u001b[1;33m \u001b[0mf\u001b[0m\u001b[1;33m.\u001b[0m\u001b[0mwrite\u001b[0m\u001b[1;33m(\u001b[0m\u001b[1;34m\"bhy7vuj vdfsiwido\"\u001b[0m\u001b[1;33m)\u001b[0m\u001b[1;33m\u001b[0m\u001b[1;33m\u001b[0m\u001b[0m\n\u001b[0m",
      "\u001b[1;31mTypeError\u001b[0m: a bytes-like object is required, not 'str'"
     ]
    }
   ],
   "source": [
    "f.write(\"bhy7vuj vdfsiwido\")"
   ]
  },
  {
   "cell_type": "code",
   "execution_count": 31,
   "id": "2f7f2708",
   "metadata": {},
   "outputs": [
    {
     "data": {
      "text/plain": [
       "17"
      ]
     },
     "execution_count": 31,
     "metadata": {},
     "output_type": "execute_result"
    }
   ],
   "source": [
    "f.write(b\"bhy7vuj vdfsiwido\")"
   ]
  },
  {
   "cell_type": "code",
   "execution_count": 32,
   "id": "a00a9759",
   "metadata": {},
   "outputs": [],
   "source": [
    "f.close()"
   ]
  },
  {
   "cell_type": "code",
   "execution_count": 33,
   "id": "eeb94530",
   "metadata": {},
   "outputs": [],
   "source": [
    "f=open(\"test.txt\",\"r\")"
   ]
  },
  {
   "cell_type": "code",
   "execution_count": 34,
   "id": "02801c54",
   "metadata": {},
   "outputs": [
    {
     "data": {
      "text/plain": [
       "'bhy7vuj vdfsiwido'"
      ]
     },
     "execution_count": 34,
     "metadata": {},
     "output_type": "execute_result"
    }
   ],
   "source": [
    "f.read()"
   ]
  },
  {
   "cell_type": "code",
   "execution_count": 35,
   "id": "543a81be",
   "metadata": {},
   "outputs": [
    {
     "data": {
      "text/plain": [
       "2"
      ]
     },
     "execution_count": 35,
     "metadata": {},
     "output_type": "execute_result"
    }
   ],
   "source": [
    "f.seek(2)"
   ]
  },
  {
   "cell_type": "code",
   "execution_count": 36,
   "id": "d2f313ea",
   "metadata": {},
   "outputs": [
    {
     "data": {
      "text/plain": [
       "'y7'"
      ]
     },
     "execution_count": 36,
     "metadata": {},
     "output_type": "execute_result"
    }
   ],
   "source": [
    "f.read(2)"
   ]
  },
  {
   "cell_type": "code",
   "execution_count": 37,
   "id": "94b23e15",
   "metadata": {},
   "outputs": [
    {
     "data": {
      "text/plain": [
       "'v'"
      ]
     },
     "execution_count": 37,
     "metadata": {},
     "output_type": "execute_result"
    }
   ],
   "source": [
    "f.read(1)"
   ]
  },
  {
   "cell_type": "code",
   "execution_count": 38,
   "id": "a307270a",
   "metadata": {},
   "outputs": [
    {
     "data": {
      "text/plain": [
       "2"
      ]
     },
     "execution_count": 38,
     "metadata": {},
     "output_type": "execute_result"
    }
   ],
   "source": [
    "f.seek(2)"
   ]
  },
  {
   "cell_type": "code",
   "execution_count": 39,
   "id": "aa2f9546",
   "metadata": {},
   "outputs": [
    {
     "ename": "UnsupportedOperation",
     "evalue": "can't do nonzero end-relative seeks",
     "output_type": "error",
     "traceback": [
      "\u001b[1;31m---------------------------------------------------------------------------\u001b[0m",
      "\u001b[1;31mUnsupportedOperation\u001b[0m                      Traceback (most recent call last)",
      "\u001b[1;32m~\\AppData\\Local\\Temp/ipykernel_10112/1273800031.py\u001b[0m in \u001b[0;36m<module>\u001b[1;34m\u001b[0m\n\u001b[1;32m----> 1\u001b[1;33m \u001b[0mf\u001b[0m\u001b[1;33m.\u001b[0m\u001b[0mseek\u001b[0m\u001b[1;33m(\u001b[0m\u001b[1;33m-\u001b[0m\u001b[1;36m3\u001b[0m\u001b[1;33m,\u001b[0m\u001b[1;36m2\u001b[0m\u001b[1;33m)\u001b[0m\u001b[1;33m\u001b[0m\u001b[1;33m\u001b[0m\u001b[0m\n\u001b[0m",
      "\u001b[1;31mUnsupportedOperation\u001b[0m: can't do nonzero end-relative seeks"
     ]
    }
   ],
   "source": [
    "f.seek(-3,2)"
   ]
  },
  {
   "cell_type": "code",
   "execution_count": 40,
   "id": "3e8427d6",
   "metadata": {},
   "outputs": [],
   "source": [
    "f=open(\"test.txt\",\"rb\")"
   ]
  },
  {
   "cell_type": "code",
   "execution_count": 41,
   "id": "0c7203e1",
   "metadata": {},
   "outputs": [
    {
     "data": {
      "text/plain": [
       "b'bhy7vuj vdfsiwido'"
      ]
     },
     "execution_count": 41,
     "metadata": {},
     "output_type": "execute_result"
    }
   ],
   "source": [
    "f.read()"
   ]
  },
  {
   "cell_type": "code",
   "execution_count": 42,
   "id": "40b96c1e",
   "metadata": {},
   "outputs": [
    {
     "data": {
      "text/plain": [
       "14"
      ]
     },
     "execution_count": 42,
     "metadata": {},
     "output_type": "execute_result"
    }
   ],
   "source": [
    "f.seek(-3,2)"
   ]
  },
  {
   "cell_type": "code",
   "execution_count": 43,
   "id": "5d594166",
   "metadata": {},
   "outputs": [
    {
     "data": {
      "text/plain": [
       "11"
      ]
     },
     "execution_count": 43,
     "metadata": {},
     "output_type": "execute_result"
    }
   ],
   "source": [
    "f.seek(-3,1)"
   ]
  },
  {
   "cell_type": "code",
   "execution_count": 44,
   "id": "01b987d9",
   "metadata": {},
   "outputs": [
    {
     "ename": "OSError",
     "evalue": "[Errno 22] Invalid argument",
     "output_type": "error",
     "traceback": [
      "\u001b[1;31m---------------------------------------------------------------------------\u001b[0m",
      "\u001b[1;31mOSError\u001b[0m                                   Traceback (most recent call last)",
      "\u001b[1;32m~\\AppData\\Local\\Temp/ipykernel_10112/3169588042.py\u001b[0m in \u001b[0;36m<module>\u001b[1;34m\u001b[0m\n\u001b[1;32m----> 1\u001b[1;33m \u001b[0mf\u001b[0m\u001b[1;33m.\u001b[0m\u001b[0mseek\u001b[0m\u001b[1;33m(\u001b[0m\u001b[1;33m-\u001b[0m\u001b[1;36m3\u001b[0m\u001b[1;33m,\u001b[0m\u001b[1;36m0\u001b[0m\u001b[1;33m)\u001b[0m\u001b[1;33m\u001b[0m\u001b[1;33m\u001b[0m\u001b[0m\n\u001b[0m",
      "\u001b[1;31mOSError\u001b[0m: [Errno 22] Invalid argument"
     ]
    }
   ],
   "source": [
    "f.seek(-3,0)"
   ]
  },
  {
   "cell_type": "code",
   "execution_count": 45,
   "id": "e5a371c1",
   "metadata": {},
   "outputs": [
    {
     "data": {
      "text/plain": [
       "13"
      ]
     },
     "execution_count": 45,
     "metadata": {},
     "output_type": "execute_result"
    }
   ],
   "source": [
    "f.seek(-4,2)"
   ]
  },
  {
   "cell_type": "code",
   "execution_count": 46,
   "id": "d53a1411",
   "metadata": {},
   "outputs": [],
   "source": [
    "f=open(\"test.txt\",\"w\")"
   ]
  },
  {
   "cell_type": "code",
   "execution_count": 47,
   "id": "aa5b6551",
   "metadata": {},
   "outputs": [
    {
     "data": {
      "text/plain": [
       "34"
      ]
     },
     "execution_count": 47,
     "metadata": {},
     "output_type": "execute_result"
    }
   ],
   "source": [
    "f.write(\"f bhwgys bsxj njsdi bshdhui ndkeio\")"
   ]
  },
  {
   "cell_type": "code",
   "execution_count": 48,
   "id": "b6cb60d3",
   "metadata": {},
   "outputs": [],
   "source": [
    "f.close()"
   ]
  },
  {
   "cell_type": "code",
   "execution_count": 49,
   "id": "a0bff6a1",
   "metadata": {},
   "outputs": [],
   "source": [
    "f=open(\"test.txt\",\"r\")"
   ]
  },
  {
   "cell_type": "code",
   "execution_count": 50,
   "id": "1390caab",
   "metadata": {},
   "outputs": [
    {
     "data": {
      "text/plain": [
       "'f bhwgys bsxj njsdi bshdhui ndkeio'"
      ]
     },
     "execution_count": 50,
     "metadata": {},
     "output_type": "execute_result"
    }
   ],
   "source": [
    "f.read()"
   ]
  },
  {
   "cell_type": "code",
   "execution_count": 51,
   "id": "10fcbcd9",
   "metadata": {},
   "outputs": [
    {
     "data": {
      "text/plain": [
       "''"
      ]
     },
     "execution_count": 51,
     "metadata": {},
     "output_type": "execute_result"
    }
   ],
   "source": [
    "f.read()"
   ]
  },
  {
   "cell_type": "code",
   "execution_count": 52,
   "id": "e2dc496e",
   "metadata": {},
   "outputs": [
    {
     "data": {
      "text/plain": [
       "0"
      ]
     },
     "execution_count": 52,
     "metadata": {},
     "output_type": "execute_result"
    }
   ],
   "source": [
    "f.seek(0)"
   ]
  },
  {
   "cell_type": "code",
   "execution_count": 53,
   "id": "7b90f498",
   "metadata": {},
   "outputs": [
    {
     "data": {
      "text/plain": [
       "'f bhwgys bsxj njsdi bshdhui ndkeio'"
      ]
     },
     "execution_count": 53,
     "metadata": {},
     "output_type": "execute_result"
    }
   ],
   "source": [
    "f.readline()"
   ]
  },
  {
   "cell_type": "code",
   "execution_count": 54,
   "id": "8f744bf0",
   "metadata": {},
   "outputs": [
    {
     "data": {
      "text/plain": [
       "''"
      ]
     },
     "execution_count": 54,
     "metadata": {},
     "output_type": "execute_result"
    }
   ],
   "source": [
    "f.readline()"
   ]
  },
  {
   "cell_type": "code",
   "execution_count": 55,
   "id": "f89c7aa1",
   "metadata": {},
   "outputs": [
    {
     "data": {
      "text/plain": [
       "''"
      ]
     },
     "execution_count": 55,
     "metadata": {},
     "output_type": "execute_result"
    }
   ],
   "source": [
    "f.readline()"
   ]
  },
  {
   "cell_type": "code",
   "execution_count": 56,
   "id": "62771c3e",
   "metadata": {},
   "outputs": [
    {
     "data": {
      "text/plain": [
       "''"
      ]
     },
     "execution_count": 56,
     "metadata": {},
     "output_type": "execute_result"
    }
   ],
   "source": [
    "f.readline()"
   ]
  },
  {
   "cell_type": "code",
   "execution_count": 57,
   "id": "0caa3904",
   "metadata": {},
   "outputs": [
    {
     "data": {
      "text/plain": [
       "''"
      ]
     },
     "execution_count": 57,
     "metadata": {},
     "output_type": "execute_result"
    }
   ],
   "source": [
    "f.readline()"
   ]
  },
  {
   "cell_type": "code",
   "execution_count": 58,
   "id": "4217e7b6",
   "metadata": {},
   "outputs": [],
   "source": [
    "f.close()"
   ]
  },
  {
   "cell_type": "code",
   "execution_count": 59,
   "id": "365c42e5",
   "metadata": {},
   "outputs": [],
   "source": [
    "f=open(\"test.txt\",\"r\")"
   ]
  },
  {
   "cell_type": "code",
   "execution_count": 60,
   "id": "7553db51",
   "metadata": {},
   "outputs": [
    {
     "name": "stdout",
     "output_type": "stream",
     "text": [
      "f bhwgys bsxj njsdi bshdhui ndkeio\n"
     ]
    }
   ],
   "source": [
    "for i in f:\n",
    "    print(i)"
   ]
  },
  {
   "cell_type": "code",
   "execution_count": 61,
   "id": "b2ff7d93",
   "metadata": {},
   "outputs": [],
   "source": [
    "for i in f:\n",
    "    print(i,end=\"\")"
   ]
  },
  {
   "cell_type": "code",
   "execution_count": 62,
   "id": "d4b3e1ab",
   "metadata": {},
   "outputs": [
    {
     "data": {
      "text/plain": [
       "0"
      ]
     },
     "execution_count": 62,
     "metadata": {},
     "output_type": "execute_result"
    }
   ],
   "source": [
    "f.seek(0)"
   ]
  },
  {
   "cell_type": "code",
   "execution_count": 63,
   "id": "cff5a554",
   "metadata": {},
   "outputs": [
    {
     "name": "stdout",
     "output_type": "stream",
     "text": [
      "f bhwgys bsxj njsdi bshdhui ndkeio"
     ]
    }
   ],
   "source": [
    "for i in f:\n",
    "    print(i,end=\"\")"
   ]
  },
  {
   "cell_type": "code",
   "execution_count": 64,
   "id": "1ef74cce",
   "metadata": {},
   "outputs": [],
   "source": [
    "f.close()"
   ]
  },
  {
   "cell_type": "code",
   "execution_count": 65,
   "id": "8e0b12d2",
   "metadata": {},
   "outputs": [],
   "source": [
    "f=open(\"test.txt\",\"r\") #w->create/write"
   ]
  },
  {
   "cell_type": "code",
   "execution_count": 66,
   "id": "20f12ff2",
   "metadata": {},
   "outputs": [
    {
     "data": {
      "text/plain": [
       "['f bhwgys bsxj njsdi bshdhui ndkeio']"
      ]
     },
     "execution_count": 66,
     "metadata": {},
     "output_type": "execute_result"
    }
   ],
   "source": [
    "list(f)"
   ]
  },
  {
   "cell_type": "code",
   "execution_count": 67,
   "id": "78b228e5",
   "metadata": {},
   "outputs": [],
   "source": [
    "f=open(\"test_ttttttt.txt\",\"w\")"
   ]
  },
  {
   "cell_type": "code",
   "execution_count": 68,
   "id": "2ee1a432",
   "metadata": {},
   "outputs": [],
   "source": [
    "f=open(\"test.txt\",\"r+\")"
   ]
  },
  {
   "cell_type": "code",
   "execution_count": 69,
   "id": "5a93563e",
   "metadata": {},
   "outputs": [
    {
     "data": {
      "text/plain": [
       "35"
      ]
     },
     "execution_count": 69,
     "metadata": {},
     "output_type": "execute_result"
    }
   ],
   "source": [
    "f.write(\"gggggggggggyyewyyyusuuyyqqqqqqqghhd\")"
   ]
  },
  {
   "cell_type": "code",
   "execution_count": 70,
   "id": "531eaa0c",
   "metadata": {},
   "outputs": [],
   "source": [
    "f.close()"
   ]
  },
  {
   "cell_type": "code",
   "execution_count": 71,
   "id": "bd58f821",
   "metadata": {},
   "outputs": [],
   "source": [
    "f=open(\"test.txt\",\"r+\")"
   ]
  },
  {
   "cell_type": "code",
   "execution_count": 73,
   "id": "ce0ee958",
   "metadata": {},
   "outputs": [],
   "source": [
    "f.writelines(\"sssssssaaaaaa\")"
   ]
  },
  {
   "cell_type": "code",
   "execution_count": 74,
   "id": "5d01d2f8",
   "metadata": {},
   "outputs": [],
   "source": [
    "f.close()"
   ]
  },
  {
   "cell_type": "code",
   "execution_count": 75,
   "id": "2a0343c2",
   "metadata": {},
   "outputs": [],
   "source": [
    "f=open(\"test.txt\",\"r+\")"
   ]
  },
  {
   "cell_type": "code",
   "execution_count": 76,
   "id": "2f51a969",
   "metadata": {},
   "outputs": [
    {
     "data": {
      "text/plain": [
       "200"
      ]
     },
     "execution_count": 76,
     "metadata": {},
     "output_type": "execute_result"
    }
   ],
   "source": [
    "f.seek(200)"
   ]
  },
  {
   "cell_type": "code",
   "execution_count": 77,
   "id": "2906c217",
   "metadata": {},
   "outputs": [
    {
     "data": {
      "text/plain": [
       "5"
      ]
     },
     "execution_count": 77,
     "metadata": {},
     "output_type": "execute_result"
    }
   ],
   "source": [
    "f.fileno()"
   ]
  },
  {
   "cell_type": "code",
   "execution_count": 78,
   "id": "b12ed656",
   "metadata": {},
   "outputs": [],
   "source": [
    "f=open(\"test.txt\",\"r+\")"
   ]
  },
  {
   "cell_type": "code",
   "execution_count": 79,
   "id": "eca3c994",
   "metadata": {},
   "outputs": [
    {
     "data": {
      "text/plain": [
       "6"
      ]
     },
     "execution_count": 79,
     "metadata": {},
     "output_type": "execute_result"
    }
   ],
   "source": [
    "f.fileno()"
   ]
  },
  {
   "cell_type": "code",
   "execution_count": 80,
   "id": "38bd24de",
   "metadata": {},
   "outputs": [
    {
     "name": "stdout",
     "output_type": "stream",
     "text": [
      "Writing test2.txt\n"
     ]
    }
   ],
   "source": [
    "%%writefile test2.txt\n",
    "my name is Sudev"
   ]
  },
  {
   "cell_type": "code",
   "execution_count": 81,
   "id": "4591bb39",
   "metadata": {},
   "outputs": [],
   "source": [
    "import os"
   ]
  },
  {
   "cell_type": "code",
   "execution_count": 82,
   "id": "3e4ba641",
   "metadata": {},
   "outputs": [
    {
     "data": {
      "text/plain": [
       "'C:\\\\Users\\\\user\\\\Desktop\\\\python programs'"
      ]
     },
     "execution_count": 82,
     "metadata": {},
     "output_type": "execute_result"
    }
   ],
   "source": [
    "pwd() #present working directory"
   ]
  },
  {
   "cell_type": "code",
   "execution_count": 83,
   "id": "3de5177f",
   "metadata": {},
   "outputs": [
    {
     "data": {
      "text/plain": [
       "'C:\\\\Users\\\\user\\\\Desktop\\\\python programs'"
      ]
     },
     "execution_count": 83,
     "metadata": {},
     "output_type": "execute_result"
    }
   ],
   "source": [
    "os.getcwd()"
   ]
  },
  {
   "cell_type": "code",
   "execution_count": 84,
   "id": "2d10f108",
   "metadata": {},
   "outputs": [
    {
     "data": {
      "text/plain": [
       "['.ipynb_checkpoints',\n",
       " 'Advanced functions.ipynb',\n",
       " 'conditions.ipynb',\n",
       " 'functions.ipynb',\n",
       " 'loops.ipynb',\n",
       " 'Patterns.ipynb',\n",
       " 'python data types.ipynb',\n",
       " 'string and list manipulation.ipynb',\n",
       " 'TASK AND ASSIGNMENT.ipynb',\n",
       " 'test.txt',\n",
       " 'test2.txt',\n",
       " 'test_new.txt',\n",
       " 'test_ttttttt.txt',\n",
       " 'Text Files.ipynb',\n",
       " 'Tuple, Set ,Dictionary.ipynb',\n",
       " 'Untitled.ipynb']"
      ]
     },
     "execution_count": 84,
     "metadata": {},
     "output_type": "execute_result"
    }
   ],
   "source": [
    "os.listdir()"
   ]
  },
  {
   "cell_type": "code",
   "execution_count": 88,
   "id": "e0fa9095",
   "metadata": {},
   "outputs": [
    {
     "data": {
      "text/plain": [
       "['.ipynb_checkpoints',\n",
       " 'Advanced functions.ipynb',\n",
       " 'conditions.ipynb',\n",
       " 'functions.ipynb',\n",
       " 'loops.ipynb',\n",
       " 'Patterns.ipynb',\n",
       " 'python data types.ipynb',\n",
       " 'string and list manipulation.ipynb',\n",
       " 'TASK AND ASSIGNMENT.ipynb',\n",
       " 'test.txt',\n",
       " 'test2.txt',\n",
       " 'test_new.txt',\n",
       " 'test_ttttttt.txt',\n",
       " 'Text Files.ipynb',\n",
       " 'Tuple, Set ,Dictionary.ipynb',\n",
       " 'Untitled.ipynb']"
      ]
     },
     "execution_count": 88,
     "metadata": {},
     "output_type": "execute_result"
    }
   ],
   "source": [
    "os.listdir(\"C:\\\\Users\\\\user\\\\Desktop\\\\python programs\")"
   ]
  },
  {
   "cell_type": "code",
   "execution_count": 89,
   "id": "34554011",
   "metadata": {},
   "outputs": [
    {
     "data": {
      "text/plain": [
       "'C:\\\\Users\\\\user\\\\Desktop\\\\python programs'"
      ]
     },
     "execution_count": 89,
     "metadata": {},
     "output_type": "execute_result"
    }
   ],
   "source": [
    "pwd()"
   ]
  },
  {
   "cell_type": "code",
   "execution_count": 90,
   "id": "62e095ef",
   "metadata": {},
   "outputs": [
    {
     "data": {
      "text/plain": [
       "'C:\\\\Users\\\\user\\\\Desktop\\\\python programs'"
      ]
     },
     "execution_count": 90,
     "metadata": {},
     "output_type": "execute_result"
    }
   ],
   "source": [
    "os.getcwd()"
   ]
  },
  {
   "cell_type": "code",
   "execution_count": 91,
   "id": "011d0dba",
   "metadata": {},
   "outputs": [],
   "source": [
    "os.chdir(\"C://Users\")"
   ]
  },
  {
   "cell_type": "code",
   "execution_count": 92,
   "id": "6c92c2b4",
   "metadata": {},
   "outputs": [
    {
     "data": {
      "text/plain": [
       "'C:\\\\Users'"
      ]
     },
     "execution_count": 92,
     "metadata": {},
     "output_type": "execute_result"
    }
   ],
   "source": [
    "pwd()"
   ]
  },
  {
   "cell_type": "code",
   "execution_count": 93,
   "id": "5f403eed",
   "metadata": {},
   "outputs": [],
   "source": [
    "os.chdir(\"C:\\\\Users\\\\user\\\\Desktop\\\\python programs\")"
   ]
  },
  {
   "cell_type": "code",
   "execution_count": 94,
   "id": "886975c1",
   "metadata": {},
   "outputs": [
    {
     "data": {
      "text/plain": [
       "'C:\\\\Users\\\\user\\\\Desktop\\\\python programs'"
      ]
     },
     "execution_count": 94,
     "metadata": {},
     "output_type": "execute_result"
    }
   ],
   "source": [
    "pwd()"
   ]
  },
  {
   "cell_type": "code",
   "execution_count": 95,
   "id": "8b663e69",
   "metadata": {},
   "outputs": [
    {
     "name": "stdout",
     "output_type": "stream",
     "text": [
      "no this file is not available in my current dir\n"
     ]
    }
   ],
   "source": [
    "if \"test1.txt\" in os.listdir():\n",
    "    print(\"my file is available\")\n",
    "    f=open(\"test1.txt\",\"r+\")\n",
    "    for i in f:\n",
    "        print(i)\n",
    "else:\n",
    "    print(\"no this file is not available in my current dir\")"
   ]
  },
  {
   "cell_type": "code",
   "execution_count": 96,
   "id": "feb0f492",
   "metadata": {},
   "outputs": [
    {
     "name": "stdout",
     "output_type": "stream",
     "text": [
      "my file is available\n",
      "sssssssaaaaaaewyyyusuuyyqqqqqqqghhd\n"
     ]
    }
   ],
   "source": [
    "if \"test.txt\" in os.listdir():\n",
    "    print(\"my file is available\")\n",
    "    f=open(\"test.txt\",\"r+\")\n",
    "    for i in f:\n",
    "        print(i)\n",
    "else:\n",
    "    print(\"no this file is not available in my current dir\")"
   ]
  },
  {
   "cell_type": "code",
   "execution_count": 97,
   "id": "dce6c636",
   "metadata": {},
   "outputs": [
    {
     "name": "stdout",
     "output_type": "stream",
     "text": [
      "my file is available\n",
      "my name is Sudev\n",
      "\n"
     ]
    }
   ],
   "source": [
    "if \"test2.txt\" in os.listdir():\n",
    "    print(\"my file is available\")\n",
    "    f=open(\"test2.txt\",\"r+\")\n",
    "    for i in f:\n",
    "        print(i)\n",
    "else:\n",
    "    print(\"no this file is not available in my current dir\")"
   ]
  },
  {
   "cell_type": "code",
   "execution_count": 98,
   "id": "63bf2419",
   "metadata": {},
   "outputs": [],
   "source": [
    "os.mkdir(\"sudev\")"
   ]
  },
  {
   "cell_type": "code",
   "execution_count": 99,
   "id": "ec54e839",
   "metadata": {},
   "outputs": [],
   "source": [
    "#Solution for checking the directory and if it exist creating new one"
   ]
  },
  {
   "cell_type": "code",
   "execution_count": 100,
   "id": "d8315316",
   "metadata": {},
   "outputs": [],
   "source": [
    "if not os.path.isdir(\"sudev\"):\n",
    "    os.mkdir(\"sudev\")"
   ]
  },
  {
   "cell_type": "code",
   "execution_count": 101,
   "id": "7222e3a7",
   "metadata": {},
   "outputs": [
    {
     "ename": "PermissionError",
     "evalue": "[WinError 32] The process cannot access the file because it is being used by another process: 'test.txt' -> 'xyz.txt'",
     "output_type": "error",
     "traceback": [
      "\u001b[1;31m---------------------------------------------------------------------------\u001b[0m",
      "\u001b[1;31mPermissionError\u001b[0m                           Traceback (most recent call last)",
      "\u001b[1;32m~\\AppData\\Local\\Temp/ipykernel_10112/3584645743.py\u001b[0m in \u001b[0;36m<module>\u001b[1;34m\u001b[0m\n\u001b[1;32m----> 1\u001b[1;33m \u001b[0mos\u001b[0m\u001b[1;33m.\u001b[0m\u001b[0mrename\u001b[0m\u001b[1;33m(\u001b[0m\u001b[1;34m\"test.txt\"\u001b[0m\u001b[1;33m,\u001b[0m\u001b[1;34m\"xyz.txt\"\u001b[0m\u001b[1;33m)\u001b[0m\u001b[1;33m\u001b[0m\u001b[1;33m\u001b[0m\u001b[0m\n\u001b[0m",
      "\u001b[1;31mPermissionError\u001b[0m: [WinError 32] The process cannot access the file because it is being used by another process: 'test.txt' -> 'xyz.txt'"
     ]
    }
   ],
   "source": [
    "os.rename(\"test.txt\",\"xyz.txt\")"
   ]
  },
  {
   "cell_type": "code",
   "execution_count": 102,
   "id": "b2120a14",
   "metadata": {},
   "outputs": [],
   "source": [
    "f=open(\"test.txt\",\"r+\")\n",
    "f.close()"
   ]
  },
  {
   "cell_type": "code",
   "execution_count": 103,
   "id": "2564d92e",
   "metadata": {},
   "outputs": [],
   "source": [
    "os.rmdir(\"sudev\")"
   ]
  },
  {
   "cell_type": "code",
   "execution_count": 104,
   "id": "b483e784",
   "metadata": {
    "scrolled": true
   },
   "outputs": [
    {
     "ename": "FileNotFoundError",
     "evalue": "[WinError 2] The system cannot find the file specified: 'xyz'",
     "output_type": "error",
     "traceback": [
      "\u001b[1;31m---------------------------------------------------------------------------\u001b[0m",
      "\u001b[1;31mFileNotFoundError\u001b[0m                         Traceback (most recent call last)",
      "\u001b[1;32m~\\AppData\\Local\\Temp/ipykernel_10112/3908082197.py\u001b[0m in \u001b[0;36m<module>\u001b[1;34m\u001b[0m\n\u001b[1;32m----> 1\u001b[1;33m \u001b[0mos\u001b[0m\u001b[1;33m.\u001b[0m\u001b[0mrmdir\u001b[0m\u001b[1;33m(\u001b[0m\u001b[1;34m\"xyz\"\u001b[0m\u001b[1;33m)\u001b[0m\u001b[1;33m\u001b[0m\u001b[1;33m\u001b[0m\u001b[0m\n\u001b[0m",
      "\u001b[1;31mFileNotFoundError\u001b[0m: [WinError 2] The system cannot find the file specified: 'xyz'"
     ]
    }
   ],
   "source": [
    "os.rmdir(\"xyz\")"
   ]
  },
  {
   "cell_type": "code",
   "execution_count": 105,
   "id": "e546d293",
   "metadata": {},
   "outputs": [
    {
     "data": {
      "text/plain": [
       "'C:\\\\Users\\\\user\\\\Desktop\\\\python programs'"
      ]
     },
     "execution_count": 105,
     "metadata": {},
     "output_type": "execute_result"
    }
   ],
   "source": [
    "os.getcwd()"
   ]
  },
  {
   "cell_type": "code",
   "execution_count": 109,
   "id": "791d4e84",
   "metadata": {},
   "outputs": [
    {
     "ename": "PermissionError",
     "evalue": "[WinError 32] The process cannot access the file because it is being used by another process: 'C:\\\\Users\\\\user\\\\Desktop\\\\python programs' -> 'C:\\\\Users\\\\user\\\\Desktop\\\\python programs'",
     "output_type": "error",
     "traceback": [
      "\u001b[1;31m---------------------------------------------------------------------------\u001b[0m",
      "\u001b[1;31mPermissionError\u001b[0m                           Traceback (most recent call last)",
      "\u001b[1;32m~\\AppData\\Local\\Temp/ipykernel_10112/3609830097.py\u001b[0m in \u001b[0;36m<module>\u001b[1;34m\u001b[0m\n\u001b[0;32m      1\u001b[0m \u001b[1;32mimport\u001b[0m \u001b[0mshutil\u001b[0m\u001b[1;33m\u001b[0m\u001b[1;33m\u001b[0m\u001b[0m\n\u001b[1;32m----> 2\u001b[1;33m \u001b[0mshutil\u001b[0m\u001b[1;33m.\u001b[0m\u001b[0mmove\u001b[0m\u001b[1;33m(\u001b[0m\u001b[1;34m\"C:\\\\Users\\\\user\\\\Desktop\\\\python programs\"\u001b[0m\u001b[1;33m,\u001b[0m\u001b[1;34m\"C:\\\\Users\\\\user\\\\Desktop\\\\python programs\"\u001b[0m\u001b[1;33m)\u001b[0m\u001b[1;33m\u001b[0m\u001b[1;33m\u001b[0m\u001b[0m\n\u001b[0m",
      "\u001b[1;32m~\\anaconda3\\lib\\shutil.py\u001b[0m in \u001b[0;36mmove\u001b[1;34m(src, dst, copy_function)\u001b[0m\n\u001b[0;32m    802\u001b[0m             \u001b[1;31m# We might be on a case insensitive filesystem,\u001b[0m\u001b[1;33m\u001b[0m\u001b[1;33m\u001b[0m\u001b[0m\n\u001b[0;32m    803\u001b[0m             \u001b[1;31m# perform the rename anyway.\u001b[0m\u001b[1;33m\u001b[0m\u001b[1;33m\u001b[0m\u001b[0m\n\u001b[1;32m--> 804\u001b[1;33m             \u001b[0mos\u001b[0m\u001b[1;33m.\u001b[0m\u001b[0mrename\u001b[0m\u001b[1;33m(\u001b[0m\u001b[0msrc\u001b[0m\u001b[1;33m,\u001b[0m \u001b[0mdst\u001b[0m\u001b[1;33m)\u001b[0m\u001b[1;33m\u001b[0m\u001b[1;33m\u001b[0m\u001b[0m\n\u001b[0m\u001b[0;32m    805\u001b[0m             \u001b[1;32mreturn\u001b[0m\u001b[1;33m\u001b[0m\u001b[1;33m\u001b[0m\u001b[0m\n\u001b[0;32m    806\u001b[0m \u001b[1;33m\u001b[0m\u001b[0m\n",
      "\u001b[1;31mPermissionError\u001b[0m: [WinError 32] The process cannot access the file because it is being used by another process: 'C:\\\\Users\\\\user\\\\Desktop\\\\python programs' -> 'C:\\\\Users\\\\user\\\\Desktop\\\\python programs'"
     ]
    }
   ],
   "source": [
    "import shutil\n",
    "shutil.move(\"C:\\\\Users\\\\user\\\\Desktop\\\\python programs\",\"C:\\\\Users\\\\user\\\\Desktop\\\\python programs\")"
   ]
  }
 ],
 "metadata": {
  "kernelspec": {
   "display_name": "Python 3 (ipykernel)",
   "language": "python",
   "name": "python3"
  },
  "language_info": {
   "codemirror_mode": {
    "name": "ipython",
    "version": 3
   },
   "file_extension": ".py",
   "mimetype": "text/x-python",
   "name": "python",
   "nbconvert_exporter": "python",
   "pygments_lexer": "ipython3",
   "version": "3.9.7"
  }
 },
 "nbformat": 4,
 "nbformat_minor": 5
}
