{
 "cells": [
  {
   "cell_type": "code",
   "execution_count": null,
   "id": "ab2a63cf",
   "metadata": {},
   "outputs": [],
   "source": [
    "Functions\n",
    "\n",
    "-Readability\n",
    "-Modularity\n",
    "-Reusability"
   ]
  },
  {
   "cell_type": "code",
   "execution_count": 1,
   "id": "2757259d",
   "metadata": {},
   "outputs": [
    {
     "data": {
      "text/plain": [
       "1500"
      ]
     },
     "execution_count": 1,
     "metadata": {},
     "output_type": "execute_result"
    }
   ],
   "source": [
    "a=1000\n",
    "b=500\n",
    "a+b"
   ]
  },
  {
   "cell_type": "code",
   "execution_count": null,
   "id": "a5a19072",
   "metadata": {},
   "outputs": [],
   "source": [
    "<return type> <function name((dtype),(dtype))\n",
    "{\n",
    "    ------\n",
    "    ------\n",
    "    ------\n",
    "    reurn value\n",
    "}"
   ]
  },
  {
   "cell_type": "code",
   "execution_count": null,
   "id": "5800c926",
   "metadata": {},
   "outputs": [],
   "source": [
    "def function name(value1,value2):\n",
    "    -----\n",
    "    ------\n",
    "    ------\n",
    "    ------"
   ]
  },
  {
   "cell_type": "code",
   "execution_count": 2,
   "id": "fc637cbd",
   "metadata": {
    "scrolled": true
   },
   "outputs": [
    {
     "ename": "IndentationError",
     "evalue": "expected an indented block (Temp/ipykernel_3024/1291688225.py, line 1)",
     "output_type": "error",
     "traceback": [
      "\u001b[1;36m  File \u001b[1;32m\"C:\\Users\\user\\AppData\\Local\\Temp/ipykernel_3024/1291688225.py\"\u001b[1;36m, line \u001b[1;32m1\u001b[0m\n\u001b[1;33m    def test(x,y):\u001b[0m\n\u001b[1;37m                  ^\u001b[0m\n\u001b[1;31mIndentationError\u001b[0m\u001b[1;31m:\u001b[0m expected an indented block\n"
     ]
    }
   ],
   "source": [
    "def test(x,y):"
   ]
  },
  {
   "cell_type": "code",
   "execution_count": 3,
   "id": "e00540fa",
   "metadata": {},
   "outputs": [],
   "source": [
    "def test1(x,y):\n",
    "    pass\n",
    "def test2(x,y):\n",
    "    pass\n",
    "def test3(x,y):\n",
    "    pass"
   ]
  },
  {
   "cell_type": "code",
   "execution_count": 4,
   "id": "f3683bb9",
   "metadata": {},
   "outputs": [
    {
     "data": {
      "text/plain": [
       "1500"
      ]
     },
     "execution_count": 4,
     "metadata": {},
     "output_type": "execute_result"
    }
   ],
   "source": [
    "a=1000\n",
    "b=500\n",
    "a+b"
   ]
  },
  {
   "cell_type": "markdown",
   "id": "5e706699",
   "metadata": {},
   "source": [
    "# Print statement"
   ]
  },
  {
   "cell_type": "code",
   "execution_count": 78,
   "id": "1eae49e2",
   "metadata": {},
   "outputs": [],
   "source": [
    "def test(a,b):\n",
    "    print(a+b)"
   ]
  },
  {
   "cell_type": "code",
   "execution_count": 79,
   "id": "5f77f2b2",
   "metadata": {},
   "outputs": [],
   "source": [
    "def test(a,b):\n",
    "    return(a+b)"
   ]
  },
  {
   "cell_type": "code",
   "execution_count": 80,
   "id": "b562baf0",
   "metadata": {},
   "outputs": [
    {
     "data": {
      "text/plain": [
       "40"
      ]
     },
     "execution_count": 80,
     "metadata": {},
     "output_type": "execute_result"
    }
   ],
   "source": [
    "test(10,30)"
   ]
  },
  {
   "cell_type": "code",
   "execution_count": 81,
   "id": "8cb06588",
   "metadata": {},
   "outputs": [],
   "source": [
    "def test1(b,m):\n",
    "    return b*m"
   ]
  },
  {
   "cell_type": "code",
   "execution_count": 82,
   "id": "8fd271a8",
   "metadata": {},
   "outputs": [
    {
     "data": {
      "text/plain": [
       "55"
      ]
     },
     "execution_count": 82,
     "metadata": {},
     "output_type": "execute_result"
    }
   ],
   "source": [
    "test1(11,5)"
   ]
  },
  {
   "cell_type": "code",
   "execution_count": 83,
   "id": "6b030917",
   "metadata": {},
   "outputs": [
    {
     "data": {
      "text/plain": [
       "61"
      ]
     },
     "execution_count": 83,
     "metadata": {},
     "output_type": "execute_result"
    }
   ],
   "source": [
    "test1(11,5)+6"
   ]
  },
  {
   "cell_type": "code",
   "execution_count": 86,
   "id": "df443094",
   "metadata": {},
   "outputs": [],
   "source": [
    "def test1(b,m):\n",
    "    print(b*m)"
   ]
  },
  {
   "cell_type": "code",
   "execution_count": 87,
   "id": "a0279c19",
   "metadata": {},
   "outputs": [
    {
     "name": "stdout",
     "output_type": "stream",
     "text": [
      "55\n"
     ]
    }
   ],
   "source": [
    "test1(11,5)"
   ]
  },
  {
   "cell_type": "code",
   "execution_count": 88,
   "id": "596cfd4b",
   "metadata": {},
   "outputs": [
    {
     "name": "stdout",
     "output_type": "stream",
     "text": [
      "55\n"
     ]
    },
    {
     "ename": "TypeError",
     "evalue": "unsupported operand type(s) for +: 'NoneType' and 'int'",
     "output_type": "error",
     "traceback": [
      "\u001b[1;31m---------------------------------------------------------------------------\u001b[0m",
      "\u001b[1;31mTypeError\u001b[0m                                 Traceback (most recent call last)",
      "\u001b[1;32m~\\AppData\\Local\\Temp/ipykernel_3024/1130163245.py\u001b[0m in \u001b[0;36m<module>\u001b[1;34m\u001b[0m\n\u001b[1;32m----> 1\u001b[1;33m \u001b[0mtest1\u001b[0m\u001b[1;33m(\u001b[0m\u001b[1;36m11\u001b[0m\u001b[1;33m,\u001b[0m\u001b[1;36m5\u001b[0m\u001b[1;33m)\u001b[0m\u001b[1;33m+\u001b[0m\u001b[1;36m6\u001b[0m\u001b[1;33m\u001b[0m\u001b[1;33m\u001b[0m\u001b[0m\n\u001b[0m",
      "\u001b[1;31mTypeError\u001b[0m: unsupported operand type(s) for +: 'NoneType' and 'int'"
     ]
    }
   ],
   "source": [
    "test1(11,5)+6"
   ]
  },
  {
   "cell_type": "code",
   "execution_count": 89,
   "id": "e70e28cf",
   "metadata": {},
   "outputs": [
    {
     "name": "stdout",
     "output_type": "stream",
     "text": [
      "60\n"
     ]
    },
    {
     "ename": "TypeError",
     "evalue": "unsupported operand type(s) for +: 'NoneType' and 'int'",
     "output_type": "error",
     "traceback": [
      "\u001b[1;31m---------------------------------------------------------------------------\u001b[0m",
      "\u001b[1;31mTypeError\u001b[0m                                 Traceback (most recent call last)",
      "\u001b[1;32m~\\AppData\\Local\\Temp/ipykernel_3024/1915426973.py\u001b[0m in \u001b[0;36m<module>\u001b[1;34m\u001b[0m\n\u001b[1;32m----> 1\u001b[1;33m \u001b[0mtest1\u001b[0m\u001b[1;33m(\u001b[0m\u001b[1;36m12\u001b[0m\u001b[1;33m,\u001b[0m\u001b[1;36m5\u001b[0m\u001b[1;33m)\u001b[0m\u001b[1;33m+\u001b[0m\u001b[1;36m6\u001b[0m\u001b[1;33m\u001b[0m\u001b[1;33m\u001b[0m\u001b[0m\n\u001b[0m",
      "\u001b[1;31mTypeError\u001b[0m: unsupported operand type(s) for +: 'NoneType' and 'int'"
     ]
    }
   ],
   "source": [
    "test1(12,5)+6"
   ]
  },
  {
   "cell_type": "code",
   "execution_count": 90,
   "id": "fd79566a",
   "metadata": {},
   "outputs": [
    {
     "name": "stdout",
     "output_type": "stream",
     "text": [
      "60\n"
     ]
    },
    {
     "data": {
      "text/plain": [
       "NoneType"
      ]
     },
     "execution_count": 90,
     "metadata": {},
     "output_type": "execute_result"
    }
   ],
   "source": [
    "type(test1(12,5))"
   ]
  },
  {
   "cell_type": "code",
   "execution_count": 20,
   "id": "cddd381a",
   "metadata": {},
   "outputs": [],
   "source": [
    "def test2(t,n,m):\n",
    "    return t+n"
   ]
  },
  {
   "cell_type": "code",
   "execution_count": 21,
   "id": "f4709734",
   "metadata": {
    "scrolled": true
   },
   "outputs": [
    {
     "data": {
      "text/plain": [
       "5"
      ]
     },
     "execution_count": 21,
     "metadata": {},
     "output_type": "execute_result"
    }
   ],
   "source": [
    "test2(2,3,1)"
   ]
  },
  {
   "cell_type": "code",
   "execution_count": 22,
   "id": "73499b8a",
   "metadata": {},
   "outputs": [
    {
     "data": {
      "text/plain": [
       "5"
      ]
     },
     "execution_count": 22,
     "metadata": {},
     "output_type": "execute_result"
    }
   ],
   "source": [
    "test2(2,3,6)"
   ]
  },
  {
   "cell_type": "code",
   "execution_count": 23,
   "id": "e863cb8a",
   "metadata": {},
   "outputs": [],
   "source": [
    "def test3(n,m): #n->3 m->2\n",
    "    return n*10,m*40,m+n\n",
    "    "
   ]
  },
  {
   "cell_type": "code",
   "execution_count": 24,
   "id": "00a26b90",
   "metadata": {},
   "outputs": [
    {
     "data": {
      "text/plain": [
       "function"
      ]
     },
     "execution_count": 24,
     "metadata": {},
     "output_type": "execute_result"
    }
   ],
   "source": [
    "type(test3)"
   ]
  },
  {
   "cell_type": "code",
   "execution_count": 25,
   "id": "ad9552d0",
   "metadata": {},
   "outputs": [
    {
     "data": {
      "text/plain": [
       "(30, 80, 5)"
      ]
     },
     "execution_count": 25,
     "metadata": {},
     "output_type": "execute_result"
    }
   ],
   "source": [
    "test3(3,2)"
   ]
  },
  {
   "cell_type": "code",
   "execution_count": 26,
   "id": "fbb81e91",
   "metadata": {},
   "outputs": [
    {
     "data": {
      "text/plain": [
       "tuple"
      ]
     },
     "execution_count": 26,
     "metadata": {},
     "output_type": "execute_result"
    }
   ],
   "source": [
    "type(test3(3,2))"
   ]
  },
  {
   "cell_type": "code",
   "execution_count": 27,
   "id": "3a0a61e1",
   "metadata": {},
   "outputs": [],
   "source": [
    "c,x,y=(test3(3,2))"
   ]
  },
  {
   "cell_type": "code",
   "execution_count": 28,
   "id": "17cb3a23",
   "metadata": {},
   "outputs": [
    {
     "data": {
      "text/plain": [
       "30"
      ]
     },
     "execution_count": 28,
     "metadata": {},
     "output_type": "execute_result"
    }
   ],
   "source": [
    "c"
   ]
  },
  {
   "cell_type": "code",
   "execution_count": 29,
   "id": "2b483a06",
   "metadata": {},
   "outputs": [
    {
     "data": {
      "text/plain": [
       "80"
      ]
     },
     "execution_count": 29,
     "metadata": {},
     "output_type": "execute_result"
    }
   ],
   "source": [
    "x"
   ]
  },
  {
   "cell_type": "code",
   "execution_count": 30,
   "id": "5b2a3718",
   "metadata": {},
   "outputs": [
    {
     "data": {
      "text/plain": [
       "5"
      ]
     },
     "execution_count": 30,
     "metadata": {},
     "output_type": "execute_result"
    }
   ],
   "source": [
    "y"
   ]
  },
  {
   "cell_type": "code",
   "execution_count": 34,
   "id": "f0116d4d",
   "metadata": {},
   "outputs": [],
   "source": [
    "_=10 #Placeholder"
   ]
  },
  {
   "cell_type": "code",
   "execution_count": 35,
   "id": "75cdb58d",
   "metadata": {},
   "outputs": [
    {
     "data": {
      "text/plain": [
       "10"
      ]
     },
     "execution_count": 35,
     "metadata": {},
     "output_type": "execute_result"
    }
   ],
   "source": [
    "_"
   ]
  },
  {
   "cell_type": "code",
   "execution_count": 36,
   "id": "8e2e9b82",
   "metadata": {},
   "outputs": [
    {
     "data": {
      "text/plain": [
       "int"
      ]
     },
     "execution_count": 36,
     "metadata": {},
     "output_type": "execute_result"
    }
   ],
   "source": [
    "type(_)"
   ]
  },
  {
   "cell_type": "code",
   "execution_count": 37,
   "id": "9bf6562d",
   "metadata": {},
   "outputs": [
    {
     "data": {
      "text/plain": [
       "(20, 280, 9)"
      ]
     },
     "execution_count": 37,
     "metadata": {},
     "output_type": "execute_result"
    }
   ],
   "source": [
    "a,b,c=test3(2,7)\n",
    "a,b,c"
   ]
  },
  {
   "cell_type": "code",
   "execution_count": 38,
   "id": "512be218",
   "metadata": {},
   "outputs": [],
   "source": [
    "_,_,_=test3(2,7)"
   ]
  },
  {
   "cell_type": "code",
   "execution_count": 39,
   "id": "a69b7105",
   "metadata": {},
   "outputs": [
    {
     "data": {
      "text/plain": [
       "9"
      ]
     },
     "execution_count": 39,
     "metadata": {},
     "output_type": "execute_result"
    }
   ],
   "source": [
    "_"
   ]
  },
  {
   "cell_type": "code",
   "execution_count": 40,
   "id": "c55885c0",
   "metadata": {},
   "outputs": [],
   "source": [
    "def test4():\n",
    "    print(\"this my first function\")\n",
    "    "
   ]
  },
  {
   "cell_type": "code",
   "execution_count": 41,
   "id": "b5882b76",
   "metadata": {},
   "outputs": [
    {
     "name": "stdout",
     "output_type": "stream",
     "text": [
      "this my first function\n"
     ]
    }
   ],
   "source": [
    "test4()"
   ]
  },
  {
   "cell_type": "code",
   "execution_count": 42,
   "id": "315364e2",
   "metadata": {},
   "outputs": [
    {
     "name": "stdout",
     "output_type": "stream",
     "text": [
      "this my first function\n"
     ]
    },
    {
     "ename": "TypeError",
     "evalue": "unsupported operand type(s) for +: 'NoneType' and 'str'",
     "output_type": "error",
     "traceback": [
      "\u001b[1;31m---------------------------------------------------------------------------\u001b[0m",
      "\u001b[1;31mTypeError\u001b[0m                                 Traceback (most recent call last)",
      "\u001b[1;32m~\\AppData\\Local\\Temp/ipykernel_3024/1510146870.py\u001b[0m in \u001b[0;36m<module>\u001b[1;34m\u001b[0m\n\u001b[1;32m----> 1\u001b[1;33m \u001b[0mm\u001b[0m\u001b[1;33m=\u001b[0m\u001b[0mtest4\u001b[0m\u001b[1;33m(\u001b[0m\u001b[1;33m)\u001b[0m\u001b[1;33m+\u001b[0m\u001b[1;34m\"bjjhuui\"\u001b[0m\u001b[1;33m\u001b[0m\u001b[1;33m\u001b[0m\u001b[0m\n\u001b[0m",
      "\u001b[1;31mTypeError\u001b[0m: unsupported operand type(s) for +: 'NoneType' and 'str'"
     ]
    }
   ],
   "source": [
    "m=test4()+\"bjjhuui\""
   ]
  },
  {
   "cell_type": "code",
   "execution_count": 43,
   "id": "cc8f3211",
   "metadata": {},
   "outputs": [],
   "source": [
    "def test4():\n",
    "    return\"this my first function\"\n",
    "    \n",
    "    "
   ]
  },
  {
   "cell_type": "code",
   "execution_count": 44,
   "id": "815a4dc8",
   "metadata": {},
   "outputs": [
    {
     "data": {
      "text/plain": [
       "'this my first function'"
      ]
     },
     "execution_count": 44,
     "metadata": {},
     "output_type": "execute_result"
    }
   ],
   "source": [
    "test4()"
   ]
  },
  {
   "cell_type": "code",
   "execution_count": 47,
   "id": "f2a2ac76",
   "metadata": {},
   "outputs": [],
   "source": [
    "m=test4()+\" bjjhuui\""
   ]
  },
  {
   "cell_type": "code",
   "execution_count": 48,
   "id": "e8ad5562",
   "metadata": {},
   "outputs": [
    {
     "data": {
      "text/plain": [
       "'this my first function bjjhuui'"
      ]
     },
     "execution_count": 48,
     "metadata": {},
     "output_type": "execute_result"
    }
   ],
   "source": [
    "m"
   ]
  },
  {
   "cell_type": "code",
   "execution_count": 49,
   "id": "a838ae30",
   "metadata": {},
   "outputs": [],
   "source": [
    "def test5(n):\n",
    "    return n*2"
   ]
  },
  {
   "cell_type": "code",
   "execution_count": 50,
   "id": "f094e930",
   "metadata": {},
   "outputs": [
    {
     "data": {
      "text/plain": [
       "[2, 3, 4, 5, 'xrtt', 2, 3, 4, 5, 'xrtt']"
      ]
     },
     "execution_count": 50,
     "metadata": {},
     "output_type": "execute_result"
    }
   ],
   "source": [
    "test5([2,3,4,5,\"xrtt\"])"
   ]
  },
  {
   "cell_type": "code",
   "execution_count": 51,
   "id": "b6eaa261",
   "metadata": {},
   "outputs": [
    {
     "name": "stdout",
     "output_type": "stream",
     "text": [
      "enter a number12\n"
     ]
    }
   ],
   "source": [
    "a=int(input(\"enter a number\"))"
   ]
  },
  {
   "cell_type": "code",
   "execution_count": 52,
   "id": "926ff105",
   "metadata": {},
   "outputs": [
    {
     "data": {
      "text/plain": [
       "int"
      ]
     },
     "execution_count": 52,
     "metadata": {},
     "output_type": "execute_result"
    }
   ],
   "source": [
    "type(a)"
   ]
  },
  {
   "cell_type": "code",
   "execution_count": 53,
   "id": "2dfd74ef",
   "metadata": {},
   "outputs": [],
   "source": [
    "def test5(n):\n",
    "    return n,n*2"
   ]
  },
  {
   "cell_type": "code",
   "execution_count": 54,
   "id": "af6caa8e",
   "metadata": {},
   "outputs": [
    {
     "data": {
      "text/plain": [
       "([2, 3, 4, 5], [2, 3, 4, 5, 2, 3, 4, 5])"
      ]
     },
     "execution_count": 54,
     "metadata": {},
     "output_type": "execute_result"
    }
   ],
   "source": [
    "test5([2,3,4,5]) #4,6,8,10"
   ]
  },
  {
   "cell_type": "code",
   "execution_count": 55,
   "id": "ff672f4f",
   "metadata": {},
   "outputs": [],
   "source": [
    "b=test5([2,3,4,5])"
   ]
  },
  {
   "cell_type": "code",
   "execution_count": 56,
   "id": "23eb93b5",
   "metadata": {},
   "outputs": [
    {
     "data": {
      "text/plain": [
       "([2, 3, 4, 5], [2, 3, 4, 5, 2, 3, 4, 5])"
      ]
     },
     "execution_count": 56,
     "metadata": {},
     "output_type": "execute_result"
    }
   ],
   "source": [
    "b"
   ]
  },
  {
   "cell_type": "code",
   "execution_count": 57,
   "id": "58effb35",
   "metadata": {},
   "outputs": [
    {
     "data": {
      "text/plain": [
       "[2, 3, 4, 5]"
      ]
     },
     "execution_count": 57,
     "metadata": {},
     "output_type": "execute_result"
    }
   ],
   "source": [
    "b[0]"
   ]
  },
  {
   "cell_type": "code",
   "execution_count": 58,
   "id": "4b519de4",
   "metadata": {},
   "outputs": [
    {
     "data": {
      "text/plain": [
       "[2, 3, 4, 5, 2, 3, 4, 5]"
      ]
     },
     "execution_count": 58,
     "metadata": {},
     "output_type": "execute_result"
    }
   ],
   "source": [
    "b[1]"
   ]
  },
  {
   "cell_type": "code",
   "execution_count": 59,
   "id": "cf780018",
   "metadata": {},
   "outputs": [],
   "source": [
    "def test6(n, m=90): #n->60\n",
    "    return n+m   #60 + 90 =150\n"
   ]
  },
  {
   "cell_type": "code",
   "execution_count": 60,
   "id": "ab2384af",
   "metadata": {},
   "outputs": [
    {
     "data": {
      "text/plain": [
       "150"
      ]
     },
     "execution_count": 60,
     "metadata": {},
     "output_type": "execute_result"
    }
   ],
   "source": [
    "test6(60)"
   ]
  },
  {
   "cell_type": "code",
   "execution_count": 61,
   "id": "ace82389",
   "metadata": {},
   "outputs": [
    {
     "data": {
      "text/plain": [
       "160"
      ]
     },
     "execution_count": 61,
     "metadata": {},
     "output_type": "execute_result"
    }
   ],
   "source": [
    "test6(60,100)"
   ]
  },
  {
   "cell_type": "code",
   "execution_count": 62,
   "id": "055f6c42",
   "metadata": {},
   "outputs": [],
   "source": [
    "def boolx(x=True,y=False):\n",
    "    return x+y"
   ]
  },
  {
   "cell_type": "code",
   "execution_count": 63,
   "id": "5569d2c2",
   "metadata": {},
   "outputs": [
    {
     "data": {
      "text/plain": [
       "1"
      ]
     },
     "execution_count": 63,
     "metadata": {},
     "output_type": "execute_result"
    }
   ],
   "source": [
    "boolx()"
   ]
  },
  {
   "cell_type": "code",
   "execution_count": 64,
   "id": "5b4237d0",
   "metadata": {},
   "outputs": [
    {
     "data": {
      "text/plain": [
       "8"
      ]
     },
     "execution_count": 64,
     "metadata": {},
     "output_type": "execute_result"
    }
   ],
   "source": [
    "boolx(False,8)"
   ]
  },
  {
   "cell_type": "code",
   "execution_count": 65,
   "id": "397a28a2",
   "metadata": {},
   "outputs": [],
   "source": [
    "def travel(bike=True,car=False):\n",
    "    plan_travel=bike or car\n",
    "    return bike,car,plan_travel"
   ]
  },
  {
   "cell_type": "code",
   "execution_count": 66,
   "id": "1b23d74f",
   "metadata": {},
   "outputs": [
    {
     "data": {
      "text/plain": [
       "(True, False, True)"
      ]
     },
     "execution_count": 66,
     "metadata": {},
     "output_type": "execute_result"
    }
   ],
   "source": [
    "travel() #function calling with default parameters"
   ]
  },
  {
   "cell_type": "code",
   "execution_count": 67,
   "id": "439ea52e",
   "metadata": {},
   "outputs": [
    {
     "data": {
      "text/plain": [
       "(False, False, False)"
      ]
     },
     "execution_count": 67,
     "metadata": {},
     "output_type": "execute_result"
    }
   ],
   "source": [
    "travel(False)"
   ]
  },
  {
   "cell_type": "code",
   "execution_count": 68,
   "id": "cd4cdf11",
   "metadata": {},
   "outputs": [
    {
     "data": {
      "text/plain": [
       "(True, True, True)"
      ]
     },
     "execution_count": 68,
     "metadata": {},
     "output_type": "execute_result"
    }
   ],
   "source": [
    "travel(car=True)"
   ]
  },
  {
   "cell_type": "code",
   "execution_count": 1,
   "id": "74a6eda0",
   "metadata": {},
   "outputs": [],
   "source": [
    "def test7(*args):\n",
    "           return args"
   ]
  },
  {
   "cell_type": "code",
   "execution_count": 2,
   "id": "f1ca2018",
   "metadata": {},
   "outputs": [
    {
     "ename": "SyntaxError",
     "evalue": "invalid syntax (Temp/ipykernel_5832/3308717027.py, line 1)",
     "output_type": "error",
     "traceback": [
      "\u001b[1;36m  File \u001b[1;32m\"C:\\Users\\user\\AppData\\Local\\Temp/ipykernel_5832/3308717027.py\"\u001b[1;36m, line \u001b[1;32m1\u001b[0m\n\u001b[1;33m    test7(\"Sudev\", \"Kunnikulath\",34,[34,4,4,5,,454,54])\u001b[0m\n\u001b[1;37m                                              ^\u001b[0m\n\u001b[1;31mSyntaxError\u001b[0m\u001b[1;31m:\u001b[0m invalid syntax\n"
     ]
    }
   ],
   "source": [
    "test7(\"Sudev\", \"Kunnikulath\",34,[34,4,4,5,,454,54])"
   ]
  },
  {
   "cell_type": "code",
   "execution_count": 5,
   "id": "90b26a53",
   "metadata": {},
   "outputs": [],
   "source": [
    "list1=[10,23,45,56,67]"
   ]
  },
  {
   "cell_type": "code",
   "execution_count": 6,
   "id": "f56d109f",
   "metadata": {},
   "outputs": [
    {
     "name": "stdout",
     "output_type": "stream",
     "text": [
      "10\n",
      "23\n",
      "45\n",
      "56\n",
      "67\n"
     ]
    }
   ],
   "source": [
    "for i in list1:\n",
    "    print(i)"
   ]
  },
  {
   "cell_type": "code",
   "execution_count": 5,
   "id": "85a733a8",
   "metadata": {},
   "outputs": [],
   "source": [
    "def test7(*args):  #Labelled argument args ->[11,12,13,14]\n",
    "    l=[]\n",
    "    for i in args:\n",
    "        #l.append(i)\n",
    "        l=l+i\n",
    "    return l\n",
    "    "
   ]
  },
  {
   "cell_type": "code",
   "execution_count": 6,
   "id": "76776b3e",
   "metadata": {},
   "outputs": [
    {
     "data": {
      "text/plain": [
       "[11, 12, 13, 14]"
      ]
     },
     "execution_count": 6,
     "metadata": {},
     "output_type": "execute_result"
    }
   ],
   "source": [
    "test7([11,12,13,14])"
   ]
  },
  {
   "cell_type": "code",
   "execution_count": 9,
   "id": "d2c62fd4",
   "metadata": {},
   "outputs": [
    {
     "data": {
      "text/plain": [
       "[11, 12, 13, 14, 34, 4, 4, 5, 454, 54]"
      ]
     },
     "execution_count": 9,
     "metadata": {},
     "output_type": "execute_result"
    }
   ],
   "source": [
    "test7([11,12,13,14],[34,4,4,5,454,54])"
   ]
  },
  {
   "cell_type": "code",
   "execution_count": 7,
   "id": "052f229c",
   "metadata": {},
   "outputs": [],
   "source": [
    "def test7(l):  #L->[11,12,13,14]\n",
    "    m=[]\n",
    "    for i in m:\n",
    "        #L.append(i)\n",
    "        m=m+i\n",
    "    return m"
   ]
  },
  {
   "cell_type": "code",
   "execution_count": 8,
   "id": "bb1d6830",
   "metadata": {},
   "outputs": [
    {
     "data": {
      "text/plain": [
       "[]"
      ]
     },
     "execution_count": 8,
     "metadata": {},
     "output_type": "execute_result"
    }
   ],
   "source": [
    "test7([11,12,13,34])"
   ]
  },
  {
   "cell_type": "code",
   "execution_count": 9,
   "id": "30b90048",
   "metadata": {},
   "outputs": [
    {
     "data": {
      "text/plain": [
       "[]"
      ]
     },
     "execution_count": 9,
     "metadata": {},
     "output_type": "execute_result"
    }
   ],
   "source": [
    "test7([[11,12,13,34],[34,4,4,5,454,54]])"
   ]
  },
  {
   "cell_type": "markdown",
   "id": "15939439",
   "metadata": {},
   "source": [
    "# Positional Arguments"
   ]
  },
  {
   "cell_type": "code",
   "execution_count": 14,
   "id": "9a53b777",
   "metadata": {},
   "outputs": [],
   "source": [
    "def test8(*args):\n",
    "    return[i for i in args]"
   ]
  },
  {
   "cell_type": "code",
   "execution_count": 15,
   "id": "85a96bb4",
   "metadata": {},
   "outputs": [
    {
     "data": {
      "text/plain": [
       "[[1, 2, 3], [4, 5, 6], ['ced', True, (34+5j)]]"
      ]
     },
     "execution_count": 15,
     "metadata": {},
     "output_type": "execute_result"
    }
   ],
   "source": [
    "test8([1,2,3],[4,5,6],[\"ced\",True,34+5j])"
   ]
  },
  {
   "cell_type": "code",
   "execution_count": 16,
   "id": "dbb0a285",
   "metadata": {},
   "outputs": [
    {
     "data": {
      "text/plain": [
       "[123, 'fegfr', [1, 2, 3], [4, 5, 6], ['ced', True, (34+5j)]]"
      ]
     },
     "execution_count": 16,
     "metadata": {},
     "output_type": "execute_result"
    }
   ],
   "source": [
    "test8(123,\"fegfr\",[1,2,3],[4,5,6],[\"ced\",True,34+5j])"
   ]
  },
  {
   "cell_type": "code",
   "execution_count": 17,
   "id": "3bb051b1",
   "metadata": {},
   "outputs": [],
   "source": [
    "def test7(*args):\n",
    "    l=[]\n",
    "    for i in args:\n",
    "        l.append(i)\n",
    "        #l=l+i\n",
    "    return l"
   ]
  },
  {
   "cell_type": "code",
   "execution_count": 18,
   "id": "72fdc19a",
   "metadata": {},
   "outputs": [
    {
     "data": {
      "text/plain": [
       "[123, 'fegfr', [1, 2, 3], [4, 5, 6], ['ced', True, (34+5j)]]"
      ]
     },
     "execution_count": 18,
     "metadata": {},
     "output_type": "execute_result"
    }
   ],
   "source": [
    "test7(123,\"fegfr\",[1,2,3],[4,5,6],[\"ced\",True,34+5j])"
   ]
  },
  {
   "cell_type": "code",
   "execution_count": 19,
   "id": "914f2f20",
   "metadata": {},
   "outputs": [],
   "source": [
    "def test9(*args):\n",
    "    l=[]\n",
    "    for i in args:\n",
    "        if type(i)==list:\n",
    "            #l.append(i)\n",
    "            l=l+i\n",
    "    return l"
   ]
  },
  {
   "cell_type": "code",
   "execution_count": 20,
   "id": "6f617797",
   "metadata": {},
   "outputs": [
    {
     "data": {
      "text/plain": [
       "[1, 2, 3, 4, 5, 6, 'ced', True, (34+5j)]"
      ]
     },
     "execution_count": 20,
     "metadata": {},
     "output_type": "execute_result"
    }
   ],
   "source": [
    "test9(123,\"fegfr\",[1,2,3],[4,5,6],[\"ced\",True,34+5j])"
   ]
  },
  {
   "cell_type": "markdown",
   "id": "9a386422",
   "metadata": {},
   "source": [
    "# Keyword arguments"
   ]
  },
  {
   "cell_type": "code",
   "execution_count": 31,
   "id": "9714bc1a",
   "metadata": {},
   "outputs": [],
   "source": [
    "def test10(*args):  #positional arguments\n",
    "    return args\n",
    "   "
   ]
  },
  {
   "cell_type": "code",
   "execution_count": 32,
   "id": "969c061d",
   "metadata": {},
   "outputs": [
    {
     "data": {
      "text/plain": [
       "(4, 5, 67)"
      ]
     },
     "execution_count": 32,
     "metadata": {},
     "output_type": "execute_result"
    }
   ],
   "source": [
    "test10(4,5,67)"
   ]
  },
  {
   "cell_type": "code",
   "execution_count": 33,
   "id": "5c864f00",
   "metadata": {},
   "outputs": [],
   "source": [
    "def test10(**kwargs):  #keyword arguments\n",
    "    return kwargs\n",
    "   "
   ]
  },
  {
   "cell_type": "code",
   "execution_count": 34,
   "id": "c5991597",
   "metadata": {
    "scrolled": true
   },
   "outputs": [
    {
     "ename": "TypeError",
     "evalue": "test10() takes 0 positional arguments but 3 were given",
     "output_type": "error",
     "traceback": [
      "\u001b[1;31m---------------------------------------------------------------------------\u001b[0m",
      "\u001b[1;31mTypeError\u001b[0m                                 Traceback (most recent call last)",
      "\u001b[1;32m~\\AppData\\Local\\Temp/ipykernel_2316/278269327.py\u001b[0m in \u001b[0;36m<module>\u001b[1;34m\u001b[0m\n\u001b[1;32m----> 1\u001b[1;33m \u001b[0mtest10\u001b[0m\u001b[1;33m(\u001b[0m\u001b[1;36m4\u001b[0m\u001b[1;33m,\u001b[0m\u001b[1;36m5\u001b[0m\u001b[1;33m,\u001b[0m\u001b[1;36m67\u001b[0m\u001b[1;33m)\u001b[0m\u001b[1;33m\u001b[0m\u001b[1;33m\u001b[0m\u001b[0m\n\u001b[0m",
      "\u001b[1;31mTypeError\u001b[0m: test10() takes 0 positional arguments but 3 were given"
     ]
    }
   ],
   "source": [
    "test10(4,5,67)"
   ]
  },
  {
   "cell_type": "code",
   "execution_count": 35,
   "id": "8525d2a6",
   "metadata": {},
   "outputs": [
    {
     "data": {
      "text/plain": [
       "{'a': 8, 'b': 9, 'c': 10}"
      ]
     },
     "execution_count": 35,
     "metadata": {},
     "output_type": "execute_result"
    }
   ],
   "source": [
    "test10(a=8,b=9,c=10)"
   ]
  },
  {
   "cell_type": "code",
   "execution_count": 36,
   "id": "30de6a94",
   "metadata": {},
   "outputs": [
    {
     "ename": "TypeError",
     "evalue": "test10() takes 0 positional arguments but 1 was given",
     "output_type": "error",
     "traceback": [
      "\u001b[1;31m---------------------------------------------------------------------------\u001b[0m",
      "\u001b[1;31mTypeError\u001b[0m                                 Traceback (most recent call last)",
      "\u001b[1;32m~\\AppData\\Local\\Temp/ipykernel_2316/2410598013.py\u001b[0m in \u001b[0;36m<module>\u001b[1;34m\u001b[0m\n\u001b[1;32m----> 1\u001b[1;33m \u001b[0mtest10\u001b[0m\u001b[1;33m(\u001b[0m\u001b[1;33m{\u001b[0m\u001b[1;34m'a'\u001b[0m\u001b[1;33m:\u001b[0m\u001b[1;36m8\u001b[0m\u001b[1;33m,\u001b[0m\u001b[1;34m'b'\u001b[0m\u001b[1;33m:\u001b[0m\u001b[1;36m9\u001b[0m\u001b[1;33m,\u001b[0m\u001b[1;34m'c'\u001b[0m\u001b[1;33m:\u001b[0m\u001b[1;36m10\u001b[0m\u001b[1;33m}\u001b[0m\u001b[1;33m)\u001b[0m\u001b[1;33m\u001b[0m\u001b[1;33m\u001b[0m\u001b[0m\n\u001b[0m",
      "\u001b[1;31mTypeError\u001b[0m: test10() takes 0 positional arguments but 1 was given"
     ]
    }
   ],
   "source": [
    "test10({'a':8,'b':9,'c':10})"
   ]
  },
  {
   "cell_type": "code",
   "execution_count": 38,
   "id": "08d58bf0",
   "metadata": {},
   "outputs": [
    {
     "data": {
      "text/plain": [
       "{'a': 'Sudev', 'b': [True, 25, 11], 'c': (10+6j)}"
      ]
     },
     "execution_count": 38,
     "metadata": {},
     "output_type": "execute_result"
    }
   ],
   "source": [
    "test10(a=\"Sudev\",b=[True ,25,11],c=10+6j)"
   ]
  },
  {
   "cell_type": "code",
   "execution_count": 39,
   "id": "640d1685",
   "metadata": {},
   "outputs": [],
   "source": [
    "def test11(*args):  \n",
    "    return args\n",
    "   "
   ]
  },
  {
   "cell_type": "code",
   "execution_count": 40,
   "id": "8e42d16b",
   "metadata": {},
   "outputs": [
    {
     "data": {
      "text/plain": [
       "(12, 'nji', [1, 2, 3, 4], (12+3j))"
      ]
     },
     "execution_count": 40,
     "metadata": {},
     "output_type": "execute_result"
    }
   ],
   "source": [
    "test11(12,\"nji\",[1,2,3,4],12+3j)"
   ]
  },
  {
   "cell_type": "markdown",
   "id": "ff29e4bd",
   "metadata": {},
   "source": [
    "# Task-1\n",
    "Create a function which creates any number of mixed data and try to create a list of seperate data based on data type and return multiple results."
   ]
  },
  {
   "cell_type": "code",
   "execution_count": 41,
   "id": "cce0cb71",
   "metadata": {},
   "outputs": [],
   "source": [
    "def test17(*args):\n",
    "    l=[]\n",
    "    l1=[]\n",
    "    for i in args:\n",
    "        if i==int:\n",
    "            l.append(i)\n",
    "        if i==float:\n",
    "            l1.append(i)\n",
    "    return args"
   ]
  },
  {
   "cell_type": "code",
   "execution_count": 42,
   "id": "182fa8c6",
   "metadata": {},
   "outputs": [
    {
     "data": {
      "text/plain": [
       "(3,\n",
       " 4,\n",
       " 5,\n",
       " 6,\n",
       " 7,\n",
       " 8,\n",
       " 9.9,\n",
       " True,\n",
       " 'strin1',\n",
       " (1, 2, 3),\n",
       " {'a': 1, 'b': 2, 'c': 3},\n",
       " False,\n",
       " [1, 2, 3, 4, 5],\n",
       " (4+5j))"
      ]
     },
     "execution_count": 42,
     "metadata": {},
     "output_type": "execute_result"
    }
   ],
   "source": [
    "test17(3,4,5,6,7,8,9.9,True,\"strin1\",(1,2,3),{'a':1,'b':2,'c':3},False,[1,2,3,4,5],4+5j)"
   ]
  },
  {
   "cell_type": "code",
   "execution_count": 43,
   "id": "d1011f4c",
   "metadata": {},
   "outputs": [],
   "source": [
    "#1\n",
    "def fun1(*args):\n",
    "    a_int=[]\n",
    "    b_float=[]\n",
    "    c_str=[]\n",
    "    d_tuple=[]\n",
    "    e_list=[]\n",
    "    f_dict=[]\n",
    "    g_bool=[]\n",
    "    h_complx=[]\n",
    "    for i in args: # args->3,4,5,6,7,8,9.9,True,\"strin1\",(1,2,3),{'a':1,'b':2,'c':3},False,[1,2,3,4,5],4+5j\n",
    "        if type(i)==int:\n",
    "            a_int.append(i)\n",
    "        if type(i)==float:\n",
    "            b_float.append(i)\n",
    "        if type(i)==str:\n",
    "            c_str.append(i)\n",
    "        if type(i)==tuple:\n",
    "            d_tuple.append(i)\n",
    "        if type(i)==list:\n",
    "            e_list.append(i)\n",
    "        if type(i)==dict:\n",
    "            f_dict.append(i)\n",
    "        if type(i)==bool:\n",
    "            g_bool.append(i)\n",
    "        if type(i)==complex:\n",
    "            h_complx.append(i)\n",
    "            \n",
    "    return a_int, b_float,c_str,d_tuple,e_list,f_dict,g_bool,h_complx\n",
    "    \n",
    "  \n",
    "            \n",
    "            \n",
    "        \n",
    "            \n",
    "        \n",
    "            "
   ]
  },
  {
   "cell_type": "code",
   "execution_count": 44,
   "id": "3bd27444",
   "metadata": {},
   "outputs": [
    {
     "data": {
      "text/plain": [
       "([3, 4, 5, 6, 7, 8],\n",
       " [9.9],\n",
       " ['strin1'],\n",
       " [(1, 2, 3)],\n",
       " [[1, 2, 3, 4, 5]],\n",
       " [{'a': 1, 'b': 2, 'c': 3}],\n",
       " [True, False],\n",
       " [(4+5j)])"
      ]
     },
     "execution_count": 44,
     "metadata": {},
     "output_type": "execute_result"
    }
   ],
   "source": [
    "fun1(3,4,5,6,7,8,9.9,True,\"strin1\",(1,2,3),{'a':1,'b':2,'c':3},False,[1,2,3,4,5],4+5j)"
   ]
  },
  {
   "cell_type": "code",
   "execution_count": 45,
   "id": "a2aae5d3",
   "metadata": {},
   "outputs": [],
   "source": [
    "#1.\n",
    "def test18(*args):\n",
    "    dt={}\n",
    "    for i in args: \n",
    "        if type(i) in dt: #\n",
    "            dt[type(i)].append(i)\n",
    "        else:\n",
    "            dt[type(i)]=[i]\n",
    "     \n",
    "    return dt"
   ]
  },
  {
   "cell_type": "code",
   "execution_count": 46,
   "id": "daa6f451",
   "metadata": {},
   "outputs": [
    {
     "data": {
      "text/plain": [
       "{int: [1, 2, 3],\n",
       " list: [[5, 6, 7, 8]],\n",
       " str: ['fefe', 'hi'],\n",
       " complex: [(6+5j)],\n",
       " bool: [True]}"
      ]
     },
     "execution_count": 46,
     "metadata": {},
     "output_type": "execute_result"
    }
   ],
   "source": [
    "test18(1,2,3,[5,6,7,8],\"fefe\",\"hi\",6+5j,True)"
   ]
  },
  {
   "cell_type": "markdown",
   "id": "11c63bae",
   "metadata": {},
   "source": [
    "# TASK 2\n",
    "Create a function which will be able to use \"args\" and\"kwargs\"and it will be able to do all the list value concatenation and return a list."
   ]
  },
  {
   "cell_type": "code",
   "execution_count": 18,
   "id": "0ba7979c",
   "metadata": {},
   "outputs": [],
   "source": [
    "#2\n",
    "def fun2(*args,**kwargs): #args->[4,5,6,7],[8,9,10],10,20,30,\"niui\",kwargs->m=[1,2,3,4]\n",
    "    l=[i for i in args if type(i)==list]\n",
    "    d=[i[1] for i in kwargs.items() if type(i[1]==list)]\n",
    "    return l,d"
   ]
  },
  {
   "cell_type": "code",
   "execution_count": 19,
   "id": "893a4d5d",
   "metadata": {},
   "outputs": [
    {
     "data": {
      "text/plain": [
       "([[4, 5, 6, 7], [8, 9, 10]], [[1, 2, 3, 4]])"
      ]
     },
     "execution_count": 19,
     "metadata": {},
     "output_type": "execute_result"
    }
   ],
   "source": [
    "fun2([4,5,6,7],[8,9,10],10,20,30,\"niui\",m=[1,2,3,4])"
   ]
  },
  {
   "cell_type": "code",
   "execution_count": 51,
   "id": "7d4db8dc",
   "metadata": {},
   "outputs": [],
   "source": [
    "def test18(**kwargs):\n",
    "    return kwargs"
   ]
  },
  {
   "cell_type": "code",
   "execution_count": 52,
   "id": "75058482",
   "metadata": {},
   "outputs": [
    {
     "data": {
      "text/plain": [
       "{'a': 12, 'b': [4, 5, 6, 7], 'c': True, 'd': ['Priyanka', 5.67], 'e': (6+7j)}"
      ]
     },
     "execution_count": 52,
     "metadata": {},
     "output_type": "execute_result"
    }
   ],
   "source": [
    "test18(a=12,b=[4,5,6,7],c=True,d=[\"Priyanka\",5.67],e=6+7j)"
   ]
  },
  {
   "cell_type": "code",
   "execution_count": 10,
   "id": "76f9ec60",
   "metadata": {},
   "outputs": [],
   "source": [
    "def test18(**kwargs):\n",
    "    for i in kwargs.items():\n",
    "        print(i)\n",
    "    return kwargs"
   ]
  },
  {
   "cell_type": "code",
   "execution_count": 11,
   "id": "f5afad81",
   "metadata": {},
   "outputs": [
    {
     "name": "stdout",
     "output_type": "stream",
     "text": [
      "('a', 12)\n",
      "('b', [4, 5, 6, 7])\n",
      "('c', True)\n",
      "('d', ['Priyanka', 5.67])\n",
      "('e', (6+7j))\n"
     ]
    },
    {
     "data": {
      "text/plain": [
       "{'a': 12, 'b': [4, 5, 6, 7], 'c': True, 'd': ['Priyanka', 5.67], 'e': (6+7j)}"
      ]
     },
     "execution_count": 11,
     "metadata": {},
     "output_type": "execute_result"
    }
   ],
   "source": [
    "test18(a=12,b=[4,5,6,7],c=True,d=[\"Priyanka\",5.67],e=6+7j)"
   ]
  },
  {
   "cell_type": "code",
   "execution_count": 63,
   "id": "db04935f",
   "metadata": {},
   "outputs": [],
   "source": [
    "def test18(**kwargs):\n",
    "    for i in kwargs.items():\n",
    "        if type(i[1])==list:\n",
    "            if\"Priyanka\" in i[1]:\n",
    "                print(\"I AM ABLE TO FIND A NAME IN A INPUT DATA\")\n",
    "                print(i[1])\n",
    "    return kwargs"
   ]
  },
  {
   "cell_type": "code",
   "execution_count": 64,
   "id": "12be6680",
   "metadata": {},
   "outputs": [
    {
     "name": "stdout",
     "output_type": "stream",
     "text": [
      "I AM ABLE TO FIND A NAME IN A INPUT DATA\n",
      "['Priyanka', 5.67]\n"
     ]
    },
    {
     "data": {
      "text/plain": [
       "{'a': 12, 'b': [4, 5, 6, 7], 'c': True, 'd': ['Priyanka', 5.67], 'e': (6+7j)}"
      ]
     },
     "execution_count": 64,
     "metadata": {},
     "output_type": "execute_result"
    }
   ],
   "source": [
    "test18(a=12,b=[4,5,6,7],c=True,d=[\"Priyanka\",5.67],e=6+7j)"
   ]
  },
  {
   "cell_type": "code",
   "execution_count": 65,
   "id": "455311d5",
   "metadata": {},
   "outputs": [],
   "source": [
    "d={'a':12,'b':[4,5,6,7],'c':True,'d':[\"Priyanka\",5.67],'e':6+7j}"
   ]
  },
  {
   "cell_type": "code",
   "execution_count": 66,
   "id": "798238b5",
   "metadata": {},
   "outputs": [
    {
     "data": {
      "text/plain": [
       "dict_items([('a', 12), ('b', [4, 5, 6, 7]), ('c', True), ('d', ['Priyanka', 5.67]), ('e', (6+7j))])"
      ]
     },
     "execution_count": 66,
     "metadata": {},
     "output_type": "execute_result"
    }
   ],
   "source": [
    "d.items()"
   ]
  },
  {
   "cell_type": "code",
   "execution_count": 13,
   "id": "52b5ddc0",
   "metadata": {},
   "outputs": [],
   "source": [
    "def test18(**kwargs):\n",
    "    for i in kwargs.values():\n",
    "        if type(i)==list:\n",
    "            if\"Priyanka\" in i:\n",
    "                print(\"I AM ABLE TO FIND A NAME IN A INPUT DATA\")\n",
    "                print(i[1])\n",
    "    return kwargs"
   ]
  },
  {
   "cell_type": "code",
   "execution_count": 14,
   "id": "ba4a0cd8",
   "metadata": {},
   "outputs": [
    {
     "name": "stdout",
     "output_type": "stream",
     "text": [
      "I AM ABLE TO FIND A NAME IN A INPUT DATA\n",
      "5.67\n"
     ]
    },
    {
     "data": {
      "text/plain": [
       "{'a': 12, 'b': [4, 5, 6, 7], 'c': True, 'd': ['Priyanka', 5.67], 'e': (6+7j)}"
      ]
     },
     "execution_count": 14,
     "metadata": {},
     "output_type": "execute_result"
    }
   ],
   "source": [
    "test18(a=12,b=[4,5,6,7],c=True,d=[\"Priyanka\",5.67],e=6+7j)"
   ]
  },
  {
   "cell_type": "code",
   "execution_count": null,
   "id": "44a2d04b",
   "metadata": {},
   "outputs": [],
   "source": []
  }
 ],
 "metadata": {
  "kernelspec": {
   "display_name": "Python 3 (ipykernel)",
   "language": "python",
   "name": "python3"
  },
  "language_info": {
   "codemirror_mode": {
    "name": "ipython",
    "version": 3
   },
   "file_extension": ".py",
   "mimetype": "text/x-python",
   "name": "python",
   "nbconvert_exporter": "python",
   "pygments_lexer": "ipython3",
   "version": "3.9.7"
  }
 },
 "nbformat": 4,
 "nbformat_minor": 5
}
