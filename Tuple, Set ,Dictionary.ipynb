{
 "cells": [
  {
   "cell_type": "markdown",
   "id": "83c9371b",
   "metadata": {},
   "source": [
    "# Tuple"
   ]
  },
  {
   "cell_type": "code",
   "execution_count": 20,
   "id": "f7cd43b2",
   "metadata": {},
   "outputs": [],
   "source": [
    "l=list([10,20])"
   ]
  },
  {
   "cell_type": "code",
   "execution_count": 21,
   "id": "7d7bd1fe",
   "metadata": {},
   "outputs": [
    {
     "data": {
      "text/plain": [
       "[10, 20]"
      ]
     },
     "execution_count": 21,
     "metadata": {},
     "output_type": "execute_result"
    }
   ],
   "source": [
    "l"
   ]
  },
  {
   "cell_type": "code",
   "execution_count": 22,
   "id": "0ebd4069",
   "metadata": {},
   "outputs": [
    {
     "data": {
      "text/plain": [
       "list"
      ]
     },
     "execution_count": 22,
     "metadata": {},
     "output_type": "execute_result"
    }
   ],
   "source": [
    "type(l)"
   ]
  },
  {
   "cell_type": "code",
   "execution_count": 23,
   "id": "3e4f2ef8",
   "metadata": {},
   "outputs": [],
   "source": [
    "t=()"
   ]
  },
  {
   "cell_type": "code",
   "execution_count": 24,
   "id": "fb783590",
   "metadata": {},
   "outputs": [
    {
     "data": {
      "text/plain": [
       "tuple"
      ]
     },
     "execution_count": 24,
     "metadata": {},
     "output_type": "execute_result"
    }
   ],
   "source": [
    "type(t)"
   ]
  },
  {
   "cell_type": "code",
   "execution_count": 25,
   "id": "532b0c31",
   "metadata": {},
   "outputs": [],
   "source": [
    "l1=[234,34,\"Python\",3.45,True]"
   ]
  },
  {
   "cell_type": "code",
   "execution_count": 26,
   "id": "d7672be4",
   "metadata": {},
   "outputs": [
    {
     "data": {
      "text/plain": [
       "list"
      ]
     },
     "execution_count": 26,
     "metadata": {},
     "output_type": "execute_result"
    }
   ],
   "source": [
    "type(l1)"
   ]
  },
  {
   "cell_type": "code",
   "execution_count": 27,
   "id": "ee5291e7",
   "metadata": {},
   "outputs": [],
   "source": [
    "t1=(234,34,\"Python\",3.45,True)"
   ]
  },
  {
   "cell_type": "code",
   "execution_count": 28,
   "id": "ea0da575",
   "metadata": {},
   "outputs": [
    {
     "data": {
      "text/plain": [
       "(234, 34, 'Python', 3.45)"
      ]
     },
     "execution_count": 28,
     "metadata": {},
     "output_type": "execute_result"
    }
   ],
   "source": [
    "t1[0:4]"
   ]
  },
  {
   "cell_type": "code",
   "execution_count": 29,
   "id": "51b587da",
   "metadata": {},
   "outputs": [
    {
     "data": {
      "text/plain": [
       "(True, 3.45, 'Python', 34, 234)"
      ]
     },
     "execution_count": 29,
     "metadata": {},
     "output_type": "execute_result"
    }
   ],
   "source": [
    "t1[::-1]"
   ]
  },
  {
   "cell_type": "code",
   "execution_count": 30,
   "id": "0da61d07",
   "metadata": {},
   "outputs": [
    {
     "data": {
      "text/plain": [
       "[234, 34, 'Python', 3.45, True]"
      ]
     },
     "execution_count": 30,
     "metadata": {},
     "output_type": "execute_result"
    }
   ],
   "source": [
    "l1"
   ]
  },
  {
   "cell_type": "code",
   "execution_count": 31,
   "id": "cb108a1d",
   "metadata": {},
   "outputs": [
    {
     "data": {
      "text/plain": [
       "234"
      ]
     },
     "execution_count": 31,
     "metadata": {},
     "output_type": "execute_result"
    }
   ],
   "source": [
    "l1[0]"
   ]
  },
  {
   "cell_type": "code",
   "execution_count": 32,
   "id": "06e6547b",
   "metadata": {},
   "outputs": [
    {
     "data": {
      "text/plain": [
       "[234, 34, 'Python', 3.45, True]"
      ]
     },
     "execution_count": 32,
     "metadata": {},
     "output_type": "execute_result"
    }
   ],
   "source": [
    "l1"
   ]
  },
  {
   "cell_type": "code",
   "execution_count": 33,
   "id": "2167e251",
   "metadata": {},
   "outputs": [
    {
     "data": {
      "text/plain": [
       "(234, 34, 'Python', 3.45, True)"
      ]
     },
     "execution_count": 33,
     "metadata": {},
     "output_type": "execute_result"
    }
   ],
   "source": [
    "t1"
   ]
  },
  {
   "cell_type": "code",
   "execution_count": 34,
   "id": "946a1547",
   "metadata": {},
   "outputs": [
    {
     "ename": "TypeError",
     "evalue": "'tuple' object does not support item assignment",
     "output_type": "error",
     "traceback": [
      "\u001b[1;31m---------------------------------------------------------------------------\u001b[0m",
      "\u001b[1;31mTypeError\u001b[0m                                 Traceback (most recent call last)",
      "\u001b[1;32m~\\AppData\\Local\\Temp/ipykernel_9296/1629432795.py\u001b[0m in \u001b[0;36m<module>\u001b[1;34m\u001b[0m\n\u001b[1;32m----> 1\u001b[1;33m \u001b[0mt1\u001b[0m\u001b[1;33m[\u001b[0m\u001b[1;36m1\u001b[0m\u001b[1;33m]\u001b[0m\u001b[1;33m=\u001b[0m\u001b[1;34m\"DS\"\u001b[0m\u001b[1;33m\u001b[0m\u001b[1;33m\u001b[0m\u001b[0m\n\u001b[0m",
      "\u001b[1;31mTypeError\u001b[0m: 'tuple' object does not support item assignment"
     ]
    }
   ],
   "source": [
    "t1[1]=\"DS\""
   ]
  },
  {
   "cell_type": "code",
   "execution_count": 35,
   "id": "2d558089",
   "metadata": {},
   "outputs": [],
   "source": [
    "l1[0]=\"Data Science\""
   ]
  },
  {
   "cell_type": "code",
   "execution_count": 36,
   "id": "c3586755",
   "metadata": {},
   "outputs": [
    {
     "data": {
      "text/plain": [
       "['Data Science', 34, 'Python', 3.45, True]"
      ]
     },
     "execution_count": 36,
     "metadata": {},
     "output_type": "execute_result"
    }
   ],
   "source": [
    "l1"
   ]
  },
  {
   "cell_type": "code",
   "execution_count": 37,
   "id": "80cec931",
   "metadata": {},
   "outputs": [
    {
     "data": {
      "text/plain": [
       "(234, 34, 'Python', 3.45, True)"
      ]
     },
     "execution_count": 37,
     "metadata": {},
     "output_type": "execute_result"
    }
   ],
   "source": [
    "t1"
   ]
  },
  {
   "cell_type": "code",
   "execution_count": 38,
   "id": "272c582a",
   "metadata": {},
   "outputs": [],
   "source": [
    "l2=list(t1)"
   ]
  },
  {
   "cell_type": "code",
   "execution_count": 39,
   "id": "63c3b14f",
   "metadata": {},
   "outputs": [
    {
     "data": {
      "text/plain": [
       "[234, 34, 'Python', 3.45, True]"
      ]
     },
     "execution_count": 39,
     "metadata": {},
     "output_type": "execute_result"
    }
   ],
   "source": [
    "l2"
   ]
  },
  {
   "cell_type": "code",
   "execution_count": 40,
   "id": "e7374751",
   "metadata": {},
   "outputs": [],
   "source": [
    "l2[2]=\"vhgy\""
   ]
  },
  {
   "cell_type": "code",
   "execution_count": 41,
   "id": "54eea441",
   "metadata": {},
   "outputs": [
    {
     "data": {
      "text/plain": [
       "[234, 34, 'vhgy', 3.45, True]"
      ]
     },
     "execution_count": 41,
     "metadata": {},
     "output_type": "execute_result"
    }
   ],
   "source": [
    "l2"
   ]
  },
  {
   "cell_type": "code",
   "execution_count": 42,
   "id": "2d52b1dd",
   "metadata": {},
   "outputs": [
    {
     "data": {
      "text/plain": [
       "(234, 34, 'vhgy', 3.45, True)"
      ]
     },
     "execution_count": 42,
     "metadata": {},
     "output_type": "execute_result"
    }
   ],
   "source": [
    "tuple(l2)"
   ]
  },
  {
   "cell_type": "code",
   "execution_count": 43,
   "id": "162e33e1",
   "metadata": {},
   "outputs": [
    {
     "data": {
      "text/plain": [
       "(234, 34, 'Python', 3.45, True)"
      ]
     },
     "execution_count": 43,
     "metadata": {},
     "output_type": "execute_result"
    }
   ],
   "source": [
    "tuple(t1)"
   ]
  },
  {
   "cell_type": "code",
   "execution_count": 44,
   "id": "5c709160",
   "metadata": {},
   "outputs": [],
   "source": [
    "t2=(254,54,20)"
   ]
  },
  {
   "cell_type": "code",
   "execution_count": 45,
   "id": "214ed241",
   "metadata": {},
   "outputs": [
    {
     "data": {
      "text/plain": [
       "(234, 34, 'Python', 3.45, True, 254, 54, 20)"
      ]
     },
     "execution_count": 45,
     "metadata": {},
     "output_type": "execute_result"
    }
   ],
   "source": [
    "t1+t2"
   ]
  },
  {
   "cell_type": "code",
   "execution_count": 46,
   "id": "1e8f931d",
   "metadata": {},
   "outputs": [
    {
     "data": {
      "text/plain": [
       "(234, 34, 'Python', 3.45, True, 234, 34, 'Python', 3.45, True)"
      ]
     },
     "execution_count": 46,
     "metadata": {},
     "output_type": "execute_result"
    }
   ],
   "source": [
    "t1*2"
   ]
  },
  {
   "cell_type": "code",
   "execution_count": 47,
   "id": "43ea42eb",
   "metadata": {},
   "outputs": [
    {
     "data": {
      "text/plain": [
       "(234, 34, 'Python', 3.45, True)"
      ]
     },
     "execution_count": 47,
     "metadata": {},
     "output_type": "execute_result"
    }
   ],
   "source": [
    "t1"
   ]
  },
  {
   "cell_type": "code",
   "execution_count": 48,
   "id": "4af39e73",
   "metadata": {},
   "outputs": [
    {
     "data": {
      "text/plain": [
       "False"
      ]
     },
     "execution_count": 48,
     "metadata": {},
     "output_type": "execute_result"
    }
   ],
   "source": [
    "\"cfftg\"in t1"
   ]
  },
  {
   "cell_type": "code",
   "execution_count": 49,
   "id": "7579d26c",
   "metadata": {},
   "outputs": [
    {
     "data": {
      "text/plain": [
       "False"
      ]
     },
     "execution_count": 49,
     "metadata": {},
     "output_type": "execute_result"
    }
   ],
   "source": [
    "\"mkcjsij\"in t1"
   ]
  },
  {
   "cell_type": "code",
   "execution_count": 50,
   "id": "434f48f2",
   "metadata": {},
   "outputs": [
    {
     "ename": "TypeError",
     "evalue": "'>' not supported between instances of 'str' and 'int'",
     "output_type": "error",
     "traceback": [
      "\u001b[1;31m---------------------------------------------------------------------------\u001b[0m",
      "\u001b[1;31mTypeError\u001b[0m                                 Traceback (most recent call last)",
      "\u001b[1;32m~\\AppData\\Local\\Temp/ipykernel_9296/3099455752.py\u001b[0m in \u001b[0;36m<module>\u001b[1;34m\u001b[0m\n\u001b[1;32m----> 1\u001b[1;33m \u001b[0mmax\u001b[0m\u001b[1;33m(\u001b[0m\u001b[0mt1\u001b[0m\u001b[1;33m)\u001b[0m\u001b[1;33m\u001b[0m\u001b[1;33m\u001b[0m\u001b[0m\n\u001b[0m",
      "\u001b[1;31mTypeError\u001b[0m: '>' not supported between instances of 'str' and 'int'"
     ]
    }
   ],
   "source": [
    "max(t1)"
   ]
  },
  {
   "cell_type": "code",
   "execution_count": 51,
   "id": "f4d923d6",
   "metadata": {},
   "outputs": [],
   "source": [
    "t1=(34,45,67,21)"
   ]
  },
  {
   "cell_type": "code",
   "execution_count": 52,
   "id": "78d257db",
   "metadata": {},
   "outputs": [
    {
     "data": {
      "text/plain": [
       "67"
      ]
     },
     "execution_count": 52,
     "metadata": {},
     "output_type": "execute_result"
    }
   ],
   "source": [
    "max(t1)"
   ]
  },
  {
   "cell_type": "code",
   "execution_count": 53,
   "id": "168e43c2",
   "metadata": {},
   "outputs": [
    {
     "data": {
      "text/plain": [
       "21"
      ]
     },
     "execution_count": 53,
     "metadata": {},
     "output_type": "execute_result"
    }
   ],
   "source": [
    "min(t1)"
   ]
  },
  {
   "cell_type": "code",
   "execution_count": 54,
   "id": "d18d62f6",
   "metadata": {},
   "outputs": [],
   "source": [
    "t3=(\"sws\",\"vwds\",\"renc\",\"ASE\")"
   ]
  },
  {
   "cell_type": "code",
   "execution_count": 55,
   "id": "40bf8834",
   "metadata": {},
   "outputs": [
    {
     "data": {
      "text/plain": [
       "'vwds'"
      ]
     },
     "execution_count": 55,
     "metadata": {},
     "output_type": "execute_result"
    }
   ],
   "source": [
    "max(t3)"
   ]
  },
  {
   "cell_type": "code",
   "execution_count": 56,
   "id": "be2f83e2",
   "metadata": {},
   "outputs": [
    {
     "data": {
      "text/plain": [
       "'ASE'"
      ]
     },
     "execution_count": 56,
     "metadata": {},
     "output_type": "execute_result"
    }
   ],
   "source": [
    "min(t3)"
   ]
  },
  {
   "cell_type": "code",
   "execution_count": 57,
   "id": "0a3bbfd1",
   "metadata": {},
   "outputs": [
    {
     "data": {
      "text/plain": [
       "(34, 45, 67, 21)"
      ]
     },
     "execution_count": 57,
     "metadata": {},
     "output_type": "execute_result"
    }
   ],
   "source": [
    "t1"
   ]
  },
  {
   "cell_type": "code",
   "execution_count": 58,
   "id": "5e36fceb",
   "metadata": {},
   "outputs": [
    {
     "data": {
      "text/plain": [
       "0"
      ]
     },
     "execution_count": 58,
     "metadata": {},
     "output_type": "execute_result"
    }
   ],
   "source": [
    "t1.index(34)"
   ]
  },
  {
   "cell_type": "code",
   "execution_count": 59,
   "id": "b641f79f",
   "metadata": {},
   "outputs": [
    {
     "data": {
      "text/plain": [
       "2"
      ]
     },
     "execution_count": 59,
     "metadata": {},
     "output_type": "execute_result"
    }
   ],
   "source": [
    "t1.index(67)"
   ]
  },
  {
   "cell_type": "code",
   "execution_count": 60,
   "id": "143e0c25",
   "metadata": {},
   "outputs": [],
   "source": [
    "t1=(34,45,67,34,34,34,21)"
   ]
  },
  {
   "cell_type": "code",
   "execution_count": 61,
   "id": "2894d423",
   "metadata": {},
   "outputs": [
    {
     "data": {
      "text/plain": [
       "0"
      ]
     },
     "execution_count": 61,
     "metadata": {},
     "output_type": "execute_result"
    }
   ],
   "source": [
    "t1.index(34)"
   ]
  },
  {
   "cell_type": "code",
   "execution_count": 62,
   "id": "6a0cb7e6",
   "metadata": {},
   "outputs": [
    {
     "data": {
      "text/plain": [
       "4"
      ]
     },
     "execution_count": 62,
     "metadata": {},
     "output_type": "execute_result"
    }
   ],
   "source": [
    "t1.count(34)"
   ]
  },
  {
   "cell_type": "code",
   "execution_count": 63,
   "id": "3e162c32",
   "metadata": {},
   "outputs": [
    {
     "data": {
      "text/plain": [
       "(34, 45, 67, 34, 34, 34, 21)"
      ]
     },
     "execution_count": 63,
     "metadata": {},
     "output_type": "execute_result"
    }
   ],
   "source": [
    "t1"
   ]
  },
  {
   "cell_type": "code",
   "execution_count": 64,
   "id": "3ea9a137",
   "metadata": {},
   "outputs": [],
   "source": [
    "t4=56"
   ]
  },
  {
   "cell_type": "code",
   "execution_count": 65,
   "id": "95319a37",
   "metadata": {},
   "outputs": [],
   "source": [
    "l4=list(t1)"
   ]
  },
  {
   "cell_type": "code",
   "execution_count": 66,
   "id": "269791f2",
   "metadata": {},
   "outputs": [
    {
     "data": {
      "text/plain": [
       "[34, 45, 67, 34, 34, 34, 21]"
      ]
     },
     "execution_count": 66,
     "metadata": {},
     "output_type": "execute_result"
    }
   ],
   "source": [
    "l4"
   ]
  },
  {
   "cell_type": "code",
   "execution_count": 67,
   "id": "391b10eb",
   "metadata": {},
   "outputs": [
    {
     "data": {
      "text/plain": [
       "56"
      ]
     },
     "execution_count": 67,
     "metadata": {},
     "output_type": "execute_result"
    }
   ],
   "source": [
    "t4"
   ]
  },
  {
   "cell_type": "code",
   "execution_count": 68,
   "id": "0148c9f2",
   "metadata": {},
   "outputs": [],
   "source": [
    "l4.insert(3,\"800\")"
   ]
  },
  {
   "cell_type": "code",
   "execution_count": 69,
   "id": "377d733a",
   "metadata": {},
   "outputs": [
    {
     "data": {
      "text/plain": [
       "(34, 45, 67, '800', 34, 34, 34, 21)"
      ]
     },
     "execution_count": 69,
     "metadata": {},
     "output_type": "execute_result"
    }
   ],
   "source": [
    "tuple(l4)"
   ]
  },
  {
   "cell_type": "code",
   "execution_count": 70,
   "id": "2e3ce346",
   "metadata": {},
   "outputs": [],
   "source": [
    "t=((3,4,5),(\"deuc\",23,45),(True,45+6j),6.25)"
   ]
  },
  {
   "cell_type": "code",
   "execution_count": 71,
   "id": "44233925",
   "metadata": {},
   "outputs": [
    {
     "data": {
      "text/plain": [
       "((3, 4, 5), ('deuc', 23, 45), (True, (45+6j)), 6.25)"
      ]
     },
     "execution_count": 71,
     "metadata": {},
     "output_type": "execute_result"
    }
   ],
   "source": [
    "t"
   ]
  },
  {
   "cell_type": "code",
   "execution_count": 72,
   "id": "0453f7ee",
   "metadata": {},
   "outputs": [
    {
     "data": {
      "text/plain": [
       "(3, 4, 5)"
      ]
     },
     "execution_count": 72,
     "metadata": {},
     "output_type": "execute_result"
    }
   ],
   "source": [
    "t[0]"
   ]
  },
  {
   "cell_type": "code",
   "execution_count": 73,
   "id": "8ec4f9ee",
   "metadata": {},
   "outputs": [
    {
     "data": {
      "text/plain": [
       "('deuc', 23, 45)"
      ]
     },
     "execution_count": 73,
     "metadata": {},
     "output_type": "execute_result"
    }
   ],
   "source": [
    "t[1]"
   ]
  },
  {
   "cell_type": "code",
   "execution_count": 74,
   "id": "b74b52bd",
   "metadata": {},
   "outputs": [
    {
     "data": {
      "text/plain": [
       "(True, (45+6j))"
      ]
     },
     "execution_count": 74,
     "metadata": {},
     "output_type": "execute_result"
    }
   ],
   "source": [
    "t[2]"
   ]
  },
  {
   "cell_type": "code",
   "execution_count": 75,
   "id": "3364eacf",
   "metadata": {},
   "outputs": [
    {
     "data": {
      "text/plain": [
       "6.25"
      ]
     },
     "execution_count": 75,
     "metadata": {},
     "output_type": "execute_result"
    }
   ],
   "source": [
    "t[3]"
   ]
  },
  {
   "cell_type": "code",
   "execution_count": 76,
   "id": "738a9479",
   "metadata": {},
   "outputs": [
    {
     "ename": "IndexError",
     "evalue": "tuple index out of range",
     "output_type": "error",
     "traceback": [
      "\u001b[1;31m---------------------------------------------------------------------------\u001b[0m",
      "\u001b[1;31mIndexError\u001b[0m                                Traceback (most recent call last)",
      "\u001b[1;32m~\\AppData\\Local\\Temp/ipykernel_9296/549899172.py\u001b[0m in \u001b[0;36m<module>\u001b[1;34m\u001b[0m\n\u001b[1;32m----> 1\u001b[1;33m \u001b[0mt\u001b[0m\u001b[1;33m[\u001b[0m\u001b[1;36m4\u001b[0m\u001b[1;33m]\u001b[0m\u001b[1;33m\u001b[0m\u001b[1;33m\u001b[0m\u001b[0m\n\u001b[0m",
      "\u001b[1;31mIndexError\u001b[0m: tuple index out of range"
     ]
    }
   ],
   "source": [
    "t[4]"
   ]
  },
  {
   "cell_type": "code",
   "execution_count": 77,
   "id": "81967207",
   "metadata": {},
   "outputs": [
    {
     "data": {
      "text/plain": [
       "tuple"
      ]
     },
     "execution_count": 77,
     "metadata": {},
     "output_type": "execute_result"
    }
   ],
   "source": [
    "type(t[2])"
   ]
  },
  {
   "cell_type": "code",
   "execution_count": 78,
   "id": "be4127d3",
   "metadata": {},
   "outputs": [],
   "source": [
    "t=((3,45,6,7),(\"hhg\",45,45),(\"146\",22),78,23,56,(4,5,6,7))"
   ]
  },
  {
   "cell_type": "code",
   "execution_count": 79,
   "id": "1d6533e9",
   "metadata": {},
   "outputs": [
    {
     "data": {
      "text/plain": [
       "((3, 45, 6, 7), ('hhg', 45, 45), ('146', 22), 78, 23, 56, (4, 5, 6, 7))"
      ]
     },
     "execution_count": 79,
     "metadata": {},
     "output_type": "execute_result"
    }
   ],
   "source": [
    "t"
   ]
  },
  {
   "cell_type": "code",
   "execution_count": 80,
   "id": "80de6193",
   "metadata": {},
   "outputs": [
    {
     "data": {
      "text/plain": [
       "56"
      ]
     },
     "execution_count": 80,
     "metadata": {},
     "output_type": "execute_result"
    }
   ],
   "source": [
    "t[5]"
   ]
  },
  {
   "cell_type": "code",
   "execution_count": 81,
   "id": "9557d997",
   "metadata": {},
   "outputs": [
    {
     "data": {
      "text/plain": [
       "('146', 22)"
      ]
     },
     "execution_count": 81,
     "metadata": {},
     "output_type": "execute_result"
    }
   ],
   "source": [
    "t[2][0:]"
   ]
  },
  {
   "cell_type": "code",
   "execution_count": 82,
   "id": "acd6477a",
   "metadata": {},
   "outputs": [
    {
     "data": {
      "text/plain": [
       "(5, 6)"
      ]
     },
     "execution_count": 82,
     "metadata": {},
     "output_type": "execute_result"
    }
   ],
   "source": [
    "t[6][1:3]"
   ]
  },
  {
   "cell_type": "code",
   "execution_count": 83,
   "id": "f5edda3b",
   "metadata": {},
   "outputs": [
    {
     "data": {
      "text/plain": [
       "((3, 45, 6, 7), ('hhg', 45, 45), ('146', 22), 78, 23, 56, (4, 5, 6, 7))"
      ]
     },
     "execution_count": 83,
     "metadata": {},
     "output_type": "execute_result"
    }
   ],
   "source": [
    "t"
   ]
  },
  {
   "cell_type": "code",
   "execution_count": 84,
   "id": "f5095ee3",
   "metadata": {},
   "outputs": [
    {
     "data": {
      "text/plain": [
       "'hhg'"
      ]
     },
     "execution_count": 84,
     "metadata": {},
     "output_type": "execute_result"
    }
   ],
   "source": [
    "t[1][0]"
   ]
  },
  {
   "cell_type": "code",
   "execution_count": 85,
   "id": "7fc488f8",
   "metadata": {},
   "outputs": [
    {
     "name": "stdout",
     "output_type": "stream",
     "text": [
      "<class 'tuple'>\n",
      "<class 'tuple'>\n",
      "<class 'tuple'>\n",
      "<class 'int'>\n",
      "<class 'int'>\n",
      "<class 'int'>\n",
      "<class 'tuple'>\n"
     ]
    }
   ],
   "source": [
    "for i in t:\n",
    "    print(type(i))"
   ]
  },
  {
   "cell_type": "code",
   "execution_count": 86,
   "id": "4b6f5a92",
   "metadata": {},
   "outputs": [
    {
     "data": {
      "text/plain": [
       "((3, 45, 6, 7), ('hhg', 45, 45), ('146', 22), 78, 23, 56, (4, 5, 6, 7))"
      ]
     },
     "execution_count": 86,
     "metadata": {},
     "output_type": "execute_result"
    }
   ],
   "source": [
    "t"
   ]
  },
  {
   "cell_type": "code",
   "execution_count": 87,
   "id": "c43f6ed7",
   "metadata": {},
   "outputs": [
    {
     "name": "stdout",
     "output_type": "stream",
     "text": [
      "(3, 45, 6, 7)\n",
      "('hhg', 45, 45)\n",
      "('146', 22)\n",
      "(4, 5, 6, 7)\n"
     ]
    }
   ],
   "source": [
    "for i in t:\n",
    "    if type(i)==tuple:\n",
    "        print(i)"
   ]
  },
  {
   "cell_type": "code",
   "execution_count": 88,
   "id": "9aafefa4",
   "metadata": {},
   "outputs": [],
   "source": [
    "t=(234,34,\"Python\",\"ML\",3.65 ,24,34,34,\"DS\")"
   ]
  },
  {
   "cell_type": "code",
   "execution_count": 89,
   "id": "0f8d075f",
   "metadata": {},
   "outputs": [
    {
     "name": "stdout",
     "output_type": "stream",
     "text": [
      "take a input from the userPython\n",
      "Yes your name is available\n"
     ]
    }
   ],
   "source": [
    "i=input(\"take a input from the user\") #->str\n",
    "\n",
    "if i in t:\n",
    "    print(\"Yes your name is available\")\n",
    "else:\n",
    "    print(\"Your name is NOT available\")"
   ]
  },
  {
   "cell_type": "markdown",
   "id": "f0e55bd9",
   "metadata": {},
   "source": [
    "# The del keyword can be used to delete a list,slice a list,delete a dictionaries,remove key-value pairs from a dictionary,delete variables etc."
   ]
  },
  {
   "cell_type": "code",
   "execution_count": 258,
   "id": "373230f5",
   "metadata": {},
   "outputs": [],
   "source": [
    "my_list1=[1,2,3,4,5,6,7,8,9]\n",
    "my_list2=[\"Python\",\"ML\",\"DS\"]"
   ]
  },
  {
   "cell_type": "code",
   "execution_count": 259,
   "id": "0441a6b7",
   "metadata": {},
   "outputs": [
    {
     "name": "stdout",
     "output_type": "stream",
     "text": [
      "[1, 2, 3, 4, 5, 6, 7, 8, 9]\n",
      "['Python', 'ML', 'DS']\n"
     ]
    }
   ],
   "source": [
    "# check if my_list1 and my_list2 exists\n",
    "print(my_list1)\n",
    "print(my_list2)\n"
   ]
  },
  {
   "cell_type": "code",
   "execution_count": 260,
   "id": "2469dd08",
   "metadata": {},
   "outputs": [],
   "source": [
    "# delete second element of my_list1\n",
    "del my_list1[1]"
   ]
  },
  {
   "cell_type": "code",
   "execution_count": 261,
   "id": "77113b56",
   "metadata": {},
   "outputs": [
    {
     "name": "stdout",
     "output_type": "stream",
     "text": [
      "[1, 3, 4, 5, 6, 7, 8, 9]\n"
     ]
    }
   ],
   "source": [
    "# check if the second element in my_list1 is deleted\n",
    "print(my_list1)"
   ]
  },
  {
   "cell_type": "code",
   "execution_count": 262,
   "id": "b040a47f",
   "metadata": {},
   "outputs": [],
   "source": [
    "# slice my_list1 from index 3 to 5\n",
    "del my_list1[3:5]"
   ]
  },
  {
   "cell_type": "code",
   "execution_count": 263,
   "id": "bb74945b",
   "metadata": {},
   "outputs": [
    {
     "name": "stdout",
     "output_type": "stream",
     "text": [
      "[1, 3, 4, 7, 8, 9]\n"
     ]
    }
   ],
   "source": [
    "# check if the elements from index 3 to 5 in my_list1 is deleted\n",
    "print(my_list1)"
   ]
  },
  {
   "cell_type": "code",
   "execution_count": 264,
   "id": "8b4f77b7",
   "metadata": {},
   "outputs": [],
   "source": [
    "# delete my_list2\n",
    "del my_list2"
   ]
  },
  {
   "cell_type": "code",
   "execution_count": 265,
   "id": "cae07111",
   "metadata": {},
   "outputs": [
    {
     "ename": "NameError",
     "evalue": "name 'my_list2' is not defined",
     "output_type": "error",
     "traceback": [
      "\u001b[1;31m---------------------------------------------------------------------------\u001b[0m",
      "\u001b[1;31mNameError\u001b[0m                                 Traceback (most recent call last)",
      "\u001b[1;32m~\\AppData\\Local\\Temp/ipykernel_6616/1129142068.py\u001b[0m in \u001b[0;36m<module>\u001b[1;34m\u001b[0m\n\u001b[0;32m      1\u001b[0m \u001b[1;31m# check if my_list2 exists\u001b[0m\u001b[1;33m\u001b[0m\u001b[1;33m\u001b[0m\u001b[0m\n\u001b[1;32m----> 2\u001b[1;33m \u001b[0mprint\u001b[0m\u001b[1;33m(\u001b[0m\u001b[0mmy_list2\u001b[0m\u001b[1;33m)\u001b[0m\u001b[1;33m\u001b[0m\u001b[1;33m\u001b[0m\u001b[0m\n\u001b[0m",
      "\u001b[1;31mNameError\u001b[0m: name 'my_list2' is not defined"
     ]
    }
   ],
   "source": [
    "# check if my_list2 exists\n",
    "print(my_list2)"
   ]
  },
  {
   "cell_type": "code",
   "execution_count": 266,
   "id": "c0da68a0",
   "metadata": {},
   "outputs": [],
   "source": [
    "my_dict1={\"small\":\"big\",\"black\":\"white\",\"up\":\"down\"}\n",
    "my_dict2={\"dark\":\"light\",\"fat\":\"thin\",\"sky\":\"land\"}"
   ]
  },
  {
   "cell_type": "code",
   "execution_count": 267,
   "id": "c2b50486",
   "metadata": {},
   "outputs": [
    {
     "name": "stdout",
     "output_type": "stream",
     "text": [
      "{'small': 'big', 'black': 'white', 'up': 'down'}\n",
      "{'dark': 'light', 'fat': 'thin', 'sky': 'land'}\n"
     ]
    }
   ],
   "source": [
    "# check if my_dict1 and my_dict2 exists\n",
    "print(my_dict1)\n",
    "print(my_dict2)"
   ]
  },
  {
   "cell_type": "code",
   "execution_count": 268,
   "id": "b5ec8dae",
   "metadata": {},
   "outputs": [],
   "source": [
    "# delete key-value pair with key \"black\" from my_dict1 \n",
    "del my_dict1[\"black\"]"
   ]
  },
  {
   "cell_type": "code",
   "execution_count": 269,
   "id": "98145f04",
   "metadata": {},
   "outputs": [
    {
     "name": "stdout",
     "output_type": "stream",
     "text": [
      "{'small': 'big', 'up': 'down'}\n"
     ]
    }
   ],
   "source": [
    "# check if the key-value pair with key\"black from my_dict1 is deleted\n",
    "print(my_dict1)"
   ]
  },
  {
   "cell_type": "code",
   "execution_count": 270,
   "id": "dbb41d1e",
   "metadata": {},
   "outputs": [],
   "source": [
    "# delete my_dict2\n",
    "del my_dict2"
   ]
  },
  {
   "cell_type": "code",
   "execution_count": 271,
   "id": "90ce3d46",
   "metadata": {},
   "outputs": [
    {
     "ename": "NameError",
     "evalue": "name 'my_dict2' is not defined",
     "output_type": "error",
     "traceback": [
      "\u001b[1;31m---------------------------------------------------------------------------\u001b[0m",
      "\u001b[1;31mNameError\u001b[0m                                 Traceback (most recent call last)",
      "\u001b[1;32m~\\AppData\\Local\\Temp/ipykernel_6616/1501039591.py\u001b[0m in \u001b[0;36m<module>\u001b[1;34m\u001b[0m\n\u001b[0;32m      1\u001b[0m \u001b[1;31m# check if my_dict2 exists\u001b[0m\u001b[1;33m\u001b[0m\u001b[1;33m\u001b[0m\u001b[0m\n\u001b[1;32m----> 2\u001b[1;33m \u001b[0mprint\u001b[0m\u001b[1;33m(\u001b[0m\u001b[0mmy_dict2\u001b[0m\u001b[1;33m)\u001b[0m\u001b[1;33m\u001b[0m\u001b[1;33m\u001b[0m\u001b[0m\n\u001b[0m",
      "\u001b[1;31mNameError\u001b[0m: name 'my_dict2' is not defined"
     ]
    }
   ],
   "source": [
    "# check if my_dict2 exists\n",
    "print(my_dict2)"
   ]
  },
  {
   "cell_type": "code",
   "execution_count": null,
   "id": "3dcf1572",
   "metadata": {},
   "outputs": [],
   "source": [
    "#1. del keyword for deleting variables"
   ]
  },
  {
   "cell_type": "code",
   "execution_count": 274,
   "id": "22344355",
   "metadata": {},
   "outputs": [],
   "source": [
    "my_variable1=20\n",
    "my_variable2=\"Hello World\""
   ]
  },
  {
   "cell_type": "code",
   "execution_count": 275,
   "id": "f63cf40f",
   "metadata": {},
   "outputs": [
    {
     "name": "stdout",
     "output_type": "stream",
     "text": [
      "20\n",
      "Hello World\n"
     ]
    }
   ],
   "source": [
    "# check if my_variable1 and my_variable2 exists\n",
    "print(my_variable1)\n",
    "print(my_variable2)"
   ]
  },
  {
   "cell_type": "code",
   "execution_count": 276,
   "id": "133dd6ce",
   "metadata": {},
   "outputs": [],
   "source": [
    "# delete both the variables\n",
    "del my_variable1\n",
    "del my_variable2"
   ]
  },
  {
   "cell_type": "code",
   "execution_count": 277,
   "id": "6937909b",
   "metadata": {},
   "outputs": [
    {
     "ename": "NameError",
     "evalue": "name 'my_variable1' is not defined",
     "output_type": "error",
     "traceback": [
      "\u001b[1;31m---------------------------------------------------------------------------\u001b[0m",
      "\u001b[1;31mNameError\u001b[0m                                 Traceback (most recent call last)",
      "\u001b[1;32m~\\AppData\\Local\\Temp/ipykernel_6616/3415159801.py\u001b[0m in \u001b[0;36m<module>\u001b[1;34m\u001b[0m\n\u001b[0;32m      1\u001b[0m \u001b[1;31m# check if my_variable1 and my_variable2 exists\u001b[0m\u001b[1;33m\u001b[0m\u001b[1;33m\u001b[0m\u001b[0m\n\u001b[1;32m----> 2\u001b[1;33m \u001b[0mprint\u001b[0m\u001b[1;33m(\u001b[0m\u001b[0mmy_variable1\u001b[0m\u001b[1;33m)\u001b[0m\u001b[1;33m\u001b[0m\u001b[1;33m\u001b[0m\u001b[0m\n\u001b[0m",
      "\u001b[1;31mNameError\u001b[0m: name 'my_variable1' is not defined"
     ]
    }
   ],
   "source": [
    "# check if my_variable1 and my_variable2 exists\n",
    "print(my_variable1)"
   ]
  },
  {
   "cell_type": "code",
   "execution_count": 278,
   "id": "c65a1841",
   "metadata": {},
   "outputs": [
    {
     "ename": "NameError",
     "evalue": "name 'my_variable2' is not defined",
     "output_type": "error",
     "traceback": [
      "\u001b[1;31m---------------------------------------------------------------------------\u001b[0m",
      "\u001b[1;31mNameError\u001b[0m                                 Traceback (most recent call last)",
      "\u001b[1;32m~\\AppData\\Local\\Temp/ipykernel_6616/3245182065.py\u001b[0m in \u001b[0;36m<module>\u001b[1;34m\u001b[0m\n\u001b[1;32m----> 1\u001b[1;33m \u001b[0mprint\u001b[0m\u001b[1;33m(\u001b[0m\u001b[0mmy_variable2\u001b[0m\u001b[1;33m)\u001b[0m\u001b[1;33m\u001b[0m\u001b[1;33m\u001b[0m\u001b[0m\n\u001b[0m",
      "\u001b[1;31mNameError\u001b[0m: name 'my_variable2' is not defined"
     ]
    }
   ],
   "source": [
    "print(my_variable2)"
   ]
  },
  {
   "cell_type": "markdown",
   "id": "94e61612",
   "metadata": {},
   "source": [
    "# set"
   ]
  },
  {
   "cell_type": "code",
   "execution_count": 279,
   "id": "c5f7161c",
   "metadata": {},
   "outputs": [],
   "source": [
    "x=()"
   ]
  },
  {
   "cell_type": "code",
   "execution_count": 282,
   "id": "9771e620",
   "metadata": {},
   "outputs": [
    {
     "data": {
      "text/plain": [
       "tuple"
      ]
     },
     "execution_count": 282,
     "metadata": {},
     "output_type": "execute_result"
    }
   ],
   "source": [
    "type(x)"
   ]
  },
  {
   "cell_type": "code",
   "execution_count": 283,
   "id": "eda1004c",
   "metadata": {},
   "outputs": [],
   "source": [
    "x=set()"
   ]
  },
  {
   "cell_type": "code",
   "execution_count": 284,
   "id": "81f92035",
   "metadata": {},
   "outputs": [
    {
     "data": {
      "text/plain": [
       "set"
      ]
     },
     "execution_count": 284,
     "metadata": {},
     "output_type": "execute_result"
    }
   ],
   "source": [
    "type(x)"
   ]
  },
  {
   "cell_type": "code",
   "execution_count": 285,
   "id": "16956444",
   "metadata": {},
   "outputs": [],
   "source": [
    "l=[34,45,45,45,67,34,56,78,\"Python\",\"ML\",\"ml\"]"
   ]
  },
  {
   "cell_type": "code",
   "execution_count": 286,
   "id": "a549ce65",
   "metadata": {},
   "outputs": [
    {
     "data": {
      "text/plain": [
       "{34, 45, 56, 67, 78, 'ML', 'Python', 'ml'}"
      ]
     },
     "execution_count": 286,
     "metadata": {},
     "output_type": "execute_result"
    }
   ],
   "source": [
    "set(l)"
   ]
  },
  {
   "cell_type": "code",
   "execution_count": 287,
   "id": "ed73b221",
   "metadata": {},
   "outputs": [],
   "source": [
    "s=set(l)"
   ]
  },
  {
   "cell_type": "code",
   "execution_count": 288,
   "id": "9481d13a",
   "metadata": {},
   "outputs": [
    {
     "data": {
      "text/plain": [
       "{34, 45, 56, 67, 78, 'ML', 'Python', 'ml'}"
      ]
     },
     "execution_count": 288,
     "metadata": {},
     "output_type": "execute_result"
    }
   ],
   "source": [
    "s"
   ]
  },
  {
   "cell_type": "code",
   "execution_count": 289,
   "id": "e42613fa",
   "metadata": {},
   "outputs": [
    {
     "name": "stdout",
     "output_type": "stream",
     "text": [
      "ml\n",
      "34\n",
      "67\n",
      "45\n",
      "78\n",
      "Python\n",
      "56\n",
      "ML\n"
     ]
    }
   ],
   "source": [
    "for i in s:\n",
    "    print(i)"
   ]
  },
  {
   "cell_type": "code",
   "execution_count": 290,
   "id": "1b59d82e",
   "metadata": {},
   "outputs": [
    {
     "data": {
      "text/plain": [
       "True"
      ]
     },
     "execution_count": 290,
     "metadata": {},
     "output_type": "execute_result"
    }
   ],
   "source": [
    "56 in s"
   ]
  },
  {
   "cell_type": "code",
   "execution_count": 291,
   "id": "f62b9afd",
   "metadata": {},
   "outputs": [
    {
     "ename": "TypeError",
     "evalue": "'set' object is not subscriptable",
     "output_type": "error",
     "traceback": [
      "\u001b[1;31m---------------------------------------------------------------------------\u001b[0m",
      "\u001b[1;31mTypeError\u001b[0m                                 Traceback (most recent call last)",
      "\u001b[1;32m~\\AppData\\Local\\Temp/ipykernel_6616/243613605.py\u001b[0m in \u001b[0;36m<module>\u001b[1;34m\u001b[0m\n\u001b[1;32m----> 1\u001b[1;33m \u001b[0ms\u001b[0m\u001b[1;33m[\u001b[0m\u001b[1;36m0\u001b[0m\u001b[1;33m]\u001b[0m\u001b[1;33m\u001b[0m\u001b[1;33m\u001b[0m\u001b[0m\n\u001b[0m",
      "\u001b[1;31mTypeError\u001b[0m: 'set' object is not subscriptable"
     ]
    }
   ],
   "source": [
    "s[0]"
   ]
  },
  {
   "cell_type": "code",
   "execution_count": 292,
   "id": "c516aa07",
   "metadata": {},
   "outputs": [],
   "source": [
    "l=[10,20,10,20,30]"
   ]
  },
  {
   "cell_type": "code",
   "execution_count": 293,
   "id": "1c2beafc",
   "metadata": {},
   "outputs": [],
   "source": [
    "s=set()"
   ]
  },
  {
   "cell_type": "code",
   "execution_count": 294,
   "id": "2ad00f43",
   "metadata": {},
   "outputs": [
    {
     "data": {
      "text/plain": [
       "set()"
      ]
     },
     "execution_count": 294,
     "metadata": {},
     "output_type": "execute_result"
    }
   ],
   "source": [
    "s"
   ]
  },
  {
   "cell_type": "code",
   "execution_count": 295,
   "id": "2a7571ba",
   "metadata": {},
   "outputs": [],
   "source": [
    "s.add(\"Python\")"
   ]
  },
  {
   "cell_type": "code",
   "execution_count": 296,
   "id": "3c21b1cb",
   "metadata": {},
   "outputs": [
    {
     "data": {
      "text/plain": [
       "{'Python'}"
      ]
     },
     "execution_count": 296,
     "metadata": {},
     "output_type": "execute_result"
    }
   ],
   "source": [
    "s"
   ]
  },
  {
   "cell_type": "code",
   "execution_count": 297,
   "id": "8436c921",
   "metadata": {},
   "outputs": [],
   "source": [
    "s.add(\"xggyuh\")"
   ]
  },
  {
   "cell_type": "code",
   "execution_count": 298,
   "id": "087314e4",
   "metadata": {},
   "outputs": [
    {
     "data": {
      "text/plain": [
       "{'Python', 'xggyuh'}"
      ]
     },
     "execution_count": 298,
     "metadata": {},
     "output_type": "execute_result"
    }
   ],
   "source": [
    "s"
   ]
  },
  {
   "cell_type": "code",
   "execution_count": 299,
   "id": "03f66c5d",
   "metadata": {},
   "outputs": [
    {
     "ename": "TypeError",
     "evalue": "unhashable type: 'list'",
     "output_type": "error",
     "traceback": [
      "\u001b[1;31m---------------------------------------------------------------------------\u001b[0m",
      "\u001b[1;31mTypeError\u001b[0m                                 Traceback (most recent call last)",
      "\u001b[1;32m~\\AppData\\Local\\Temp/ipykernel_6616/4171484970.py\u001b[0m in \u001b[0;36m<module>\u001b[1;34m\u001b[0m\n\u001b[1;32m----> 1\u001b[1;33m \u001b[0ms\u001b[0m\u001b[1;33m.\u001b[0m\u001b[0madd\u001b[0m\u001b[1;33m(\u001b[0m\u001b[1;33m[\u001b[0m\u001b[1;36m23\u001b[0m\u001b[1;33m,\u001b[0m\u001b[1;36m45\u001b[0m\u001b[1;33m]\u001b[0m\u001b[1;33m)\u001b[0m\u001b[1;33m\u001b[0m\u001b[1;33m\u001b[0m\u001b[0m\n\u001b[0m",
      "\u001b[1;31mTypeError\u001b[0m: unhashable type: 'list'"
     ]
    }
   ],
   "source": [
    "s.add([23,45])"
   ]
  },
  {
   "cell_type": "code",
   "execution_count": 300,
   "id": "2ece6e12",
   "metadata": {},
   "outputs": [],
   "source": [
    "l1=[1,1,3,4,\"cgfdty\",12.03]"
   ]
  },
  {
   "cell_type": "code",
   "execution_count": 301,
   "id": "a5acc861",
   "metadata": {},
   "outputs": [
    {
     "data": {
      "text/plain": [
       "{1, 12.03, 3, 4, 'cgfdty'}"
      ]
     },
     "execution_count": 301,
     "metadata": {},
     "output_type": "execute_result"
    }
   ],
   "source": [
    "set(l1)"
   ]
  },
  {
   "cell_type": "code",
   "execution_count": 303,
   "id": "d9800bf2",
   "metadata": {},
   "outputs": [],
   "source": [
    "l=[34,45,45,45,67,34,56,78,\"Python\",\"python\",\"ML\",\"ml\",[1,2,3,4]]"
   ]
  },
  {
   "cell_type": "code",
   "execution_count": 304,
   "id": "6c35a4f3",
   "metadata": {},
   "outputs": [
    {
     "ename": "TypeError",
     "evalue": "unhashable type: 'list'",
     "output_type": "error",
     "traceback": [
      "\u001b[1;31m---------------------------------------------------------------------------\u001b[0m",
      "\u001b[1;31mTypeError\u001b[0m                                 Traceback (most recent call last)",
      "\u001b[1;32m~\\AppData\\Local\\Temp/ipykernel_6616/2189031992.py\u001b[0m in \u001b[0;36m<module>\u001b[1;34m\u001b[0m\n\u001b[1;32m----> 1\u001b[1;33m \u001b[0mset\u001b[0m\u001b[1;33m(\u001b[0m\u001b[0ml\u001b[0m\u001b[1;33m)\u001b[0m\u001b[1;33m\u001b[0m\u001b[1;33m\u001b[0m\u001b[0m\n\u001b[0m",
      "\u001b[1;31mTypeError\u001b[0m: unhashable type: 'list'"
     ]
    }
   ],
   "source": [
    "set(l)"
   ]
  },
  {
   "cell_type": "code",
   "execution_count": 305,
   "id": "f202f48a",
   "metadata": {},
   "outputs": [
    {
     "data": {
      "text/plain": [
       "{'Python', 'xggyuh'}"
      ]
     },
     "execution_count": 305,
     "metadata": {},
     "output_type": "execute_result"
    }
   ],
   "source": [
    "s"
   ]
  },
  {
   "cell_type": "code",
   "execution_count": 306,
   "id": "199a3534",
   "metadata": {},
   "outputs": [],
   "source": [
    "s.add(45)"
   ]
  },
  {
   "cell_type": "code",
   "execution_count": 307,
   "id": "fcce3cfa",
   "metadata": {},
   "outputs": [],
   "source": [
    "s.add(45)"
   ]
  },
  {
   "cell_type": "code",
   "execution_count": 308,
   "id": "82280d77",
   "metadata": {},
   "outputs": [
    {
     "data": {
      "text/plain": [
       "{45, 'Python', 'xggyuh'}"
      ]
     },
     "execution_count": 308,
     "metadata": {},
     "output_type": "execute_result"
    }
   ],
   "source": [
    "s"
   ]
  },
  {
   "cell_type": "code",
   "execution_count": 309,
   "id": "d34efbad",
   "metadata": {},
   "outputs": [],
   "source": [
    "s.remove(45)"
   ]
  },
  {
   "cell_type": "code",
   "execution_count": 310,
   "id": "3d6f2742",
   "metadata": {},
   "outputs": [
    {
     "data": {
      "text/plain": [
       "{'Python', 'xggyuh'}"
      ]
     },
     "execution_count": 310,
     "metadata": {},
     "output_type": "execute_result"
    }
   ],
   "source": [
    "s"
   ]
  },
  {
   "cell_type": "code",
   "execution_count": 311,
   "id": "bfe99aea",
   "metadata": {},
   "outputs": [
    {
     "data": {
      "text/plain": [
       "False"
      ]
     },
     "execution_count": 311,
     "metadata": {},
     "output_type": "execute_result"
    }
   ],
   "source": [
    "45 in s"
   ]
  },
  {
   "cell_type": "code",
   "execution_count": 312,
   "id": "5b665f57",
   "metadata": {},
   "outputs": [
    {
     "data": {
      "text/plain": [
       "True"
      ]
     },
     "execution_count": 312,
     "metadata": {},
     "output_type": "execute_result"
    }
   ],
   "source": [
    "\"Python\"in s"
   ]
  },
  {
   "cell_type": "code",
   "execution_count": 313,
   "id": "79c36b0b",
   "metadata": {},
   "outputs": [
    {
     "data": {
      "text/plain": [
       "{'Python', 'xggyuh'}"
      ]
     },
     "execution_count": 313,
     "metadata": {},
     "output_type": "execute_result"
    }
   ],
   "source": [
    "s"
   ]
  },
  {
   "cell_type": "code",
   "execution_count": 314,
   "id": "0014eda0",
   "metadata": {},
   "outputs": [],
   "source": [
    "s.add(23)"
   ]
  },
  {
   "cell_type": "code",
   "execution_count": 315,
   "id": "614464cf",
   "metadata": {},
   "outputs": [
    {
     "data": {
      "text/plain": [
       "{23, 'Python', 'xggyuh'}"
      ]
     },
     "execution_count": 315,
     "metadata": {},
     "output_type": "execute_result"
    }
   ],
   "source": [
    "s"
   ]
  },
  {
   "cell_type": "code",
   "execution_count": 316,
   "id": "0573f5c7",
   "metadata": {},
   "outputs": [],
   "source": [
    "s1=set()"
   ]
  },
  {
   "cell_type": "code",
   "execution_count": 317,
   "id": "1bb07016",
   "metadata": {},
   "outputs": [],
   "source": [
    "l=[345,5445,544578,6546,654,6]"
   ]
  },
  {
   "cell_type": "code",
   "execution_count": 318,
   "id": "bd0bd2dc",
   "metadata": {},
   "outputs": [],
   "source": [
    "s1=set(l)"
   ]
  },
  {
   "cell_type": "code",
   "execution_count": 319,
   "id": "4e1ba9ac",
   "metadata": {},
   "outputs": [
    {
     "data": {
      "text/plain": [
       "{6, 345, 654, 5445, 6546, 544578}"
      ]
     },
     "execution_count": 319,
     "metadata": {},
     "output_type": "execute_result"
    }
   ],
   "source": [
    "s1"
   ]
  },
  {
   "cell_type": "code",
   "execution_count": 331,
   "id": "13094c15",
   "metadata": {},
   "outputs": [
    {
     "data": {
      "text/plain": [
       "{23, 'Python', 'xggyuh'}"
      ]
     },
     "execution_count": 331,
     "metadata": {},
     "output_type": "execute_result"
    }
   ],
   "source": [
    "s"
   ]
  },
  {
   "cell_type": "code",
   "execution_count": 332,
   "id": "e78a1bf5",
   "metadata": {},
   "outputs": [
    {
     "ename": "TypeError",
     "evalue": "unsupported operand type(s) for +: 'set' and 'set'",
     "output_type": "error",
     "traceback": [
      "\u001b[1;31m---------------------------------------------------------------------------\u001b[0m",
      "\u001b[1;31mTypeError\u001b[0m                                 Traceback (most recent call last)",
      "\u001b[1;32m~\\AppData\\Local\\Temp/ipykernel_6616/2246651983.py\u001b[0m in \u001b[0;36m<module>\u001b[1;34m\u001b[0m\n\u001b[1;32m----> 1\u001b[1;33m \u001b[0ms\u001b[0m\u001b[1;33m+\u001b[0m\u001b[0ms1\u001b[0m\u001b[1;33m\u001b[0m\u001b[1;33m\u001b[0m\u001b[0m\n\u001b[0m",
      "\u001b[1;31mTypeError\u001b[0m: unsupported operand type(s) for +: 'set' and 'set'"
     ]
    }
   ],
   "source": [
    "s+s1"
   ]
  },
  {
   "cell_type": "code",
   "execution_count": 333,
   "id": "c6a6e69d",
   "metadata": {},
   "outputs": [
    {
     "ename": "TypeError",
     "evalue": "unsupported operand type(s) for *: 'set' and 'int'",
     "output_type": "error",
     "traceback": [
      "\u001b[1;31m---------------------------------------------------------------------------\u001b[0m",
      "\u001b[1;31mTypeError\u001b[0m                                 Traceback (most recent call last)",
      "\u001b[1;32m~\\AppData\\Local\\Temp/ipykernel_6616/1294436093.py\u001b[0m in \u001b[0;36m<module>\u001b[1;34m\u001b[0m\n\u001b[1;32m----> 1\u001b[1;33m \u001b[0ms\u001b[0m\u001b[1;33m*\u001b[0m\u001b[1;36m4\u001b[0m\u001b[1;33m\u001b[0m\u001b[1;33m\u001b[0m\u001b[0m\n\u001b[0m",
      "\u001b[1;31mTypeError\u001b[0m: unsupported operand type(s) for *: 'set' and 'int'"
     ]
    }
   ],
   "source": [
    "s*4"
   ]
  },
  {
   "cell_type": "code",
   "execution_count": 334,
   "id": "3ea52769",
   "metadata": {},
   "outputs": [
    {
     "data": {
      "text/plain": [
       "{23, 'Python', 'xggyuh'}"
      ]
     },
     "execution_count": 334,
     "metadata": {},
     "output_type": "execute_result"
    }
   ],
   "source": [
    "s"
   ]
  },
  {
   "cell_type": "code",
   "execution_count": 335,
   "id": "56621daf",
   "metadata": {},
   "outputs": [
    {
     "ename": "AttributeError",
     "evalue": "'set' object has no attribute 'append'",
     "output_type": "error",
     "traceback": [
      "\u001b[1;31m---------------------------------------------------------------------------\u001b[0m",
      "\u001b[1;31mAttributeError\u001b[0m                            Traceback (most recent call last)",
      "\u001b[1;32m~\\AppData\\Local\\Temp/ipykernel_6616/2758605749.py\u001b[0m in \u001b[0;36m<module>\u001b[1;34m\u001b[0m\n\u001b[1;32m----> 1\u001b[1;33m \u001b[0ms\u001b[0m\u001b[1;33m.\u001b[0m\u001b[0mappend\u001b[0m\u001b[1;33m(\u001b[0m\u001b[1;36m25\u001b[0m\u001b[1;33m)\u001b[0m\u001b[1;33m\u001b[0m\u001b[1;33m\u001b[0m\u001b[0m\n\u001b[0m",
      "\u001b[1;31mAttributeError\u001b[0m: 'set' object has no attribute 'append'"
     ]
    }
   ],
   "source": [
    "s.append(25)"
   ]
  },
  {
   "cell_type": "code",
   "execution_count": 336,
   "id": "2ee234b1",
   "metadata": {},
   "outputs": [],
   "source": [
    "list1=list(s)"
   ]
  },
  {
   "cell_type": "code",
   "execution_count": 337,
   "id": "6e983f93",
   "metadata": {},
   "outputs": [
    {
     "data": {
      "text/plain": [
       "['Python', 23, 'xggyuh']"
      ]
     },
     "execution_count": 337,
     "metadata": {},
     "output_type": "execute_result"
    }
   ],
   "source": [
    "list1"
   ]
  },
  {
   "cell_type": "code",
   "execution_count": 338,
   "id": "3d411be4",
   "metadata": {},
   "outputs": [],
   "source": [
    "list1.append(25)"
   ]
  },
  {
   "cell_type": "code",
   "execution_count": 339,
   "id": "23493b35",
   "metadata": {},
   "outputs": [
    {
     "data": {
      "text/plain": [
       "['Python', 23, 'xggyuh', 25]"
      ]
     },
     "execution_count": 339,
     "metadata": {},
     "output_type": "execute_result"
    }
   ],
   "source": [
    "list1"
   ]
  },
  {
   "cell_type": "code",
   "execution_count": 340,
   "id": "e77a51c8",
   "metadata": {},
   "outputs": [],
   "source": [
    "tuple1=tuple(s)"
   ]
  },
  {
   "cell_type": "code",
   "execution_count": 341,
   "id": "db3fb000",
   "metadata": {},
   "outputs": [
    {
     "data": {
      "text/plain": [
       "('Python', 23, 'xggyuh')"
      ]
     },
     "execution_count": 341,
     "metadata": {},
     "output_type": "execute_result"
    }
   ],
   "source": [
    "tuple1"
   ]
  },
  {
   "cell_type": "code",
   "execution_count": 342,
   "id": "333f83fa",
   "metadata": {},
   "outputs": [
    {
     "data": {
      "text/plain": [
       "{23, 'Python', 'xggyuh'}"
      ]
     },
     "execution_count": 342,
     "metadata": {},
     "output_type": "execute_result"
    }
   ],
   "source": [
    "set(tuple1)"
   ]
  },
  {
   "cell_type": "markdown",
   "id": "5469256a",
   "metadata": {},
   "source": [
    "# dictionary"
   ]
  },
  {
   "cell_type": "code",
   "execution_count": 343,
   "id": "7bf4d116",
   "metadata": {},
   "outputs": [],
   "source": [
    "x={}"
   ]
  },
  {
   "cell_type": "code",
   "execution_count": 344,
   "id": "c2161b18",
   "metadata": {},
   "outputs": [
    {
     "data": {
      "text/plain": [
       "dict"
      ]
     },
     "execution_count": 344,
     "metadata": {},
     "output_type": "execute_result"
    }
   ],
   "source": [
    "type(x)"
   ]
  },
  {
   "cell_type": "code",
   "execution_count": 345,
   "id": "953c1173",
   "metadata": {},
   "outputs": [],
   "source": [
    "x={\"1\":34,\"2\":56}"
   ]
  },
  {
   "cell_type": "code",
   "execution_count": 346,
   "id": "fc27e7c9",
   "metadata": {},
   "outputs": [
    {
     "data": {
      "text/plain": [
       "dict"
      ]
     },
     "execution_count": 346,
     "metadata": {},
     "output_type": "execute_result"
    }
   ],
   "source": [
    "type(x)"
   ]
  },
  {
   "cell_type": "code",
   "execution_count": 2,
   "id": "6aaa08ea",
   "metadata": {},
   "outputs": [
    {
     "data": {
      "text/plain": [
       "set"
      ]
     },
     "execution_count": 2,
     "metadata": {},
     "output_type": "execute_result"
    }
   ],
   "source": [
    "set1={1,2,3,4,4}\n",
    "type(set1)"
   ]
  },
  {
   "cell_type": "code",
   "execution_count": 3,
   "id": "f47ebc8d",
   "metadata": {},
   "outputs": [],
   "source": [
    "x={}"
   ]
  },
  {
   "cell_type": "code",
   "execution_count": 4,
   "id": "a82ed363",
   "metadata": {},
   "outputs": [
    {
     "data": {
      "text/plain": [
       "dict"
      ]
     },
     "execution_count": 4,
     "metadata": {},
     "output_type": "execute_result"
    }
   ],
   "source": [
    "type(x)"
   ]
  },
  {
   "cell_type": "code",
   "execution_count": 5,
   "id": "fd31b794",
   "metadata": {},
   "outputs": [],
   "source": [
    "x={\"1\":34,\"2\":56}"
   ]
  },
  {
   "cell_type": "code",
   "execution_count": 6,
   "id": "b52b8603",
   "metadata": {},
   "outputs": [
    {
     "data": {
      "text/plain": [
       "dict"
      ]
     },
     "execution_count": 6,
     "metadata": {},
     "output_type": "execute_result"
    }
   ],
   "source": [
    "type(x)"
   ]
  },
  {
   "cell_type": "code",
   "execution_count": 7,
   "id": "e0855b71",
   "metadata": {},
   "outputs": [],
   "source": [
    "x={\"name\":\"Priyanka\",\"age\":3455}"
   ]
  },
  {
   "cell_type": "code",
   "execution_count": 8,
   "id": "76265bc3",
   "metadata": {},
   "outputs": [
    {
     "data": {
      "text/plain": [
       "{'name': 'Priyanka', 'age': 3455}"
      ]
     },
     "execution_count": 8,
     "metadata": {},
     "output_type": "execute_result"
    }
   ],
   "source": [
    "x"
   ]
  },
  {
   "cell_type": "code",
   "execution_count": 9,
   "id": "46938b30",
   "metadata": {},
   "outputs": [],
   "source": [
    "x1={\"name\":\"Priyanka\",\"name\":\"bhuj\",\"age\":3455,True:\"bhgyu\",5478:456}"
   ]
  },
  {
   "cell_type": "code",
   "execution_count": 10,
   "id": "b8d32f96",
   "metadata": {},
   "outputs": [
    {
     "data": {
      "text/plain": [
       "{'name': 'bhuj', 'age': 3455, True: 'bhgyu', 5478: 456}"
      ]
     },
     "execution_count": 10,
     "metadata": {},
     "output_type": "execute_result"
    }
   ],
   "source": [
    "x1"
   ]
  },
  {
   "cell_type": "code",
   "execution_count": 11,
   "id": "afe2c812",
   "metadata": {},
   "outputs": [],
   "source": [
    "x1={\"name\":\"Priyanka\",\"age\":3455,\"name\":\"bhuj\",True:\"bhgyu\",5478:456,\"%\":155}"
   ]
  },
  {
   "cell_type": "code",
   "execution_count": 12,
   "id": "ee21531c",
   "metadata": {},
   "outputs": [],
   "source": [
    "x1={\"name\":\"Priyanka\",\"age\":3455,\"name\":\"bhuj\",True:\"bhgyu\",5478:456,\"_145\":155}"
   ]
  },
  {
   "cell_type": "code",
   "execution_count": 13,
   "id": "ee88e771",
   "metadata": {},
   "outputs": [],
   "source": [
    "x1={\"name\":\"Priyanka\",\"age\":3455,\"name\":\"bhuj\",True:\"bhgyu\",5478:456,\"_145\":155}"
   ]
  },
  {
   "cell_type": "code",
   "execution_count": 14,
   "id": "41df8ea0",
   "metadata": {},
   "outputs": [
    {
     "data": {
      "text/plain": [
       "{'name': 'bhuj', 'age': 3455, True: 'bhgyu', 5478: 456, '_145': 155}"
      ]
     },
     "execution_count": 14,
     "metadata": {},
     "output_type": "execute_result"
    }
   ],
   "source": [
    "x1"
   ]
  },
  {
   "cell_type": "code",
   "execution_count": 16,
   "id": "6542d60d",
   "metadata": {},
   "outputs": [],
   "source": [
    "x1={\"name\":\"Priyanka\",\"age\":3455,\"name\":\"bhuj\",True:\"bhgyu\",5478:(456,11,56),\"_145\":[155,\"vgvyu\",True]}"
   ]
  },
  {
   "cell_type": "code",
   "execution_count": 17,
   "id": "e259f1b3",
   "metadata": {},
   "outputs": [
    {
     "data": {
      "text/plain": [
       "{'name': 'bhuj',\n",
       " 'age': 3455,\n",
       " True: 'bhgyu',\n",
       " 5478: (456, 11, 56),\n",
       " '_145': [155, 'vgvyu', True]}"
      ]
     },
     "execution_count": 17,
     "metadata": {},
     "output_type": "execute_result"
    }
   ],
   "source": [
    "x1"
   ]
  },
  {
   "cell_type": "code",
   "execution_count": 18,
   "id": "a25ec2b9",
   "metadata": {},
   "outputs": [
    {
     "ename": "TypeError",
     "evalue": "unhashable type: 'dict'",
     "output_type": "error",
     "traceback": [
      "\u001b[1;31m---------------------------------------------------------------------------\u001b[0m",
      "\u001b[1;31mTypeError\u001b[0m                                 Traceback (most recent call last)",
      "\u001b[1;32m~\\AppData\\Local\\Temp/ipykernel_3688/4122890979.py\u001b[0m in \u001b[0;36m<module>\u001b[1;34m\u001b[0m\n\u001b[1;32m----> 1\u001b[1;33m \u001b[0mx1\u001b[0m\u001b[1;33m=\u001b[0m\u001b[1;33m{\u001b[0m\u001b[1;33m{\u001b[0m\u001b[1;36m3\u001b[0m\u001b[1;33m:\u001b[0m\u001b[1;34m\"cevr\"\u001b[0m\u001b[1;33m}\u001b[0m\u001b[1;33m:\u001b[0m\u001b[1;34m\"wer\"\u001b[0m\u001b[1;33m,\u001b[0m\u001b[1;34m'k4'\u001b[0m\u001b[1;33m:\u001b[0m\u001b[1;33m[\u001b[0m\u001b[1;36m1\u001b[0m\u001b[1;33m,\u001b[0m\u001b[1;36m2\u001b[0m\u001b[1;33m,\u001b[0m\u001b[1;36m3\u001b[0m\u001b[1;33m,\u001b[0m\u001b[1;36m4\u001b[0m\u001b[1;33m]\u001b[0m\u001b[1;33m}\u001b[0m\u001b[1;33m\u001b[0m\u001b[1;33m\u001b[0m\u001b[0m\n\u001b[0m",
      "\u001b[1;31mTypeError\u001b[0m: unhashable type: 'dict'"
     ]
    }
   ],
   "source": [
    "x1={{3:\"cevr\"}:\"wer\",'k4':[1,2,3,4]}"
   ]
  },
  {
   "cell_type": "code",
   "execution_count": 19,
   "id": "b076a601",
   "metadata": {},
   "outputs": [],
   "source": [
    "x1={'wer':[1,2,3,4]}"
   ]
  },
  {
   "cell_type": "code",
   "execution_count": 20,
   "id": "7a9f636a",
   "metadata": {},
   "outputs": [
    {
     "data": {
      "text/plain": [
       "4"
      ]
     },
     "execution_count": 20,
     "metadata": {},
     "output_type": "execute_result"
    }
   ],
   "source": [
    "l=[34,45,4,54]\n",
    "l[2]"
   ]
  },
  {
   "cell_type": "code",
   "execution_count": 21,
   "id": "ba704584",
   "metadata": {},
   "outputs": [
    {
     "data": {
      "text/plain": [
       "{'wer': [1, 2, 3, 4]}"
      ]
     },
     "execution_count": 21,
     "metadata": {},
     "output_type": "execute_result"
    }
   ],
   "source": [
    "x1"
   ]
  },
  {
   "cell_type": "code",
   "execution_count": 22,
   "id": "d066ac2e",
   "metadata": {},
   "outputs": [],
   "source": [
    "x1={\"name\":\"Priyanka\",\"age\":3455,\"name\":\"bhuj\",True:\"bhgyu\",True:\"2148bgf\",5478:(456,11,56),\"_145\":[155,\"vgvyu\",True]}"
   ]
  },
  {
   "cell_type": "code",
   "execution_count": 23,
   "id": "0f553f0e",
   "metadata": {},
   "outputs": [
    {
     "data": {
      "text/plain": [
       "(456, 11, 56)"
      ]
     },
     "execution_count": 23,
     "metadata": {},
     "output_type": "execute_result"
    }
   ],
   "source": [
    "x1[5478]"
   ]
  },
  {
   "cell_type": "code",
   "execution_count": 24,
   "id": "2e630bd3",
   "metadata": {},
   "outputs": [
    {
     "data": {
      "text/plain": [
       "'2148bgf'"
      ]
     },
     "execution_count": 24,
     "metadata": {},
     "output_type": "execute_result"
    }
   ],
   "source": [
    "x1[True]"
   ]
  },
  {
   "cell_type": "code",
   "execution_count": 25,
   "id": "7003db56",
   "metadata": {},
   "outputs": [
    {
     "data": {
      "text/plain": [
       "'vgvyu'"
      ]
     },
     "execution_count": 25,
     "metadata": {},
     "output_type": "execute_result"
    }
   ],
   "source": [
    "x1[\"_145\"][1]"
   ]
  },
  {
   "cell_type": "code",
   "execution_count": 27,
   "id": "4a77c648",
   "metadata": {},
   "outputs": [],
   "source": [
    "x2={\"name\":{\"k1\":\"wer\",\"k4\":[345,53435,534]},\"age\":3897,True:{1,2,3},\"key\":False,112:(4,5,6)}"
   ]
  },
  {
   "cell_type": "code",
   "execution_count": 28,
   "id": "eed4c27c",
   "metadata": {},
   "outputs": [
    {
     "data": {
      "text/plain": [
       "{'name': {'k1': 'wer', 'k4': [345, 53435, 534]},\n",
       " 'age': 3897,\n",
       " True: {1, 2, 3},\n",
       " 'key': False,\n",
       " 112: (4, 5, 6)}"
      ]
     },
     "execution_count": 28,
     "metadata": {},
     "output_type": "execute_result"
    }
   ],
   "source": [
    "x2"
   ]
  },
  {
   "cell_type": "code",
   "execution_count": 29,
   "id": "6f624dfb",
   "metadata": {},
   "outputs": [
    {
     "data": {
      "text/plain": [
       "{'k1': 'wer', 'k4': [345, 53435, 534]}"
      ]
     },
     "execution_count": 29,
     "metadata": {},
     "output_type": "execute_result"
    }
   ],
   "source": [
    "x2[\"name\"]"
   ]
  },
  {
   "cell_type": "code",
   "execution_count": 30,
   "id": "8e57cb62",
   "metadata": {},
   "outputs": [
    {
     "data": {
      "text/plain": [
       "dict"
      ]
     },
     "execution_count": 30,
     "metadata": {},
     "output_type": "execute_result"
    }
   ],
   "source": [
    "type(x2[\"name\"])"
   ]
  },
  {
   "cell_type": "code",
   "execution_count": 31,
   "id": "be5e3efc",
   "metadata": {},
   "outputs": [
    {
     "data": {
      "text/plain": [
       "[345, 53435, 534]"
      ]
     },
     "execution_count": 31,
     "metadata": {},
     "output_type": "execute_result"
    }
   ],
   "source": [
    "x2[\"name\"][\"k4\"]"
   ]
  },
  {
   "cell_type": "code",
   "execution_count": 37,
   "id": "52128cb2",
   "metadata": {},
   "outputs": [],
   "source": [
    "x3={5:\"cdde\",\"k4\":[345,56789,654]}"
   ]
  },
  {
   "cell_type": "code",
   "execution_count": 38,
   "id": "51341aea",
   "metadata": {},
   "outputs": [],
   "source": [
    "x4={\"k4\":\"cewfe\"}"
   ]
  },
  {
   "cell_type": "code",
   "execution_count": 39,
   "id": "68b64ae8",
   "metadata": {},
   "outputs": [
    {
     "ename": "TypeError",
     "evalue": "unsupported operand type(s) for +: 'dict' and 'dict'",
     "output_type": "error",
     "traceback": [
      "\u001b[1;31m---------------------------------------------------------------------------\u001b[0m",
      "\u001b[1;31mTypeError\u001b[0m                                 Traceback (most recent call last)",
      "\u001b[1;32m~\\AppData\\Local\\Temp/ipykernel_3688/1011359099.py\u001b[0m in \u001b[0;36m<module>\u001b[1;34m\u001b[0m\n\u001b[1;32m----> 1\u001b[1;33m \u001b[0mx3\u001b[0m\u001b[1;33m+\u001b[0m\u001b[0mx4\u001b[0m\u001b[1;33m\u001b[0m\u001b[1;33m\u001b[0m\u001b[0m\n\u001b[0m",
      "\u001b[1;31mTypeError\u001b[0m: unsupported operand type(s) for +: 'dict' and 'dict'"
     ]
    }
   ],
   "source": [
    "x3+x4"
   ]
  },
  {
   "cell_type": "code",
   "execution_count": 42,
   "id": "2031cb4d",
   "metadata": {},
   "outputs": [
    {
     "data": {
      "text/plain": [
       "[345, 56789, 654]"
      ]
     },
     "execution_count": 42,
     "metadata": {},
     "output_type": "execute_result"
    }
   ],
   "source": [
    "x3[\"k4\"]"
   ]
  },
  {
   "cell_type": "code",
   "execution_count": 43,
   "id": "21c612f6",
   "metadata": {},
   "outputs": [],
   "source": [
    "x3[\"k4\"]=456"
   ]
  },
  {
   "cell_type": "code",
   "execution_count": 44,
   "id": "64ec5482",
   "metadata": {},
   "outputs": [
    {
     "data": {
      "text/plain": [
       "{5: 'cdde', 'k4': 456}"
      ]
     },
     "execution_count": 44,
     "metadata": {},
     "output_type": "execute_result"
    }
   ],
   "source": [
    "x3"
   ]
  },
  {
   "cell_type": "code",
   "execution_count": 45,
   "id": "7575235f",
   "metadata": {},
   "outputs": [],
   "source": [
    "x3[\"k4\"]=10"
   ]
  },
  {
   "cell_type": "code",
   "execution_count": 46,
   "id": "8c1dec5d",
   "metadata": {},
   "outputs": [],
   "source": [
    "x3[\"k4\"]=x3[\"k4\"]=10"
   ]
  },
  {
   "cell_type": "code",
   "execution_count": 47,
   "id": "efb4f193",
   "metadata": {},
   "outputs": [
    {
     "data": {
      "text/plain": [
       "dict_keys([5, 'k4'])"
      ]
     },
     "execution_count": 47,
     "metadata": {},
     "output_type": "execute_result"
    }
   ],
   "source": [
    "x3.keys()"
   ]
  },
  {
   "cell_type": "code",
   "execution_count": 48,
   "id": "bd5bafad",
   "metadata": {},
   "outputs": [
    {
     "data": {
      "text/plain": [
       "True"
      ]
     },
     "execution_count": 48,
     "metadata": {},
     "output_type": "execute_result"
    }
   ],
   "source": [
    "'k4'in x3.keys()"
   ]
  },
  {
   "cell_type": "code",
   "execution_count": 49,
   "id": "c6f0c605",
   "metadata": {},
   "outputs": [
    {
     "data": {
      "text/plain": [
       "{5: 'cdde', 'k4': 10}"
      ]
     },
     "execution_count": 49,
     "metadata": {},
     "output_type": "execute_result"
    }
   ],
   "source": [
    "x3"
   ]
  },
  {
   "cell_type": "code",
   "execution_count": 50,
   "id": "035d3e98",
   "metadata": {},
   "outputs": [
    {
     "name": "stdout",
     "output_type": "stream",
     "text": [
      "5\n",
      "k4\n"
     ]
    }
   ],
   "source": [
    "for i in x3:\n",
    "    print(i)"
   ]
  },
  {
   "cell_type": "code",
   "execution_count": 51,
   "id": "c7104c1a",
   "metadata": {},
   "outputs": [
    {
     "name": "stdout",
     "output_type": "stream",
     "text": [
      "[5]\n",
      "['k4']\n"
     ]
    }
   ],
   "source": [
    "for i in x3.keys():\n",
    "    print([i])"
   ]
  },
  {
   "cell_type": "code",
   "execution_count": 52,
   "id": "b829efb2",
   "metadata": {},
   "outputs": [
    {
     "name": "stdout",
     "output_type": "stream",
     "text": [
      "cdde\n",
      "10\n"
     ]
    }
   ],
   "source": [
    "for i in x3.keys():\n",
    "    print(x3[i])"
   ]
  },
  {
   "cell_type": "code",
   "execution_count": 53,
   "id": "e4c5df0d",
   "metadata": {},
   "outputs": [
    {
     "data": {
      "text/plain": [
       "dict_keys(['name', 'age', True, 'key', 112])"
      ]
     },
     "execution_count": 53,
     "metadata": {},
     "output_type": "execute_result"
    }
   ],
   "source": [
    "x2.keys()"
   ]
  },
  {
   "cell_type": "code",
   "execution_count": 54,
   "id": "2e5d85e8",
   "metadata": {},
   "outputs": [],
   "source": [
    "x2={\"name\":{\"k1\":\"wer\",\"k4\":[345,53435,534]},\"age\":3897,True:{1,2,3},\"key\":False,112:(4,5,6)}"
   ]
  },
  {
   "cell_type": "code",
   "execution_count": 55,
   "id": "a5d03474",
   "metadata": {},
   "outputs": [
    {
     "data": {
      "text/plain": [
       "dict_keys(['name', 'age', True, 'key', 112])"
      ]
     },
     "execution_count": 55,
     "metadata": {},
     "output_type": "execute_result"
    }
   ],
   "source": [
    "x2.keys()"
   ]
  },
  {
   "cell_type": "code",
   "execution_count": 72,
   "id": "ee964a89",
   "metadata": {},
   "outputs": [
    {
     "name": "stdout",
     "output_type": "stream",
     "text": [
      "<class 'dict'>\n",
      "<class 'int'>\n",
      "<class 'set'>\n",
      "<class 'bool'>\n",
      "<class 'tuple'>\n"
     ]
    }
   ],
   "source": [
    "for i in x2.keys():\n",
    "    print(type(x2[i]))"
   ]
  },
  {
   "cell_type": "code",
   "execution_count": 73,
   "id": "5510910f",
   "metadata": {},
   "outputs": [
    {
     "data": {
      "text/plain": [
       "dict_items([('name', {'k1': 'wer', 'k4': [345, 53435, 534]}), ('age', 3897), (True, {1, 2, 3}), ('key', False), (112, (4, 5, 6))])"
      ]
     },
     "execution_count": 73,
     "metadata": {},
     "output_type": "execute_result"
    }
   ],
   "source": [
    "x2.items()"
   ]
  },
  {
   "cell_type": "code",
   "execution_count": 75,
   "id": "f9461bdd",
   "metadata": {},
   "outputs": [
    {
     "name": "stdout",
     "output_type": "stream",
     "text": [
      "('name', {'k1': 'wer', 'k4': [345, 53435, 534]})\n",
      "('age', 3897)\n",
      "(True, {1, 2, 3})\n",
      "('key', False)\n",
      "(112, (4, 5, 6))\n"
     ]
    }
   ],
   "source": [
    "for i in x2.items():\n",
    "    print(i)"
   ]
  },
  {
   "cell_type": "code",
   "execution_count": 76,
   "id": "a8622229",
   "metadata": {},
   "outputs": [
    {
     "name": "stdout",
     "output_type": "stream",
     "text": [
      "name\n",
      "age\n",
      "True\n",
      "key\n",
      "112\n"
     ]
    }
   ],
   "source": [
    "for i in x2.items():\n",
    "    print(i[0])"
   ]
  },
  {
   "cell_type": "code",
   "execution_count": 77,
   "id": "5960822c",
   "metadata": {},
   "outputs": [
    {
     "name": "stdout",
     "output_type": "stream",
     "text": [
      "{'k1': 'wer', 'k4': [345, 53435, 534]}\n",
      "3897\n",
      "{1, 2, 3}\n",
      "False\n",
      "(4, 5, 6)\n"
     ]
    }
   ],
   "source": [
    "for i in x2.items():\n",
    "    print(i[1])"
   ]
  },
  {
   "cell_type": "code",
   "execution_count": 61,
   "id": "e3f821b9",
   "metadata": {},
   "outputs": [],
   "source": [
    "x5={(34,56,56):\"cftyyu\"}"
   ]
  },
  {
   "cell_type": "code",
   "execution_count": 62,
   "id": "0938112e",
   "metadata": {},
   "outputs": [
    {
     "data": {
      "text/plain": [
       "'cftyyu'"
      ]
     },
     "execution_count": 62,
     "metadata": {},
     "output_type": "execute_result"
    }
   ],
   "source": [
    "x5[(34,56,56)]"
   ]
  },
  {
   "cell_type": "code",
   "execution_count": 63,
   "id": "602009a3",
   "metadata": {},
   "outputs": [
    {
     "data": {
      "text/plain": [
       "'cftyyu'"
      ]
     },
     "execution_count": 63,
     "metadata": {},
     "output_type": "execute_result"
    }
   ],
   "source": [
    "x5[(34,56,56)]"
   ]
  },
  {
   "cell_type": "code",
   "execution_count": 64,
   "id": "16648629",
   "metadata": {},
   "outputs": [
    {
     "data": {
      "text/plain": [
       "{(34, 56, 56): 'cftyyu'}"
      ]
     },
     "execution_count": 64,
     "metadata": {},
     "output_type": "execute_result"
    }
   ],
   "source": [
    "x5"
   ]
  },
  {
   "cell_type": "code",
   "execution_count": 65,
   "id": "1eae4227",
   "metadata": {},
   "outputs": [
    {
     "data": {
      "text/plain": [
       "1"
      ]
     },
     "execution_count": 65,
     "metadata": {},
     "output_type": "execute_result"
    }
   ],
   "source": [
    "len(x5)"
   ]
  },
  {
   "cell_type": "code",
   "execution_count": 66,
   "id": "503aeebe",
   "metadata": {},
   "outputs": [],
   "source": [
    "#e={56:{45,78,89}}  #extract 45"
   ]
  },
  {
   "cell_type": "code",
   "execution_count": 68,
   "id": "f0192337",
   "metadata": {},
   "outputs": [],
   "source": [
    "e={56:{45,78,89}}"
   ]
  },
  {
   "cell_type": "code",
   "execution_count": 70,
   "id": "94ebfbfe",
   "metadata": {},
   "outputs": [
    {
     "data": {
      "text/plain": [
       "78"
      ]
     },
     "execution_count": 70,
     "metadata": {},
     "output_type": "execute_result"
    }
   ],
   "source": [
    "list(e[56])[2]"
   ]
  },
  {
   "cell_type": "code",
   "execution_count": 1,
   "id": "0cca8249",
   "metadata": {},
   "outputs": [
    {
     "data": {
      "text/plain": [
       "{'Institute': 'Quastech', 'course': 'Data science using python', 'Year': 2021}"
      ]
     },
     "execution_count": 1,
     "metadata": {},
     "output_type": "execute_result"
    }
   ],
   "source": [
    "d={\"Institute\":\"Quastech\",\"course\":\"Data science using python\",\"Year\":2021}\n",
    "d"
   ]
  },
  {
   "cell_type": "code",
   "execution_count": 2,
   "id": "91baa648",
   "metadata": {},
   "outputs": [
    {
     "name": "stdout",
     "output_type": "stream",
     "text": [
      "Print a key: Institute Value: Quastech\n",
      "Print a key: course Value: Data science using python\n",
      "Print a key: Year Value: 2021\n"
     ]
    }
   ],
   "source": [
    "for i in d: #d[i] ->Value at index i\n",
    "    print(\"Print a key:\",i,\"Value:\",d[i])"
   ]
  },
  {
   "cell_type": "code",
   "execution_count": 3,
   "id": "4473f8eb",
   "metadata": {},
   "outputs": [],
   "source": [
    "l=[1145,452]"
   ]
  },
  {
   "cell_type": "code",
   "execution_count": 4,
   "id": "e9fcf4d7",
   "metadata": {},
   "outputs": [
    {
     "ename": "IndexError",
     "evalue": "list index out of range",
     "output_type": "error",
     "traceback": [
      "\u001b[1;31m---------------------------------------------------------------------------\u001b[0m",
      "\u001b[1;31mIndexError\u001b[0m                                Traceback (most recent call last)",
      "\u001b[1;32m~\\AppData\\Local\\Temp/ipykernel_9296/1519722742.py\u001b[0m in \u001b[0;36m<module>\u001b[1;34m\u001b[0m\n\u001b[0;32m      1\u001b[0m \u001b[1;32mfor\u001b[0m \u001b[0mi\u001b[0m \u001b[1;32min\u001b[0m \u001b[0ml\u001b[0m\u001b[1;33m:\u001b[0m\u001b[1;33m\u001b[0m\u001b[1;33m\u001b[0m\u001b[0m\n\u001b[1;32m----> 2\u001b[1;33m     \u001b[0mprint\u001b[0m\u001b[1;33m(\u001b[0m\u001b[1;34m\"Print a key:\"\u001b[0m\u001b[1;33m,\u001b[0m\u001b[0ml\u001b[0m\u001b[1;33m[\u001b[0m\u001b[0mi\u001b[0m\u001b[1;33m]\u001b[0m\u001b[1;33m)\u001b[0m\u001b[1;33m\u001b[0m\u001b[1;33m\u001b[0m\u001b[0m\n\u001b[0m",
      "\u001b[1;31mIndexError\u001b[0m: list index out of range"
     ]
    }
   ],
   "source": [
    "for i in l:\n",
    "    print(\"Print a key:\",l[i])"
   ]
  },
  {
   "cell_type": "code",
   "execution_count": 7,
   "id": "e12594df",
   "metadata": {},
   "outputs": [
    {
     "name": "stdout",
     "output_type": "stream",
     "text": [
      "1145\n",
      "452\n"
     ]
    }
   ],
   "source": [
    "#solution to the above error:\n",
    "\n",
    "for i in range(len(l)):#d[i]->Value at index i\n",
    "    print(l[i])"
   ]
  },
  {
   "cell_type": "code",
   "execution_count": 8,
   "id": "74d2d31e",
   "metadata": {},
   "outputs": [
    {
     "name": "stdout",
     "output_type": "stream",
     "text": [
      "Institute\n",
      "course\n",
      "Year\n"
     ]
    }
   ],
   "source": [
    "for i in d:\n",
    "    print(i)"
   ]
  },
  {
   "cell_type": "code",
   "execution_count": 9,
   "id": "acb876cc",
   "metadata": {},
   "outputs": [
    {
     "data": {
      "text/plain": [
       "{'Institute': 'Quastech', 'course': 'Data science using python', 'Year': 2021}"
      ]
     },
     "execution_count": 9,
     "metadata": {},
     "output_type": "execute_result"
    }
   ],
   "source": [
    "d"
   ]
  },
  {
   "cell_type": "code",
   "execution_count": 10,
   "id": "3cc127bf",
   "metadata": {},
   "outputs": [
    {
     "name": "stdout",
     "output_type": "stream",
     "text": [
      "<class 'str'>\n",
      "<class 'str'>\n",
      "<class 'str'>\n"
     ]
    }
   ],
   "source": [
    "for i in d:\n",
    "    print(type(i))"
   ]
  },
  {
   "cell_type": "code",
   "execution_count": 12,
   "id": "8eb23e15",
   "metadata": {},
   "outputs": [
    {
     "name": "stdout",
     "output_type": "stream",
     "text": [
      "<class 'str'>\n",
      "<class 'str'>\n",
      "<class 'int'>\n"
     ]
    }
   ],
   "source": [
    "for i in d.keys():\n",
    "    print(type(d[i]))"
   ]
  },
  {
   "cell_type": "code",
   "execution_count": 13,
   "id": "9440aae3",
   "metadata": {},
   "outputs": [
    {
     "data": {
      "text/plain": [
       "{'Institute': 'Quastech', 'course': 'Data science using python', 'Year': 2021}"
      ]
     },
     "execution_count": 13,
     "metadata": {},
     "output_type": "execute_result"
    }
   ],
   "source": [
    "d={\"Institute\":\"Quastech\",\"course\":\"Data science using python\",\"Year\":2021}\n",
    "d"
   ]
  },
  {
   "cell_type": "code",
   "execution_count": 14,
   "id": "0706b714",
   "metadata": {},
   "outputs": [
    {
     "name": "stdout",
     "output_type": "stream",
     "text": [
      "year is not valid\n"
     ]
    }
   ],
   "source": [
    "for i in d:\n",
    "    if i==\"Year\":\n",
    "        if d[i]>2021:\n",
    "            print(\"year is fine\")\n",
    "        else:\n",
    "            d[i]=2022\n",
    "            print(\"year is not valid\")"
   ]
  },
  {
   "cell_type": "code",
   "execution_count": 15,
   "id": "11c27f9f",
   "metadata": {},
   "outputs": [
    {
     "data": {
      "text/plain": [
       "{'Institute': 'Quastech', 'course': 'Data science using python', 'Year': 2022}"
      ]
     },
     "execution_count": 15,
     "metadata": {},
     "output_type": "execute_result"
    }
   ],
   "source": [
    "d"
   ]
  },
  {
   "cell_type": "markdown",
   "id": "eb4e2a73",
   "metadata": {},
   "source": [
    "# Dictionary Comprehension"
   ]
  },
  {
   "cell_type": "code",
   "execution_count": 17,
   "id": "9db0f71f",
   "metadata": {},
   "outputs": [
    {
     "data": {
      "text/plain": [
       "{0: 0, 1: 1, 2: 4, 3: 9, 4: 16, 5: 25, 6: 36, 7: 49, 8: 64, 9: 81}"
      ]
     },
     "execution_count": 17,
     "metadata": {},
     "output_type": "execute_result"
    }
   ],
   "source": [
    "my_dict={}\n",
    "for i in range(10):\n",
    "    my_dict[i]=i*i\n",
    "my_dict"
   ]
  },
  {
   "cell_type": "code",
   "execution_count": 18,
   "id": "c42cb5fd",
   "metadata": {},
   "outputs": [
    {
     "data": {
      "text/plain": [
       "{0: 0, 1: 1, 2: 4, 3: 9, 4: 16, 5: 25, 6: 36, 7: 49, 8: 64, 9: 81}"
      ]
     },
     "execution_count": 18,
     "metadata": {},
     "output_type": "execute_result"
    }
   ],
   "source": [
    "{i:i*i for i in range(10)}"
   ]
  },
  {
   "cell_type": "code",
   "execution_count": 19,
   "id": "6dc53815",
   "metadata": {},
   "outputs": [
    {
     "data": {
      "text/plain": [
       "{0: 0, 1: 1, 2: 4, 3: 9, 4: 16, 5: 25, 6: 36, 7: 49, 8: 64, 9: 81}"
      ]
     },
     "execution_count": 19,
     "metadata": {},
     "output_type": "execute_result"
    }
   ],
   "source": [
    "{i:i*i for i in range(10)}"
   ]
  }
 ],
 "metadata": {
  "kernelspec": {
   "display_name": "Python 3 (ipykernel)",
   "language": "python",
   "name": "python3"
  },
  "language_info": {
   "codemirror_mode": {
    "name": "ipython",
    "version": 3
   },
   "file_extension": ".py",
   "mimetype": "text/x-python",
   "name": "python",
   "nbconvert_exporter": "python",
   "pygments_lexer": "ipython3",
   "version": "3.9.7"
  }
 },
 "nbformat": 4,
 "nbformat_minor": 5
}
