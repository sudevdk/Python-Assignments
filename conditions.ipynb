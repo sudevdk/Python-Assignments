{
 "cells": [
  {
   "cell_type": "code",
   "execution_count": 1,
   "id": "540f01ff",
   "metadata": {},
   "outputs": [
    {
     "name": "stdout",
     "output_type": "stream",
     "text": [
      "33\n"
     ]
    }
   ],
   "source": [
    "a=input()"
   ]
  },
  {
   "cell_type": "code",
   "execution_count": 2,
   "id": "5e1c76a7",
   "metadata": {},
   "outputs": [
    {
     "name": "stdout",
     "output_type": "stream",
     "text": [
      "enter a integer45\n"
     ]
    }
   ],
   "source": [
    "a=input(\"enter a integer\")"
   ]
  },
  {
   "cell_type": "code",
   "execution_count": 3,
   "id": "b76d7f68",
   "metadata": {},
   "outputs": [
    {
     "data": {
      "text/plain": [
       "str"
      ]
     },
     "execution_count": 3,
     "metadata": {},
     "output_type": "execute_result"
    }
   ],
   "source": [
    "type(a)"
   ]
  },
  {
   "cell_type": "code",
   "execution_count": 4,
   "id": "6bcbadc5",
   "metadata": {},
   "outputs": [
    {
     "name": "stdout",
     "output_type": "stream",
     "text": [
      "enter a integer545456\n"
     ]
    }
   ],
   "source": [
    "a=input(\"enter a integer\")"
   ]
  },
  {
   "cell_type": "code",
   "execution_count": 5,
   "id": "c82fa866",
   "metadata": {},
   "outputs": [
    {
     "data": {
      "text/plain": [
       "'545456'"
      ]
     },
     "execution_count": 5,
     "metadata": {},
     "output_type": "execute_result"
    }
   ],
   "source": [
    "a"
   ]
  },
  {
   "cell_type": "code",
   "execution_count": 6,
   "id": "2255065d",
   "metadata": {},
   "outputs": [
    {
     "data": {
      "text/plain": [
       "str"
      ]
     },
     "execution_count": 6,
     "metadata": {},
     "output_type": "execute_result"
    }
   ],
   "source": [
    "type(a)"
   ]
  },
  {
   "cell_type": "code",
   "execution_count": 2,
   "id": "90aa90bf",
   "metadata": {},
   "outputs": [
    {
     "name": "stdout",
     "output_type": "stream",
     "text": [
      "this is my var a 10\n"
     ]
    }
   ],
   "source": [
    "a=int(input(\"this is my var a\"))"
   ]
  },
  {
   "cell_type": "code",
   "execution_count": 8,
   "id": "b9bd6dc4",
   "metadata": {},
   "outputs": [
    {
     "data": {
      "text/plain": [
       "int"
      ]
     },
     "execution_count": 8,
     "metadata": {},
     "output_type": "execute_result"
    }
   ],
   "source": [
    "type(a)"
   ]
  },
  {
   "cell_type": "code",
   "execution_count": 3,
   "id": "7db141bb",
   "metadata": {},
   "outputs": [
    {
     "name": "stdout",
     "output_type": "stream",
     "text": [
      "this is my var a 33\n",
      "this is my var b45\n",
      "this is my var c65\n"
     ]
    }
   ],
   "source": [
    "a=int(input(\"this is my var a\"))\n",
    "b=int(input(\"this is my var b\"))\n",
    "c=int(input(\"this is my var c\"))"
   ]
  },
  {
   "cell_type": "code",
   "execution_count": 4,
   "id": "aaa7aa24",
   "metadata": {},
   "outputs": [],
   "source": [
    "o=a+b/c\n",
    "o1=o+78+6j"
   ]
  },
  {
   "cell_type": "code",
   "execution_count": 6,
   "id": "7f520257",
   "metadata": {},
   "outputs": [
    {
     "data": {
      "text/plain": [
       "complex"
      ]
     },
     "execution_count": 6,
     "metadata": {},
     "output_type": "execute_result"
    }
   ],
   "source": [
    "type(o1)"
   ]
  },
  {
   "cell_type": "code",
   "execution_count": 7,
   "id": "834d5227",
   "metadata": {},
   "outputs": [
    {
     "ename": "TypeError",
     "evalue": "unsupported operand type(s) for +: 'complex' and 'str'",
     "output_type": "error",
     "traceback": [
      "\u001b[1;31m---------------------------------------------------------------------------\u001b[0m",
      "\u001b[1;31mTypeError\u001b[0m                                 Traceback (most recent call last)",
      "\u001b[1;32m~\\AppData\\Local\\Temp/ipykernel_6072/2517291612.py\u001b[0m in \u001b[0;36m<module>\u001b[1;34m\u001b[0m\n\u001b[1;32m----> 1\u001b[1;33m \u001b[0mo1\u001b[0m\u001b[1;33m+\u001b[0m\u001b[1;34m\"cnbjdhfk\"\u001b[0m\u001b[1;33m\u001b[0m\u001b[1;33m\u001b[0m\u001b[0m\n\u001b[0m",
      "\u001b[1;31mTypeError\u001b[0m: unsupported operand type(s) for +: 'complex' and 'str'"
     ]
    }
   ],
   "source": [
    "o1+\"cnbjdhfk\""
   ]
  },
  {
   "cell_type": "code",
   "execution_count": 8,
   "id": "0b14ce5c",
   "metadata": {},
   "outputs": [
    {
     "data": {
      "text/plain": [
       "'(111.6923076923077+6j)cnbjdhfk'"
      ]
     },
     "execution_count": 8,
     "metadata": {},
     "output_type": "execute_result"
    }
   ],
   "source": [
    "str(o1)+\"cnbjdhfk\""
   ]
  },
  {
   "cell_type": "code",
   "execution_count": 9,
   "id": "0ed074f0",
   "metadata": {},
   "outputs": [
    {
     "name": "stdout",
     "output_type": "stream",
     "text": [
      "input a number33\n",
      "if input data is lesser than 34 and i am fine with it\n"
     ]
    }
   ],
   "source": [
    "a=int(input(\"input a number\"))\n",
    "if a<34:\n",
    "    print(\"if input data is lesser than 34 and i am fine with it\")\n",
    "else:\n",
    "    print(\"user input is not lesser than 34\")"
   ]
  },
  {
   "cell_type": "code",
   "execution_count": 10,
   "id": "38cc0734",
   "metadata": {},
   "outputs": [
    {
     "name": "stdout",
     "output_type": "stream",
     "text": [
      "input a number589\n",
      "if input data is lesser than 34 and i am fine with it\n"
     ]
    }
   ],
   "source": [
    "a=int(input(\"input a number\"))\n",
    "if a<34:\n",
    "    pass\n",
    "print(\"if input data is lesser than 34 and i am fine with it\")"
   ]
  },
  {
   "cell_type": "code",
   "execution_count": 12,
   "id": "cf2e38d5",
   "metadata": {},
   "outputs": [
    {
     "name": "stdout",
     "output_type": "stream",
     "text": [
      "input a number98\n",
      "my data is lesser than 100\n"
     ]
    }
   ],
   "source": [
    "a=int(input(\"input a number\"))\n",
    "if a<34:\n",
    "    print(\"if input data is lesser than 34 and i am fine with it\")\n",
    "elif a<100:\n",
    "    print(\"my data is lesser than 100\")\n",
    "else:\n",
    "    print(\"user input is not lesser than 34\")"
   ]
  },
  {
   "cell_type": "code",
   "execution_count": 17,
   "id": "afbc3ee3",
   "metadata": {},
   "outputs": [
    {
     "name": "stdout",
     "output_type": "stream",
     "text": [
      "enter your salary60000\n",
      "i will buy a car\n"
     ]
    }
   ],
   "source": [
    "salary=int(input(\"enter your salary\"))\n",
    "if salary <=100000 and salary > 50000:\n",
    "    print(\"i will buy a car\")\n",
    "elif salary <=50000 and salary > 25000:\n",
    "    print(\"i will buy a bike\")\n",
    "elif salary >15000 and salary <= 25000:\n",
    "    print(\"i will not buy anything \")\n",
    "else:\n",
    "    print(\"i will go for savings\")\n",
    "    \n",
    "    "
   ]
  },
  {
   "cell_type": "code",
   "execution_count": 21,
   "id": "8c5748cb",
   "metadata": {},
   "outputs": [
    {
     "name": "stdout",
     "output_type": "stream",
     "text": [
      "enter your first namesruthi\n",
      "enter your last namekunnikulath\n",
      "this statement is not valid\n"
     ]
    }
   ],
   "source": [
    "first_name=input(\"enter your first name\")\n",
    "last_name=input(\"enter your last name\")\n",
    "if first_name==\"sudev\" and last_name==\"kunnikulath\":\n",
    "    print(\"this statement is valid\")\n",
    "elif first_name==\"sudev\" or last_name==\"Kunnikulath\":\n",
    "    print(\"this statement is only valid inside elif\")\n",
    "else:\n",
    "    print(\"this statement is not valid\")"
   ]
  },
  {
   "cell_type": "code",
   "execution_count": null,
   "id": "681de62a",
   "metadata": {},
   "outputs": [],
   "source": []
  }
 ],
 "metadata": {
  "kernelspec": {
   "display_name": "Python 3 (ipykernel)",
   "language": "python",
   "name": "python3"
  },
  "language_info": {
   "codemirror_mode": {
    "name": "ipython",
    "version": 3
   },
   "file_extension": ".py",
   "mimetype": "text/x-python",
   "name": "python",
   "nbconvert_exporter": "python",
   "pygments_lexer": "ipython3",
   "version": "3.9.7"
  }
 },
 "nbformat": 4,
 "nbformat_minor": 5
}
