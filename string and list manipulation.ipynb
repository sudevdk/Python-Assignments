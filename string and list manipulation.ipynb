{
 "cells": [
  {
   "cell_type": "markdown",
   "id": "e8ec83e3",
   "metadata": {},
   "source": [
    "# string manipulation:"
   ]
  },
  {
   "cell_type": "code",
   "execution_count": 59,
   "id": "dc8c0219",
   "metadata": {},
   "outputs": [],
   "source": [
    "s=\"my name is priyanka, my organiztion Name is quastech\""
   ]
  },
  {
   "cell_type": "code",
   "execution_count": 2,
   "id": "b3c20713",
   "metadata": {},
   "outputs": [
    {
     "data": {
      "text/plain": [
       "3"
      ]
     },
     "execution_count": 2,
     "metadata": {},
     "output_type": "execute_result"
    }
   ],
   "source": [
    "s.find(\"name\") #name->3,4,5,6"
   ]
  },
  {
   "cell_type": "code",
   "execution_count": 4,
   "id": "5720bb36",
   "metadata": {},
   "outputs": [
    {
     "name": "stdout",
     "output_type": "stream",
     "text": [
      "3\n",
      "4\n",
      "5\n",
      "6\n"
     ]
    }
   ],
   "source": [
    "b=s.find(\"name\") #b=3\n",
    "for i in range(len(\"name\")):#0,  1,   2,  3\n",
    "    print(b+i)              #3+0,3+1,3+2,3+3"
   ]
  },
  {
   "cell_type": "code",
   "execution_count": 3,
   "id": "222d0214",
   "metadata": {},
   "outputs": [
    {
     "data": {
      "text/plain": [
       "4"
      ]
     },
     "execution_count": 3,
     "metadata": {},
     "output_type": "execute_result"
    }
   ],
   "source": [
    "len(\"name\")"
   ]
  },
  {
   "cell_type": "code",
   "execution_count": 4,
   "id": "a0d8193e",
   "metadata": {},
   "outputs": [
    {
     "data": {
      "text/plain": [
       "range(0, 4)"
      ]
     },
     "execution_count": 4,
     "metadata": {},
     "output_type": "execute_result"
    }
   ],
   "source": [
    "range(4)"
   ]
  },
  {
   "cell_type": "code",
   "execution_count": 5,
   "id": "a02096be",
   "metadata": {},
   "outputs": [
    {
     "data": {
      "text/plain": [
       "'my name is priyanka, my organiztion Name is quastech'"
      ]
     },
     "execution_count": 5,
     "metadata": {},
     "output_type": "execute_result"
    }
   ],
   "source": [
    "s"
   ]
  },
  {
   "cell_type": "code",
   "execution_count": 6,
   "id": "804a205b",
   "metadata": {},
   "outputs": [
    {
     "data": {
      "text/plain": [
       "['my',\n",
       " 'name',\n",
       " 'is',\n",
       " 'priyanka,',\n",
       " 'my',\n",
       " 'organiztion',\n",
       " 'Name',\n",
       " 'is',\n",
       " 'quastech']"
      ]
     },
     "execution_count": 6,
     "metadata": {},
     "output_type": "execute_result"
    }
   ],
   "source": [
    "s.split()"
   ]
  },
  {
   "cell_type": "code",
   "execution_count": 7,
   "id": "ea03ea8f",
   "metadata": {},
   "outputs": [
    {
     "data": {
      "text/plain": [
       "['my name is priyanka', ' my organiztion Name is quastech']"
      ]
     },
     "execution_count": 7,
     "metadata": {},
     "output_type": "execute_result"
    }
   ],
   "source": [
    "s.split(',')"
   ]
  },
  {
   "cell_type": "code",
   "execution_count": 10,
   "id": "1165da4b",
   "metadata": {},
   "outputs": [
    {
     "data": {
      "text/plain": [
       "['my ', 'ame is priya', 'ka, my orga', 'iztio', ' Name is quastech']"
      ]
     },
     "execution_count": 10,
     "metadata": {},
     "output_type": "execute_result"
    }
   ],
   "source": [
    "s.split('n')"
   ]
  },
  {
   "cell_type": "code",
   "execution_count": 11,
   "id": "ee4cf7c1",
   "metadata": {},
   "outputs": [
    {
     "data": {
      "text/plain": [
       "['my ', 'me is priyanka, my organiztion Name is quastech']"
      ]
     },
     "execution_count": 11,
     "metadata": {},
     "output_type": "execute_result"
    }
   ],
   "source": [
    "s.split('na')"
   ]
  },
  {
   "cell_type": "code",
   "execution_count": 12,
   "id": "bf833520",
   "metadata": {},
   "outputs": [
    {
     "data": {
      "text/plain": [
       "list"
      ]
     },
     "execution_count": 12,
     "metadata": {},
     "output_type": "execute_result"
    }
   ],
   "source": [
    "type(s.split('na'))"
   ]
  },
  {
   "cell_type": "code",
   "execution_count": 13,
   "id": "11337e67",
   "metadata": {},
   "outputs": [
    {
     "data": {
      "text/plain": [
       "'MY NAME IS PRIYANKA, MY ORGANIZTION NAME IS QUASTECH'"
      ]
     },
     "execution_count": 13,
     "metadata": {},
     "output_type": "execute_result"
    }
   ],
   "source": [
    "s.upper()"
   ]
  },
  {
   "cell_type": "code",
   "execution_count": 14,
   "id": "263e74d1",
   "metadata": {},
   "outputs": [
    {
     "data": {
      "text/plain": [
       "'my name is priyanka, my organiztion name is quastech'"
      ]
     },
     "execution_count": 14,
     "metadata": {},
     "output_type": "execute_result"
    }
   ],
   "source": [
    "s.lower()"
   ]
  },
  {
   "cell_type": "code",
   "execution_count": 15,
   "id": "f7d7c9a0",
   "metadata": {},
   "outputs": [
    {
     "data": {
      "text/plain": [
       "'MY NAME IS PRIYANKA, MY ORGANIZTION nAME IS QUASTECH'"
      ]
     },
     "execution_count": 15,
     "metadata": {},
     "output_type": "execute_result"
    }
   ],
   "source": [
    "s.swapcase()"
   ]
  },
  {
   "cell_type": "code",
   "execution_count": 15,
   "id": "72d75e8c",
   "metadata": {},
   "outputs": [
    {
     "data": {
      "text/plain": [
       "'m y   n a m e   i s   p r i y a n k a ,   m y   o r g a n i z t i o n   N a m e   i s   q u a s t e c h'"
      ]
     },
     "execution_count": 15,
     "metadata": {},
     "output_type": "execute_result"
    }
   ],
   "source": [
    "\" \".join(s)"
   ]
  },
  {
   "cell_type": "code",
   "execution_count": 16,
   "id": "1f0b1f53",
   "metadata": {},
   "outputs": [
    {
     "data": {
      "text/plain": [
       "'mtyt tntatmtet titst tptrtitytatntktat,t tmtyt totrtgtatntitztttitotnt tNtatmtet titst tqtutatstttetcth'"
      ]
     },
     "execution_count": 16,
     "metadata": {},
     "output_type": "execute_result"
    }
   ],
   "source": [
    "\"t\".join(s)"
   ]
  },
  {
   "cell_type": "code",
   "execution_count": 18,
   "id": "bc320edd",
   "metadata": {},
   "outputs": [
    {
     "data": {
      "text/plain": [
       "<reversed at 0x56215427f0>"
      ]
     },
     "execution_count": 18,
     "metadata": {},
     "output_type": "execute_result"
    }
   ],
   "source": [
    "reversed(s)   "
   ]
  },
  {
   "cell_type": "code",
   "execution_count": 19,
   "id": "17bf23c4",
   "metadata": {},
   "outputs": [
    {
     "data": {
      "text/plain": [
       "['h',\n",
       " 'c',\n",
       " 'e',\n",
       " 't',\n",
       " 's',\n",
       " 'a',\n",
       " 'u',\n",
       " 'q',\n",
       " ' ',\n",
       " 's',\n",
       " 'i',\n",
       " ' ',\n",
       " 'e',\n",
       " 'm',\n",
       " 'a',\n",
       " 'N',\n",
       " ' ',\n",
       " 'n',\n",
       " 'o',\n",
       " 'i',\n",
       " 't',\n",
       " 'z',\n",
       " 'i',\n",
       " 'n',\n",
       " 'a',\n",
       " 'g',\n",
       " 'r',\n",
       " 'o',\n",
       " ' ',\n",
       " 'y',\n",
       " 'm',\n",
       " ' ',\n",
       " ',',\n",
       " 'a',\n",
       " 'k',\n",
       " 'n',\n",
       " 'a',\n",
       " 'y',\n",
       " 'i',\n",
       " 'r',\n",
       " 'p',\n",
       " ' ',\n",
       " 's',\n",
       " 'i',\n",
       " ' ',\n",
       " 'e',\n",
       " 'm',\n",
       " 'a',\n",
       " 'n',\n",
       " ' ',\n",
       " 'y',\n",
       " 'm']"
      ]
     },
     "execution_count": 19,
     "metadata": {},
     "output_type": "execute_result"
    }
   ],
   "source": [
    "list(reversed(s))"
   ]
  },
  {
   "cell_type": "code",
   "execution_count": 19,
   "id": "166ec68d",
   "metadata": {},
   "outputs": [
    {
     "name": "stdout",
     "output_type": "stream",
     "text": [
      "hcetsauq si emaN noitzinagro ym ,aknayirp si eman ym"
     ]
    }
   ],
   "source": [
    "for i in reversed(s):\n",
    "    s1=print(i,end=\"\")\n",
    "    s1=[]"
   ]
  },
  {
   "cell_type": "code",
   "execution_count": 20,
   "id": "e9df9bfb",
   "metadata": {},
   "outputs": [
    {
     "data": {
      "text/plain": [
       "list"
      ]
     },
     "execution_count": 20,
     "metadata": {},
     "output_type": "execute_result"
    }
   ],
   "source": [
    "type(s1)"
   ]
  },
  {
   "cell_type": "code",
   "execution_count": 21,
   "id": "5293d289",
   "metadata": {},
   "outputs": [
    {
     "data": {
      "text/plain": [
       "'my name is priyanka, my organiztion Name is quastech'"
      ]
     },
     "execution_count": 21,
     "metadata": {},
     "output_type": "execute_result"
    }
   ],
   "source": [
    "s"
   ]
  },
  {
   "cell_type": "code",
   "execution_count": 22,
   "id": "654b9f44",
   "metadata": {},
   "outputs": [
    {
     "data": {
      "text/plain": [
       "'hcetsauq si emaN noitzinagro ym ,aknayirp si eman ym'"
      ]
     },
     "execution_count": 22,
     "metadata": {},
     "output_type": "execute_result"
    }
   ],
   "source": [
    "s[::-1]"
   ]
  },
  {
   "cell_type": "code",
   "execution_count": 23,
   "id": "8690c677",
   "metadata": {},
   "outputs": [],
   "source": [
    "s=\"    Hello\""
   ]
  },
  {
   "cell_type": "code",
   "execution_count": 24,
   "id": "8b590d27",
   "metadata": {},
   "outputs": [
    {
     "data": {
      "text/plain": [
       "'    Hello'"
      ]
     },
     "execution_count": 24,
     "metadata": {},
     "output_type": "execute_result"
    }
   ],
   "source": [
    "s"
   ]
  },
  {
   "cell_type": "code",
   "execution_count": 25,
   "id": "4d075b34",
   "metadata": {},
   "outputs": [
    {
     "data": {
      "text/plain": [
       "'Hello'"
      ]
     },
     "execution_count": 25,
     "metadata": {},
     "output_type": "execute_result"
    }
   ],
   "source": [
    "s.strip()"
   ]
  },
  {
   "cell_type": "code",
   "execution_count": 26,
   "id": "27f47106",
   "metadata": {},
   "outputs": [],
   "source": [
    "s=\"   Hello  \""
   ]
  },
  {
   "cell_type": "code",
   "execution_count": 32,
   "id": "bb2e6418",
   "metadata": {},
   "outputs": [
    {
     "data": {
      "text/plain": [
       "'  Hello  '"
      ]
     },
     "execution_count": 32,
     "metadata": {},
     "output_type": "execute_result"
    }
   ],
   "source": [
    "s"
   ]
  },
  {
   "cell_type": "code",
   "execution_count": 33,
   "id": "eb2941cf",
   "metadata": {},
   "outputs": [
    {
     "data": {
      "text/plain": [
       "'Hello'"
      ]
     },
     "execution_count": 33,
     "metadata": {},
     "output_type": "execute_result"
    }
   ],
   "source": [
    "s.strip()"
   ]
  },
  {
   "cell_type": "code",
   "execution_count": 34,
   "id": "d358b114",
   "metadata": {},
   "outputs": [
    {
     "data": {
      "text/plain": [
       "'Hello  '"
      ]
     },
     "execution_count": 34,
     "metadata": {},
     "output_type": "execute_result"
    }
   ],
   "source": [
    "s.lstrip()"
   ]
  },
  {
   "cell_type": "code",
   "execution_count": 35,
   "id": "b92af3e9",
   "metadata": {},
   "outputs": [
    {
     "data": {
      "text/plain": [
       "'  Hello'"
      ]
     },
     "execution_count": 35,
     "metadata": {},
     "output_type": "execute_result"
    }
   ],
   "source": [
    "s.rstrip()"
   ]
  },
  {
   "cell_type": "code",
   "execution_count": 36,
   "id": "1cfb0858",
   "metadata": {},
   "outputs": [],
   "source": [
    "s=\"greetings from quastech\""
   ]
  },
  {
   "cell_type": "code",
   "execution_count": 37,
   "id": "5b8fe03c",
   "metadata": {},
   "outputs": [
    {
     "data": {
      "text/plain": [
       "'treetints from quastech'"
      ]
     },
     "execution_count": 37,
     "metadata": {},
     "output_type": "execute_result"
    }
   ],
   "source": [
    "s.replace(\"g\",\"t\")"
   ]
  },
  {
   "cell_type": "code",
   "execution_count": 38,
   "id": "2bb6dddc",
   "metadata": {},
   "outputs": [
    {
     "data": {
      "text/plain": [
       "'streetings from quastech'"
      ]
     },
     "execution_count": 38,
     "metadata": {},
     "output_type": "execute_result"
    }
   ],
   "source": [
    "s.replace(\"gr\",\"str\")"
   ]
  },
  {
   "cell_type": "code",
   "execution_count": 39,
   "id": "fa0ac702",
   "metadata": {},
   "outputs": [
    {
     "data": {
      "text/plain": [
       "'greetings from quastech'"
      ]
     },
     "execution_count": 39,
     "metadata": {},
     "output_type": "execute_result"
    }
   ],
   "source": [
    "s        #string immutable()"
   ]
  },
  {
   "cell_type": "code",
   "execution_count": 40,
   "id": "87a97fe8",
   "metadata": {},
   "outputs": [],
   "source": [
    "t=s.replace(\"gr\",\"str\")"
   ]
  },
  {
   "cell_type": "code",
   "execution_count": 41,
   "id": "70fa533a",
   "metadata": {},
   "outputs": [
    {
     "data": {
      "text/plain": [
       "'streetings from quastech'"
      ]
     },
     "execution_count": 41,
     "metadata": {},
     "output_type": "execute_result"
    }
   ],
   "source": [
    "t"
   ]
  },
  {
   "cell_type": "code",
   "execution_count": 42,
   "id": "a7b93178",
   "metadata": {},
   "outputs": [
    {
     "ename": "TypeError",
     "evalue": "'str' object does not support item assignment",
     "output_type": "error",
     "traceback": [
      "\u001b[1;31m---------------------------------------------------------------------------\u001b[0m",
      "\u001b[1;31mTypeError\u001b[0m                                 Traceback (most recent call last)",
      "\u001b[1;32m~\\AppData\\Local\\Temp/ipykernel_7488/1725115187.py\u001b[0m in \u001b[0;36m<module>\u001b[1;34m\u001b[0m\n\u001b[1;32m----> 1\u001b[1;33m \u001b[0mt\u001b[0m\u001b[1;33m[\u001b[0m\u001b[1;36m0\u001b[0m\u001b[1;33m]\u001b[0m\u001b[1;33m=\u001b[0m\u001b[1;34m'm'\u001b[0m\u001b[1;33m\u001b[0m\u001b[1;33m\u001b[0m\u001b[0m\n\u001b[0m",
      "\u001b[1;31mTypeError\u001b[0m: 'str' object does not support item assignment"
     ]
    }
   ],
   "source": [
    "t[0]='m'  #string immutable"
   ]
  },
  {
   "cell_type": "code",
   "execution_count": 42,
   "id": "d1325ef2",
   "metadata": {},
   "outputs": [],
   "source": [
    "s=\"Hello\""
   ]
  },
  {
   "cell_type": "code",
   "execution_count": 44,
   "id": "de85d2b4",
   "metadata": {},
   "outputs": [
    {
     "data": {
      "text/plain": [
       "'       Hello        '"
      ]
     },
     "execution_count": 44,
     "metadata": {},
     "output_type": "execute_result"
    }
   ],
   "source": [
    "s.center(20, ' ')"
   ]
  },
  {
   "cell_type": "code",
   "execution_count": 45,
   "id": "c4fa6616",
   "metadata": {},
   "outputs": [
    {
     "data": {
      "text/plain": [
       "'*******Hello********'"
      ]
     },
     "execution_count": 45,
     "metadata": {},
     "output_type": "execute_result"
    }
   ],
   "source": [
    "s.center(20, '*')"
   ]
  },
  {
   "cell_type": "code",
   "execution_count": 46,
   "id": "9c92d61a",
   "metadata": {},
   "outputs": [
    {
     "data": {
      "text/plain": [
       "'@@@@@@@Hello@@@@@@@@'"
      ]
     },
     "execution_count": 46,
     "metadata": {},
     "output_type": "execute_result"
    }
   ],
   "source": [
    "s.center(20, '@')"
   ]
  },
  {
   "cell_type": "code",
   "execution_count": 55,
   "id": "40cf71d8",
   "metadata": {},
   "outputs": [],
   "source": [
    "s=\"quas\\ttech\""
   ]
  },
  {
   "cell_type": "code",
   "execution_count": 48,
   "id": "57deb171",
   "metadata": {},
   "outputs": [
    {
     "data": {
      "text/plain": [
       "'quas    tech'"
      ]
     },
     "execution_count": 48,
     "metadata": {},
     "output_type": "execute_result"
    }
   ],
   "source": [
    "s.expandtabs()"
   ]
  },
  {
   "cell_type": "code",
   "execution_count": 56,
   "id": "fa39856b",
   "metadata": {},
   "outputs": [],
   "source": [
    "s=\"Welcome\\tto\\tquastech\""
   ]
  },
  {
   "cell_type": "code",
   "execution_count": 58,
   "id": "cdb0a394",
   "metadata": {},
   "outputs": [
    {
     "data": {
      "text/plain": [
       "'Welcome to      quastech'"
      ]
     },
     "execution_count": 58,
     "metadata": {},
     "output_type": "execute_result"
    }
   ],
   "source": [
    "s.expandtabs()"
   ]
  },
  {
   "cell_type": "code",
   "execution_count": 57,
   "id": "141358f6",
   "metadata": {},
   "outputs": [],
   "source": [
    "str='xyz\\t12345\\tabc'"
   ]
  },
  {
   "cell_type": "code",
   "execution_count": 51,
   "id": "4abc681e",
   "metadata": {},
   "outputs": [
    {
     "data": {
      "text/plain": [
       "'xyz     12345   abc'"
      ]
     },
     "execution_count": 51,
     "metadata": {},
     "output_type": "execute_result"
    }
   ],
   "source": [
    "str.expandtabs()"
   ]
  },
  {
   "cell_type": "code",
   "execution_count": 58,
   "id": "5d038b83",
   "metadata": {},
   "outputs": [
    {
     "name": "stdout",
     "output_type": "stream",
     "text": [
      "xyz     12345   abc\n"
     ]
    }
   ],
   "source": [
    "str='xyz\\t12345\\tabc'\n",
    "\n",
    "#no argument is passed\n",
    "#default tabsize is 8\n",
    "result=str.expandtabs()\n",
    "\n",
    "print(result)"
   ]
  },
  {
   "cell_type": "code",
   "execution_count": 62,
   "id": "ae3b9102",
   "metadata": {},
   "outputs": [
    {
     "name": "stdout",
     "output_type": "stream",
     "text": [
      "Original String: xyz\t12345\tabc\n",
      "Tabsize 2: xyz 12345 abc\n",
      "Tabsize 3: xyz   12345 abc\n",
      "Tabsize 4: xyz 12345   abc\n",
      "Tabsize 5: xyz  12345     abc\n",
      "Tabsize 6: xyz   12345 abc\n"
     ]
    }
   ],
   "source": [
    "str=\"xyz\\t12345\\tabc\"\n",
    "print('Original String:',str)\n",
    "\n",
    "#tabsize is set to 2\n",
    "print('Tabsize 2:',str.expandtabs(2))\n",
    "\n",
    "#tabsize is set to 3\n",
    "print('Tabsize 3:',str.expandtabs(3))\n",
    "\n",
    "#tabsize is set to 4 \n",
    "print('Tabsize 4:',str.expandtabs(4))\n",
    "\n",
    "#tabsize is set to 5\n",
    "print('Tabsize 5:',str.expandtabs(5))\n",
    "\n",
    "#tabsize is set to 6\n",
    "print('Tabsize 6:',str.expandtabs(6))"
   ]
  },
  {
   "cell_type": "code",
   "execution_count": null,
   "id": "6e8c2fdf",
   "metadata": {},
   "outputs": [],
   "source": [
    "\"xyz\\t12345\\tabc\" 5,10,15,20"
   ]
  },
  {
   "cell_type": "code",
   "execution_count": null,
   "id": "f0139d76",
   "metadata": {},
   "outputs": [],
   "source": [
    "1. The default tabsize is 8. The tab stops are 8,16 and so on.\n",
    "\n",
    "2. When you set the Tabsize to 2.The tab stops are 2,4,6,8 and so on.\n",
    "\n",
    "3. When you set the Tabsize to 3.The tab stops are 3,6,9 and so on.\n",
    "\n",
    "4.When you set the Tabsize to 4.The tab stops are 4,8,12 and so on.\n",
    "\n",
    "5.When you set the Tabsize to 5.The tab stops are 5,10,15 and so on.\n"
   ]
  },
  {
   "cell_type": "code",
   "execution_count": 52,
   "id": "9a7cf00e",
   "metadata": {},
   "outputs": [
    {
     "data": {
      "text/plain": [
       "'W'"
      ]
     },
     "execution_count": 52,
     "metadata": {},
     "output_type": "execute_result"
    }
   ],
   "source": [
    "s[0]"
   ]
  },
  {
   "cell_type": "code",
   "execution_count": 54,
   "id": "d88e820f",
   "metadata": {},
   "outputs": [
    {
     "data": {
      "text/plain": [
       "'x'"
      ]
     },
     "execution_count": 54,
     "metadata": {},
     "output_type": "execute_result"
    }
   ],
   "source": [
    "str[0]"
   ]
  },
  {
   "cell_type": "code",
   "execution_count": 7,
   "id": "3fb653d8",
   "metadata": {},
   "outputs": [
    {
     "data": {
      "text/plain": [
       "False"
      ]
     },
     "execution_count": 7,
     "metadata": {},
     "output_type": "execute_result"
    }
   ],
   "source": [
    "s=\"Quastech\"\n",
    "s.islower()"
   ]
  },
  {
   "cell_type": "code",
   "execution_count": 8,
   "id": "709b1277",
   "metadata": {},
   "outputs": [
    {
     "data": {
      "text/plain": [
       "True"
      ]
     },
     "execution_count": 8,
     "metadata": {},
     "output_type": "execute_result"
    }
   ],
   "source": [
    "s.isalnum()"
   ]
  },
  {
   "cell_type": "code",
   "execution_count": 9,
   "id": "015d2d81",
   "metadata": {},
   "outputs": [
    {
     "data": {
      "text/plain": [
       "True"
      ]
     },
     "execution_count": 9,
     "metadata": {},
     "output_type": "execute_result"
    }
   ],
   "source": [
    "s.isascii()"
   ]
  },
  {
   "cell_type": "code",
   "execution_count": 10,
   "id": "c120a867",
   "metadata": {},
   "outputs": [
    {
     "data": {
      "text/plain": [
       "False"
      ]
     },
     "execution_count": 10,
     "metadata": {},
     "output_type": "execute_result"
    }
   ],
   "source": [
    "s.isdecimal()"
   ]
  },
  {
   "cell_type": "code",
   "execution_count": 11,
   "id": "49e41865",
   "metadata": {},
   "outputs": [
    {
     "data": {
      "text/plain": [
       "False"
      ]
     },
     "execution_count": 11,
     "metadata": {},
     "output_type": "execute_result"
    }
   ],
   "source": [
    "s.isdigit()"
   ]
  },
  {
   "cell_type": "code",
   "execution_count": 12,
   "id": "dd1617b5",
   "metadata": {},
   "outputs": [
    {
     "data": {
      "text/plain": [
       "True"
      ]
     },
     "execution_count": 12,
     "metadata": {},
     "output_type": "execute_result"
    }
   ],
   "source": [
    "s.isidentifier()"
   ]
  },
  {
   "cell_type": "code",
   "execution_count": 14,
   "id": "0b3498cf",
   "metadata": {},
   "outputs": [
    {
     "data": {
      "text/plain": [
       "False"
      ]
     },
     "execution_count": 14,
     "metadata": {},
     "output_type": "execute_result"
    }
   ],
   "source": [
    "s.islower()"
   ]
  },
  {
   "cell_type": "code",
   "execution_count": 15,
   "id": "f7b294cf",
   "metadata": {},
   "outputs": [
    {
     "data": {
      "text/plain": [
       "True"
      ]
     },
     "execution_count": 15,
     "metadata": {},
     "output_type": "execute_result"
    }
   ],
   "source": [
    "s.isprintable()"
   ]
  },
  {
   "cell_type": "code",
   "execution_count": 16,
   "id": "e1c32a48",
   "metadata": {},
   "outputs": [
    {
     "data": {
      "text/plain": [
       "False"
      ]
     },
     "execution_count": 16,
     "metadata": {},
     "output_type": "execute_result"
    }
   ],
   "source": [
    "s.isspace()"
   ]
  },
  {
   "cell_type": "code",
   "execution_count": 17,
   "id": "0a7afa8e",
   "metadata": {},
   "outputs": [
    {
     "data": {
      "text/plain": [
       "True"
      ]
     },
     "execution_count": 17,
     "metadata": {},
     "output_type": "execute_result"
    }
   ],
   "source": [
    "s.istitle()"
   ]
  },
  {
   "cell_type": "code",
   "execution_count": 18,
   "id": "017d3c30",
   "metadata": {},
   "outputs": [
    {
     "data": {
      "text/plain": [
       "True"
      ]
     },
     "execution_count": 18,
     "metadata": {},
     "output_type": "execute_result"
    }
   ],
   "source": [
    "s.endswith(\"h\")"
   ]
  },
  {
   "cell_type": "code",
   "execution_count": 20,
   "id": "dfbbdd60",
   "metadata": {},
   "outputs": [
    {
     "data": {
      "text/plain": [
       "True"
      ]
     },
     "execution_count": 20,
     "metadata": {},
     "output_type": "execute_result"
    }
   ],
   "source": [
    "s.startswith(\"Q\")"
   ]
  },
  {
   "cell_type": "code",
   "execution_count": 22,
   "id": "dd4b565b",
   "metadata": {},
   "outputs": [
    {
     "data": {
      "text/plain": [
       "'Quastech'"
      ]
     },
     "execution_count": 22,
     "metadata": {},
     "output_type": "execute_result"
    }
   ],
   "source": [
    "s"
   ]
  },
  {
   "cell_type": "code",
   "execution_count": 23,
   "id": "a66d45e7",
   "metadata": {},
   "outputs": [
    {
     "data": {
      "text/plain": [
       "8"
      ]
     },
     "execution_count": 23,
     "metadata": {},
     "output_type": "execute_result"
    }
   ],
   "source": [
    "len(s)"
   ]
  },
  {
   "cell_type": "code",
   "execution_count": 24,
   "id": "215b8f51",
   "metadata": {},
   "outputs": [
    {
     "name": "stdout",
     "output_type": "stream",
     "text": [
      "8\n"
     ]
    }
   ],
   "source": [
    "count=0\n",
    "for i in s:\n",
    "    count=count+1 #0+1,1+1,2+1,3+1,4+1\n",
    "print(count)"
   ]
  },
  {
   "cell_type": "code",
   "execution_count": 27,
   "id": "101e0267",
   "metadata": {},
   "outputs": [
    {
     "name": "stdout",
     "output_type": "stream",
     "text": [
      "24\n"
     ]
    }
   ],
   "source": [
    "s=\"this is a python batch  \"\n",
    "\n",
    "count=0\n",
    "for i in s:\n",
    "    count=count+1\n",
    "print(count)\n"
   ]
  },
  {
   "cell_type": "code",
   "execution_count": 28,
   "id": "829b48af",
   "metadata": {},
   "outputs": [
    {
     "name": "stdout",
     "output_type": "stream",
     "text": [
      "t\n",
      "h\n",
      "i\n",
      "s\n",
      " \n",
      "i\n",
      "s\n",
      " \n",
      "a\n",
      " \n",
      "p\n",
      "y\n",
      "t\n",
      "h\n",
      "o\n",
      "n\n",
      " \n",
      "b\n",
      "a\n",
      "t\n",
      "c\n",
      "h\n",
      " \n",
      " \n"
     ]
    }
   ],
   "source": [
    "for i in s:\n",
    "    print(i)"
   ]
  },
  {
   "cell_type": "code",
   "execution_count": 29,
   "id": "9dfdf271",
   "metadata": {},
   "outputs": [
    {
     "data": {
      "text/plain": [
       "24"
      ]
     },
     "execution_count": 29,
     "metadata": {},
     "output_type": "execute_result"
    }
   ],
   "source": [
    "len(s)"
   ]
  },
  {
   "cell_type": "code",
   "execution_count": 31,
   "id": "8a620ccb",
   "metadata": {},
   "outputs": [
    {
     "name": "stdout",
     "output_type": "stream",
     "text": [
      "0 1 2 3 4 5 6 7 8 9 10 11 12 13 14 15 16 17 18 19 20 21 22 23 "
     ]
    }
   ],
   "source": [
    "for i in range(len(s)):\n",
    "    print(i,end=\" \")"
   ]
  },
  {
   "cell_type": "code",
   "execution_count": 33,
   "id": "f632fbdc",
   "metadata": {},
   "outputs": [
    {
     "name": "stdout",
     "output_type": "stream",
     "text": [
      "this is a python batch  "
     ]
    }
   ],
   "source": [
    "for i in range(len(s)):\n",
    "    print(s[i],end=\"\")"
   ]
  },
  {
   "cell_type": "code",
   "execution_count": 179,
   "id": "62ff1dcb",
   "metadata": {},
   "outputs": [
    {
     "name": "stdout",
     "output_type": "stream",
     "text": [
      "thctab nohtyp a si sih"
     ]
    }
   ],
   "source": [
    "for i in range(len(s)):\n",
    "    print(s[-i], end=\"\")"
   ]
  },
  {
   "cell_type": "code",
   "execution_count": 40,
   "id": "8c693e03",
   "metadata": {},
   "outputs": [
    {
     "data": {
      "text/plain": [
       "6"
      ]
     },
     "execution_count": 40,
     "metadata": {},
     "output_type": "execute_result"
    }
   ],
   "source": [
    "s=\"Python\"\n",
    "len(s)"
   ]
  },
  {
   "cell_type": "code",
   "execution_count": 41,
   "id": "d5c6708d",
   "metadata": {},
   "outputs": [
    {
     "name": "stdout",
     "output_type": "stream",
     "text": [
      "n\n",
      "o\n",
      "h\n",
      "t\n",
      "y\n",
      "P\n"
     ]
    }
   ],
   "source": [
    "s=\"Python\"\n",
    "ch= len(s)-1\n",
    "while ch>=0:\n",
    "    print(s[ch])\n",
    "    ch=ch-1"
   ]
  },
  {
   "cell_type": "code",
   "execution_count": 43,
   "id": "ea8f29ee",
   "metadata": {},
   "outputs": [
    {
     "name": "stdout",
     "output_type": "stream",
     "text": [
      "n o h t y P "
     ]
    }
   ],
   "source": [
    "#Reversing string using while loop\n",
    "\n",
    "s=\"Python\"\n",
    "ch= len(s)-1\n",
    "while ch>=0:\n",
    "    print(s[ch],end=\" \")\n",
    "    ch=ch-1"
   ]
  },
  {
   "cell_type": "code",
   "execution_count": 45,
   "id": "09605290",
   "metadata": {},
   "outputs": [
    {
     "name": "stdout",
     "output_type": "stream",
     "text": [
      "i is a vowel\n",
      "p is not a vowel\n",
      "y is not a vowel\n",
      "t is not a vowel\n",
      "h is not a vowel\n",
      "o is a vowel\n",
      "n is not a vowel\n"
     ]
    }
   ],
   "source": [
    "name=\"ipython\"\n",
    "vowels=\"AaEeIiOoUu\"\n",
    "\n",
    "for i in name:\n",
    "    if i in vowels:\n",
    "        print(\"{} is a vowel\".format(i))\n",
    "    else:\n",
    "         print(\"{} is not a vowel\".format(i))"
   ]
  },
  {
   "cell_type": "code",
   "execution_count": 46,
   "id": "faddcaeb",
   "metadata": {},
   "outputs": [
    {
     "data": {
      "text/plain": [
       "'it is a vowel'"
      ]
     },
     "execution_count": 46,
     "metadata": {},
     "output_type": "execute_result"
    }
   ],
   "source": [
    "\"it is a vowel\""
   ]
  },
  {
   "cell_type": "code",
   "execution_count": 47,
   "id": "535d36aa",
   "metadata": {},
   "outputs": [
    {
     "data": {
      "text/plain": [
       "'i is a vowel'"
      ]
     },
     "execution_count": 47,
     "metadata": {},
     "output_type": "execute_result"
    }
   ],
   "source": [
    "\"{} is a vowel\".format(\"i\")"
   ]
  },
  {
   "cell_type": "code",
   "execution_count": 48,
   "id": "2a38633b",
   "metadata": {},
   "outputs": [
    {
     "data": {
      "text/plain": [
       "'I am a python'"
      ]
     },
     "execution_count": 48,
     "metadata": {},
     "output_type": "execute_result"
    }
   ],
   "source": [
    "\"{} am a python\".format(\"I\")"
   ]
  },
  {
   "cell_type": "code",
   "execution_count": 51,
   "id": "945e281c",
   "metadata": {},
   "outputs": [
    {
     "data": {
      "text/plain": [
       "'my name is sudev'"
      ]
     },
     "execution_count": 51,
     "metadata": {},
     "output_type": "execute_result"
    }
   ],
   "source": [
    "\"{} name is sudev\".format(\"my\")"
   ]
  },
  {
   "cell_type": "code",
   "execution_count": 52,
   "id": "abdb5123",
   "metadata": {},
   "outputs": [
    {
     "data": {
      "text/plain": [
       "'my is sudev'"
      ]
     },
     "execution_count": 52,
     "metadata": {},
     "output_type": "execute_result"
    }
   ],
   "source": [
    "\"{} {} sudev\".format(\"my\",\"is\")"
   ]
  },
  {
   "cell_type": "code",
   "execution_count": 53,
   "id": "df1289e4",
   "metadata": {},
   "outputs": [
    {
     "name": "stdout",
     "output_type": "stream",
     "text": [
      "My\n",
      "IS\n"
     ]
    }
   ],
   "source": [
    "a=input()\n",
    "b=input()"
   ]
  },
  {
   "cell_type": "code",
   "execution_count": 57,
   "id": "8337dfa4",
   "metadata": {},
   "outputs": [
    {
     "data": {
      "text/plain": [
       "'My NAME IS SUDEV'"
      ]
     },
     "execution_count": 57,
     "metadata": {},
     "output_type": "execute_result"
    }
   ],
   "source": [
    "\"{} NAME {} SUDEV\".format(a,b)"
   ]
  },
  {
   "cell_type": "code",
   "execution_count": 58,
   "id": "1768968a",
   "metadata": {},
   "outputs": [],
   "source": [
    "#Palindrome"
   ]
  },
  {
   "cell_type": "code",
   "execution_count": 59,
   "id": "eb02c7a3",
   "metadata": {},
   "outputs": [],
   "source": [
    "a=\"madam\"\n",
    "b=\"eye\"\n",
    "c=2002\n",
    "d=\"malaylam\"\n",
    "e=\"nitin\"\n",
    "f=\"xyx\""
   ]
  },
  {
   "cell_type": "code",
   "execution_count": 62,
   "id": "4e9bea21",
   "metadata": {},
   "outputs": [
    {
     "name": "stdout",
     "output_type": "stream",
     "text": [
      "eye\n",
      "it's a palindrome\n"
     ]
    }
   ],
   "source": [
    "s=input()\n",
    "s1=s[::-1]\n",
    "\n",
    "if s==s1:\n",
    "    print(\"it's a palindrome\")\n",
    "else:\n",
    "    print(\"it's not a palindrome\")"
   ]
  },
  {
   "cell_type": "code",
   "execution_count": 64,
   "id": "d63e3bab",
   "metadata": {},
   "outputs": [
    {
     "name": "stdout",
     "output_type": "stream",
     "text": [
      "enter a string which you would like to check palindromeeye\n",
      "eye a palindrome\n"
     ]
    }
   ],
   "source": [
    "s=input(\"enter a string which you would like to check palindrome\")\n",
    "s1=s[::-1]\n",
    "\n",
    "if s==s1:\n",
    "    print(\"{} a palindrome\".format(s1))\n",
    "else:\n",
    "    print(\"{} not a palindrome\".format(s1))"
   ]
  },
  {
   "cell_type": "markdown",
   "id": "59ffe2f3",
   "metadata": {},
   "source": [
    "# List Manipulation:"
   ]
  },
  {
   "cell_type": "code",
   "execution_count": 66,
   "id": "cd669ff5",
   "metadata": {},
   "outputs": [],
   "source": [
    "l=['Python','DS','ML',35,78,56,[10,15,78,23]]"
   ]
  },
  {
   "cell_type": "code",
   "execution_count": 68,
   "id": "f314cad9",
   "metadata": {},
   "outputs": [
    {
     "data": {
      "text/plain": [
       "['Python', 'DS', 'ML', 35, 78, 56, [10, 15, 78, 23]]"
      ]
     },
     "execution_count": 68,
     "metadata": {},
     "output_type": "execute_result"
    }
   ],
   "source": [
    "l"
   ]
  },
  {
   "cell_type": "code",
   "execution_count": 69,
   "id": "bc5cdabb",
   "metadata": {},
   "outputs": [
    {
     "data": {
      "text/plain": [
       "['Python', 'DS', 'ML']"
      ]
     },
     "execution_count": 69,
     "metadata": {},
     "output_type": "execute_result"
    }
   ],
   "source": [
    "l[0:3]"
   ]
  },
  {
   "cell_type": "code",
   "execution_count": 70,
   "id": "cbe27afd",
   "metadata": {},
   "outputs": [
    {
     "data": {
      "text/plain": [
       "['Python', 'DS', 'ML', 35, 78, 56, [10, 15, 78, 23]]"
      ]
     },
     "execution_count": 70,
     "metadata": {},
     "output_type": "execute_result"
    }
   ],
   "source": [
    "l"
   ]
  },
  {
   "cell_type": "code",
   "execution_count": 71,
   "id": "eb01c3d1",
   "metadata": {},
   "outputs": [
    {
     "data": {
      "text/plain": [
       "3"
      ]
     },
     "execution_count": 71,
     "metadata": {},
     "output_type": "execute_result"
    }
   ],
   "source": [
    "len(s)"
   ]
  },
  {
   "cell_type": "code",
   "execution_count": 72,
   "id": "14fab5a2",
   "metadata": {},
   "outputs": [],
   "source": [
    "s=\"this is a python batch\""
   ]
  },
  {
   "cell_type": "code",
   "execution_count": 73,
   "id": "8e2bf896",
   "metadata": {},
   "outputs": [
    {
     "data": {
      "text/plain": [
       "22"
      ]
     },
     "execution_count": 73,
     "metadata": {},
     "output_type": "execute_result"
    }
   ],
   "source": [
    "len(s)"
   ]
  },
  {
   "cell_type": "code",
   "execution_count": 75,
   "id": "7bdaad5f",
   "metadata": {},
   "outputs": [
    {
     "name": "stdout",
     "output_type": "stream",
     "text": [
      "22\n",
      "thctab nohtyp a si siht"
     ]
    }
   ],
   "source": [
    "s=\"this is a python batch\"\n",
    "print(len(s))\n",
    "for i in range(len(s)+1):\n",
    "    print(s[-i],end=\"\")"
   ]
  },
  {
   "cell_type": "code",
   "execution_count": 76,
   "id": "720c8f81",
   "metadata": {},
   "outputs": [
    {
     "data": {
      "text/plain": [
       "['Python', 'DS', 'ML', 35, 78, 56, [10, 15, 78, 23]]"
      ]
     },
     "execution_count": 76,
     "metadata": {},
     "output_type": "execute_result"
    }
   ],
   "source": [
    "l"
   ]
  },
  {
   "cell_type": "code",
   "execution_count": 77,
   "id": "b846c1f3",
   "metadata": {},
   "outputs": [
    {
     "data": {
      "text/plain": [
       "56"
      ]
     },
     "execution_count": 77,
     "metadata": {},
     "output_type": "execute_result"
    }
   ],
   "source": [
    "l[5]"
   ]
  },
  {
   "cell_type": "code",
   "execution_count": 78,
   "id": "bd8425f9",
   "metadata": {},
   "outputs": [
    {
     "data": {
      "text/plain": [
       "True"
      ]
     },
     "execution_count": 78,
     "metadata": {},
     "output_type": "execute_result"
    }
   ],
   "source": [
    "'ML'in l"
   ]
  },
  {
   "cell_type": "code",
   "execution_count": 79,
   "id": "c9b7a0b6",
   "metadata": {},
   "outputs": [
    {
     "data": {
      "text/plain": [
       "[[10, 15, 78, 23], 56, 78, 35, 'ML', 'DS', 'Python']"
      ]
     },
     "execution_count": 79,
     "metadata": {},
     "output_type": "execute_result"
    }
   ],
   "source": [
    "l[::-1]"
   ]
  },
  {
   "cell_type": "code",
   "execution_count": 80,
   "id": "09840263",
   "metadata": {},
   "outputs": [
    {
     "data": {
      "text/plain": [
       "['Python', 'DS', 'ML', 35, 78, 56, [10, 15, 78, 23]]"
      ]
     },
     "execution_count": 80,
     "metadata": {},
     "output_type": "execute_result"
    }
   ],
   "source": [
    "l"
   ]
  },
  {
   "cell_type": "code",
   "execution_count": 81,
   "id": "3c174ec1",
   "metadata": {},
   "outputs": [
    {
     "name": "stdout",
     "output_type": "stream",
     "text": [
      "Python is not from list\n",
      "DS is not from list\n",
      "ML is not from list\n",
      "35 is not from list\n",
      "78 is not from list\n",
      "56 is not from list\n",
      "[10, 15, 78, 23] is from list\n"
     ]
    }
   ],
   "source": [
    "for i in l:\n",
    "    if type(i)==list:\n",
    "        print(\"{} is from list\".format(i))\n",
    "    else:\n",
    "        print(\"{} is not from list\".format(i))"
   ]
  },
  {
   "cell_type": "code",
   "execution_count": 82,
   "id": "5892aed1",
   "metadata": {},
   "outputs": [],
   "source": [
    "l=['Python', 'DS', 'ML', 35]"
   ]
  },
  {
   "cell_type": "code",
   "execution_count": 83,
   "id": "5e15ec76",
   "metadata": {},
   "outputs": [],
   "source": [
    "l1=[345,2345,\"inueron\",\"tech\"]"
   ]
  },
  {
   "cell_type": "code",
   "execution_count": 84,
   "id": "1ccee59d",
   "metadata": {},
   "outputs": [
    {
     "data": {
      "text/plain": [
       "['Python', 'DS', 'ML', 35, 345, 2345, 'inueron', 'tech']"
      ]
     },
     "execution_count": 84,
     "metadata": {},
     "output_type": "execute_result"
    }
   ],
   "source": [
    "l+l1      #append l1 to l"
   ]
  },
  {
   "cell_type": "code",
   "execution_count": 85,
   "id": "5a1d8847",
   "metadata": {},
   "outputs": [
    {
     "data": {
      "text/plain": [
       "['Python', 'DS', 'ML', 35, 'Python', 'DS', 'ML', 35, 'Python', 'DS', 'ML', 35]"
      ]
     },
     "execution_count": 85,
     "metadata": {},
     "output_type": "execute_result"
    }
   ],
   "source": [
    "l*3"
   ]
  },
  {
   "cell_type": "code",
   "execution_count": 86,
   "id": "2a48b232",
   "metadata": {},
   "outputs": [
    {
     "data": {
      "text/plain": [
       "86"
      ]
     },
     "execution_count": 86,
     "metadata": {},
     "output_type": "execute_result"
    }
   ],
   "source": [
    "max([10,15,86,23])"
   ]
  },
  {
   "cell_type": "code",
   "execution_count": 87,
   "id": "d0ea36ac",
   "metadata": {},
   "outputs": [
    {
     "data": {
      "text/plain": [
       "10"
      ]
     },
     "execution_count": 87,
     "metadata": {},
     "output_type": "execute_result"
    }
   ],
   "source": [
    "min([10,15,86,23])"
   ]
  },
  {
   "cell_type": "code",
   "execution_count": 88,
   "id": "7cedf3d6",
   "metadata": {},
   "outputs": [
    {
     "ename": "TypeError",
     "evalue": "'>' not supported between instances of 'str' and 'int'",
     "output_type": "error",
     "traceback": [
      "\u001b[1;31m---------------------------------------------------------------------------\u001b[0m",
      "\u001b[1;31mTypeError\u001b[0m                                 Traceback (most recent call last)",
      "\u001b[1;32m~\\AppData\\Local\\Temp/ipykernel_7396/3027017301.py\u001b[0m in \u001b[0;36m<module>\u001b[1;34m\u001b[0m\n\u001b[1;32m----> 1\u001b[1;33m \u001b[0mmax\u001b[0m\u001b[1;33m(\u001b[0m\u001b[1;33m[\u001b[0m\u001b[1;36m10\u001b[0m\u001b[1;33m,\u001b[0m\u001b[1;36m15\u001b[0m\u001b[1;33m,\u001b[0m\u001b[1;36m86\u001b[0m\u001b[1;33m,\u001b[0m\u001b[1;36m23\u001b[0m\u001b[1;33m,\u001b[0m\u001b[1;34m\"vferv\"\u001b[0m\u001b[1;33m]\u001b[0m\u001b[1;33m)\u001b[0m\u001b[1;33m\u001b[0m\u001b[1;33m\u001b[0m\u001b[0m\n\u001b[0m",
      "\u001b[1;31mTypeError\u001b[0m: '>' not supported between instances of 'str' and 'int'"
     ]
    }
   ],
   "source": [
    "max([10,15,86,23,\"vferv\"])"
   ]
  },
  {
   "cell_type": "code",
   "execution_count": 89,
   "id": "aaad4d3b",
   "metadata": {},
   "outputs": [
    {
     "data": {
      "text/plain": [
       "'Python'"
      ]
     },
     "execution_count": 89,
     "metadata": {},
     "output_type": "execute_result"
    }
   ],
   "source": [
    "max(['Python','DS','ML','AI','NLP'])"
   ]
  },
  {
   "cell_type": "code",
   "execution_count": 91,
   "id": "64e746d3",
   "metadata": {},
   "outputs": [
    {
     "data": {
      "text/plain": [
       "'AI'"
      ]
     },
     "execution_count": 91,
     "metadata": {},
     "output_type": "execute_result"
    }
   ],
   "source": [
    "min(['Python','DS','ML','AI','NLP'])"
   ]
  },
  {
   "cell_type": "code",
   "execution_count": 92,
   "id": "5d493c57",
   "metadata": {},
   "outputs": [
    {
     "ename": "TypeError",
     "evalue": "'<' not supported between instances of 'str' and 'int'",
     "output_type": "error",
     "traceback": [
      "\u001b[1;31m---------------------------------------------------------------------------\u001b[0m",
      "\u001b[1;31mTypeError\u001b[0m                                 Traceback (most recent call last)",
      "\u001b[1;32m~\\AppData\\Local\\Temp/ipykernel_7396/392339280.py\u001b[0m in \u001b[0;36m<module>\u001b[1;34m\u001b[0m\n\u001b[1;32m----> 1\u001b[1;33m \u001b[0mmin\u001b[0m\u001b[1;33m(\u001b[0m\u001b[1;33m[\u001b[0m\u001b[1;36m10\u001b[0m\u001b[1;33m,\u001b[0m\u001b[1;36m15\u001b[0m\u001b[1;33m,\u001b[0m\u001b[1;36m86\u001b[0m\u001b[1;33m,\u001b[0m\u001b[1;36m23\u001b[0m\u001b[1;33m,\u001b[0m\u001b[1;34m\"vferv\"\u001b[0m\u001b[1;33m]\u001b[0m\u001b[1;33m)\u001b[0m\u001b[1;33m\u001b[0m\u001b[1;33m\u001b[0m\u001b[0m\n\u001b[0m",
      "\u001b[1;31mTypeError\u001b[0m: '<' not supported between instances of 'str' and 'int'"
     ]
    }
   ],
   "source": [
    "min([10,15,86,23,\"vferv\"])"
   ]
  },
  {
   "cell_type": "code",
   "execution_count": 120,
   "id": "edf09ec4",
   "metadata": {},
   "outputs": [],
   "source": [
    "l=[1,2,3,4]"
   ]
  },
  {
   "cell_type": "code",
   "execution_count": 121,
   "id": "0dc4d35d",
   "metadata": {},
   "outputs": [],
   "source": [
    "l.append(5+8j)"
   ]
  },
  {
   "cell_type": "code",
   "execution_count": 122,
   "id": "2ff71d03",
   "metadata": {},
   "outputs": [
    {
     "data": {
      "text/plain": [
       "[1, 2, 3, 4, (5+8j)]"
      ]
     },
     "execution_count": 122,
     "metadata": {},
     "output_type": "execute_result"
    }
   ],
   "source": [
    "l"
   ]
  },
  {
   "cell_type": "code",
   "execution_count": 123,
   "id": "ff9f318b",
   "metadata": {},
   "outputs": [],
   "source": [
    "l.insert(3,\"AMN\")"
   ]
  },
  {
   "cell_type": "code",
   "execution_count": 124,
   "id": "412953cc",
   "metadata": {},
   "outputs": [
    {
     "data": {
      "text/plain": [
       "[1, 2, 3, 'AMN', 4, (5+8j)]"
      ]
     },
     "execution_count": 124,
     "metadata": {},
     "output_type": "execute_result"
    }
   ],
   "source": [
    "l"
   ]
  },
  {
   "cell_type": "code",
   "execution_count": 125,
   "id": "523a0cd6",
   "metadata": {},
   "outputs": [],
   "source": [
    "l.insert(-1,\"test\")"
   ]
  },
  {
   "cell_type": "code",
   "execution_count": 126,
   "id": "2913de75",
   "metadata": {},
   "outputs": [
    {
     "data": {
      "text/plain": [
       "[1, 2, 3, 'AMN', 4, 'test', (5+8j)]"
      ]
     },
     "execution_count": 126,
     "metadata": {},
     "output_type": "execute_result"
    }
   ],
   "source": [
    "l"
   ]
  },
  {
   "cell_type": "code",
   "execution_count": 127,
   "id": "e00805eb",
   "metadata": {},
   "outputs": [],
   "source": [
    "l.insert(0,\"test\")"
   ]
  },
  {
   "cell_type": "code",
   "execution_count": 128,
   "id": "780d8835",
   "metadata": {},
   "outputs": [
    {
     "data": {
      "text/plain": [
       "['test', 1, 2, 3, 'AMN', 4, 'test', (5+8j)]"
      ]
     },
     "execution_count": 128,
     "metadata": {},
     "output_type": "execute_result"
    }
   ],
   "source": [
    "l"
   ]
  },
  {
   "cell_type": "code",
   "execution_count": 129,
   "id": "a665145d",
   "metadata": {},
   "outputs": [],
   "source": [
    "l.insert(4,\"test\")"
   ]
  },
  {
   "cell_type": "code",
   "execution_count": 130,
   "id": "c9cd82b6",
   "metadata": {},
   "outputs": [
    {
     "data": {
      "text/plain": [
       "['test', 1, 2, 3, 'test', 'AMN', 4, 'test', (5+8j)]"
      ]
     },
     "execution_count": 130,
     "metadata": {},
     "output_type": "execute_result"
    }
   ],
   "source": [
    "l"
   ]
  },
  {
   "cell_type": "code",
   "execution_count": 131,
   "id": "1aa15118",
   "metadata": {},
   "outputs": [
    {
     "data": {
      "text/plain": [
       "3"
      ]
     },
     "execution_count": 131,
     "metadata": {},
     "output_type": "execute_result"
    }
   ],
   "source": [
    "l.count(\"test\")"
   ]
  },
  {
   "cell_type": "code",
   "execution_count": 132,
   "id": "8614b5ad",
   "metadata": {},
   "outputs": [
    {
     "data": {
      "text/plain": [
       "['test', 1, 2, 3, 'test', 'AMN', 4, 'test', (5+8j)]"
      ]
     },
     "execution_count": 132,
     "metadata": {},
     "output_type": "execute_result"
    }
   ],
   "source": [
    "l"
   ]
  },
  {
   "cell_type": "code",
   "execution_count": 134,
   "id": "f588420d",
   "metadata": {},
   "outputs": [],
   "source": [
    "l.append([1,2,3,4])"
   ]
  },
  {
   "cell_type": "code",
   "execution_count": 135,
   "id": "1511e0b5",
   "metadata": {},
   "outputs": [
    {
     "data": {
      "text/plain": [
       "['test', 1, 2, 3, 'test', 'AMN', 4, 'test', (5+8j), [1, 2, 3, 4]]"
      ]
     },
     "execution_count": 135,
     "metadata": {},
     "output_type": "execute_result"
    }
   ],
   "source": [
    "l"
   ]
  },
  {
   "cell_type": "code",
   "execution_count": 136,
   "id": "5d87ff77",
   "metadata": {},
   "outputs": [],
   "source": [
    "l.extend(\"xrtguh\")"
   ]
  },
  {
   "cell_type": "code",
   "execution_count": 137,
   "id": "1491a2b0",
   "metadata": {},
   "outputs": [
    {
     "data": {
      "text/plain": [
       "['test',\n",
       " 1,\n",
       " 2,\n",
       " 3,\n",
       " 'test',\n",
       " 'AMN',\n",
       " 4,\n",
       " 'test',\n",
       " (5+8j),\n",
       " [1, 2, 3, 4],\n",
       " 'x',\n",
       " 'r',\n",
       " 't',\n",
       " 'g',\n",
       " 'u',\n",
       " 'h']"
      ]
     },
     "execution_count": 137,
     "metadata": {},
     "output_type": "execute_result"
    }
   ],
   "source": [
    "l"
   ]
  },
  {
   "cell_type": "code",
   "execution_count": 138,
   "id": "8c4f4aa6",
   "metadata": {},
   "outputs": [
    {
     "data": {
      "text/plain": [
       "['t', 'e', 's', 't', '3']"
      ]
     },
     "execution_count": 138,
     "metadata": {},
     "output_type": "execute_result"
    }
   ],
   "source": [
    "str1=\"test3\"\n",
    "list(str1)"
   ]
  },
  {
   "cell_type": "code",
   "execution_count": 139,
   "id": "bab907b1",
   "metadata": {},
   "outputs": [
    {
     "ename": "TypeError",
     "evalue": "'int' object is not iterable",
     "output_type": "error",
     "traceback": [
      "\u001b[1;31m---------------------------------------------------------------------------\u001b[0m",
      "\u001b[1;31mTypeError\u001b[0m                                 Traceback (most recent call last)",
      "\u001b[1;32m~\\AppData\\Local\\Temp/ipykernel_7396/3219959721.py\u001b[0m in \u001b[0;36m<module>\u001b[1;34m\u001b[0m\n\u001b[1;32m----> 1\u001b[1;33m \u001b[0ml\u001b[0m\u001b[1;33m.\u001b[0m\u001b[0mextend\u001b[0m\u001b[1;33m(\u001b[0m\u001b[1;36m45\u001b[0m\u001b[1;33m)\u001b[0m\u001b[1;33m\u001b[0m\u001b[1;33m\u001b[0m\u001b[0m\n\u001b[0m",
      "\u001b[1;31mTypeError\u001b[0m: 'int' object is not iterable"
     ]
    }
   ],
   "source": [
    "l.extend(45)"
   ]
  },
  {
   "cell_type": "code",
   "execution_count": 140,
   "id": "bad425b2",
   "metadata": {},
   "outputs": [],
   "source": [
    "l.extend([45,25])"
   ]
  },
  {
   "cell_type": "code",
   "execution_count": 141,
   "id": "2a2938c1",
   "metadata": {},
   "outputs": [
    {
     "data": {
      "text/plain": [
       "['test',\n",
       " 1,\n",
       " 2,\n",
       " 3,\n",
       " 'test',\n",
       " 'AMN',\n",
       " 4,\n",
       " 'test',\n",
       " (5+8j),\n",
       " [1, 2, 3, 4],\n",
       " 'x',\n",
       " 'r',\n",
       " 't',\n",
       " 'g',\n",
       " 'u',\n",
       " 'h',\n",
       " 45,\n",
       " 25]"
      ]
     },
     "execution_count": 141,
     "metadata": {},
     "output_type": "execute_result"
    }
   ],
   "source": [
    "l"
   ]
  },
  {
   "cell_type": "code",
   "execution_count": 148,
   "id": "60de4ff7",
   "metadata": {},
   "outputs": [],
   "source": [
    "l.append([1,2,3,4])"
   ]
  },
  {
   "cell_type": "code",
   "execution_count": 149,
   "id": "34385e83",
   "metadata": {},
   "outputs": [
    {
     "data": {
      "text/plain": [
       "['test',\n",
       " 1,\n",
       " 2,\n",
       " 3,\n",
       " 'test',\n",
       " 'AMN',\n",
       " 4,\n",
       " 'test',\n",
       " (5+8j),\n",
       " [1, 2, 3, 4],\n",
       " 'x',\n",
       " 'r',\n",
       " 't',\n",
       " 'g',\n",
       " 'u',\n",
       " 'h',\n",
       " 45,\n",
       " 25,\n",
       " [45, 25],\n",
       " 45,\n",
       " 25,\n",
       " 1,\n",
       " 2,\n",
       " 3,\n",
       " 4,\n",
       " [1, 2, 3, 4]]"
      ]
     },
     "execution_count": 149,
     "metadata": {},
     "output_type": "execute_result"
    }
   ],
   "source": [
    "l"
   ]
  },
  {
   "cell_type": "code",
   "execution_count": 150,
   "id": "71ae0161",
   "metadata": {},
   "outputs": [],
   "source": [
    "l.extend([1,2,3,4])"
   ]
  },
  {
   "cell_type": "code",
   "execution_count": 151,
   "id": "f2fb016d",
   "metadata": {},
   "outputs": [
    {
     "data": {
      "text/plain": [
       "['test',\n",
       " 1,\n",
       " 2,\n",
       " 3,\n",
       " 'test',\n",
       " 'AMN',\n",
       " 4,\n",
       " 'test',\n",
       " (5+8j),\n",
       " [1, 2, 3, 4],\n",
       " 'x',\n",
       " 'r',\n",
       " 't',\n",
       " 'g',\n",
       " 'u',\n",
       " 'h',\n",
       " 45,\n",
       " 25,\n",
       " [45, 25],\n",
       " 45,\n",
       " 25,\n",
       " 1,\n",
       " 2,\n",
       " 3,\n",
       " 4,\n",
       " [1, 2, 3, 4],\n",
       " 1,\n",
       " 2,\n",
       " 3,\n",
       " 4]"
      ]
     },
     "execution_count": 151,
     "metadata": {},
     "output_type": "execute_result"
    }
   ],
   "source": [
    "l"
   ]
  },
  {
   "cell_type": "code",
   "execution_count": 152,
   "id": "81c3f008",
   "metadata": {},
   "outputs": [],
   "source": [
    "l1=[1,2,3,4]"
   ]
  },
  {
   "cell_type": "code",
   "execution_count": 153,
   "id": "26ae3318",
   "metadata": {},
   "outputs": [],
   "source": [
    "l1.extend([5,6,7,[\"def\",12]])"
   ]
  },
  {
   "cell_type": "code",
   "execution_count": 154,
   "id": "5fc4d7a4",
   "metadata": {},
   "outputs": [],
   "source": [
    "l1.append(3)"
   ]
  },
  {
   "cell_type": "code",
   "execution_count": 155,
   "id": "752ab797",
   "metadata": {},
   "outputs": [
    {
     "data": {
      "text/plain": [
       "[1, 2, 3, 4, 5, 6, 7, ['def', 12], 3]"
      ]
     },
     "execution_count": 155,
     "metadata": {},
     "output_type": "execute_result"
    }
   ],
   "source": [
    "l1"
   ]
  },
  {
   "cell_type": "code",
   "execution_count": 157,
   "id": "d3726df2",
   "metadata": {},
   "outputs": [
    {
     "data": {
      "text/plain": [
       "3"
      ]
     },
     "execution_count": 157,
     "metadata": {},
     "output_type": "execute_result"
    }
   ],
   "source": [
    "l1.index(4)"
   ]
  },
  {
   "cell_type": "code",
   "execution_count": 158,
   "id": "bc747cb8",
   "metadata": {},
   "outputs": [],
   "source": [
    "l1=[2,3,4,5,6,7]"
   ]
  },
  {
   "cell_type": "code",
   "execution_count": 159,
   "id": "64709484",
   "metadata": {},
   "outputs": [
    {
     "data": {
      "text/plain": [
       "[2, 3, 4, 5, 6, 7]"
      ]
     },
     "execution_count": 159,
     "metadata": {},
     "output_type": "execute_result"
    }
   ],
   "source": [
    "l1"
   ]
  },
  {
   "cell_type": "code",
   "execution_count": 160,
   "id": "103d6f42",
   "metadata": {},
   "outputs": [
    {
     "data": {
      "text/plain": [
       "7"
      ]
     },
     "execution_count": 160,
     "metadata": {},
     "output_type": "execute_result"
    }
   ],
   "source": [
    "l1.pop()"
   ]
  },
  {
   "cell_type": "code",
   "execution_count": 161,
   "id": "52ec2279",
   "metadata": {},
   "outputs": [
    {
     "data": {
      "text/plain": [
       "[2, 3, 4, 5, 6]"
      ]
     },
     "execution_count": 161,
     "metadata": {},
     "output_type": "execute_result"
    }
   ],
   "source": [
    "l1"
   ]
  },
  {
   "cell_type": "code",
   "execution_count": 162,
   "id": "5a994715",
   "metadata": {},
   "outputs": [
    {
     "data": {
      "text/plain": [
       "2"
      ]
     },
     "execution_count": 162,
     "metadata": {},
     "output_type": "execute_result"
    }
   ],
   "source": [
    "l1.pop(0)"
   ]
  },
  {
   "cell_type": "code",
   "execution_count": 163,
   "id": "a53689b7",
   "metadata": {},
   "outputs": [
    {
     "data": {
      "text/plain": [
       "[3, 4, 5, 6]"
      ]
     },
     "execution_count": 163,
     "metadata": {},
     "output_type": "execute_result"
    }
   ],
   "source": [
    "l1"
   ]
  },
  {
   "cell_type": "code",
   "execution_count": 164,
   "id": "55765aec",
   "metadata": {},
   "outputs": [
    {
     "data": {
      "text/plain": [
       "6"
      ]
     },
     "execution_count": 164,
     "metadata": {},
     "output_type": "execute_result"
    }
   ],
   "source": [
    "l1.pop(-1)"
   ]
  },
  {
   "cell_type": "code",
   "execution_count": 165,
   "id": "6747dea0",
   "metadata": {},
   "outputs": [
    {
     "data": {
      "text/plain": [
       "[3, 4, 5]"
      ]
     },
     "execution_count": 165,
     "metadata": {},
     "output_type": "execute_result"
    }
   ],
   "source": [
    "l1"
   ]
  },
  {
   "cell_type": "code",
   "execution_count": 166,
   "id": "c2da849b",
   "metadata": {},
   "outputs": [],
   "source": [
    "l2=[3,4,5,6,7,8,9]"
   ]
  },
  {
   "cell_type": "code",
   "execution_count": 168,
   "id": "d60daad3",
   "metadata": {},
   "outputs": [],
   "source": [
    "l2.remove(6)"
   ]
  },
  {
   "cell_type": "code",
   "execution_count": 169,
   "id": "f5d6e138",
   "metadata": {},
   "outputs": [
    {
     "data": {
      "text/plain": [
       "[3, 4, 5, 7, 8, 9]"
      ]
     },
     "execution_count": 169,
     "metadata": {},
     "output_type": "execute_result"
    }
   ],
   "source": [
    "l2"
   ]
  },
  {
   "cell_type": "code",
   "execution_count": 171,
   "id": "e1c949a5",
   "metadata": {},
   "outputs": [],
   "source": [
    "l2=[3,4,5,6,7,6,6,8,6,9]"
   ]
  },
  {
   "cell_type": "code",
   "execution_count": 172,
   "id": "5047b1dd",
   "metadata": {},
   "outputs": [],
   "source": [
    "l2.remove(6)"
   ]
  },
  {
   "cell_type": "code",
   "execution_count": 173,
   "id": "9c50f8b0",
   "metadata": {},
   "outputs": [
    {
     "data": {
      "text/plain": [
       "[3, 4, 5, 7, 6, 6, 8, 6, 9]"
      ]
     },
     "execution_count": 173,
     "metadata": {},
     "output_type": "execute_result"
    }
   ],
   "source": [
    "l2"
   ]
  },
  {
   "cell_type": "code",
   "execution_count": 174,
   "id": "4240764b",
   "metadata": {},
   "outputs": [],
   "source": [
    "l2.reverse()"
   ]
  },
  {
   "cell_type": "code",
   "execution_count": 176,
   "id": "22a8a7e3",
   "metadata": {},
   "outputs": [
    {
     "data": {
      "text/plain": [
       "[9, 6, 8, 6, 6, 7, 5, 4, 3]"
      ]
     },
     "execution_count": 176,
     "metadata": {},
     "output_type": "execute_result"
    }
   ],
   "source": [
    "l2"
   ]
  },
  {
   "cell_type": "code",
   "execution_count": 177,
   "id": "661e72c3",
   "metadata": {},
   "outputs": [],
   "source": [
    "l2.sort()"
   ]
  },
  {
   "cell_type": "code",
   "execution_count": 178,
   "id": "79cc058f",
   "metadata": {},
   "outputs": [
    {
     "data": {
      "text/plain": [
       "[3, 4, 5, 6, 6, 6, 7, 8, 9]"
      ]
     },
     "execution_count": 178,
     "metadata": {},
     "output_type": "execute_result"
    }
   ],
   "source": [
    "l2"
   ]
  },
  {
   "cell_type": "code",
   "execution_count": 53,
   "id": "21411b69",
   "metadata": {},
   "outputs": [],
   "source": [
    "l1=[12,34,[\"hgy\",23],[12,\"bhgui\",25],[13,\"asd\",34]] #create a list?"
   ]
  },
  {
   "cell_type": "code",
   "execution_count": 54,
   "id": "323459e0",
   "metadata": {},
   "outputs": [],
   "source": [
    "l1.insert(2,[1,2,3,4,5])#1.append two more lists and one complex no in between existing list"
   ]
  },
  {
   "cell_type": "code",
   "execution_count": 55,
   "id": "5f87d1b1",
   "metadata": {},
   "outputs": [],
   "source": [
    "l1.insert(3,[6,7,8,9,10])"
   ]
  },
  {
   "cell_type": "code",
   "execution_count": 56,
   "id": "6c7f40e2",
   "metadata": {},
   "outputs": [],
   "source": [
    "l1.append(34+4j)"
   ]
  },
  {
   "cell_type": "code",
   "execution_count": 57,
   "id": "d838d6e2",
   "metadata": {},
   "outputs": [
    {
     "data": {
      "text/plain": [
       "[12,\n",
       " 34,\n",
       " [1, 2, 3, 4, 5],\n",
       " [6, 7, 8, 9, 10],\n",
       " ['hgy', 23],\n",
       " [12, 'bhgui', 25],\n",
       " [13, 'asd', 34],\n",
       " (34+4j)]"
      ]
     },
     "execution_count": 57,
     "metadata": {},
     "output_type": "execute_result"
    }
   ],
   "source": [
    "l1"
   ]
  },
  {
   "cell_type": "code",
   "execution_count": 63,
   "id": "dfb57e57",
   "metadata": {},
   "outputs": [],
   "source": [
    "for i in l1:\n",
    "    if i==list:\n",
    "        print(i)\n",
    "        for j in i:\n",
    "            if j==string:\n",
    "                remove(j)\n",
    "                print(j)\n",
    "                "
   ]
  },
  {
   "cell_type": "code",
   "execution_count": 73,
   "id": "8577ec59",
   "metadata": {},
   "outputs": [],
   "source": [
    "for i in l1:\n",
    "    if i==list:\n",
    "        print(i[1])\n",
    "        "
   ]
  },
  {
   "cell_type": "markdown",
   "id": "5c6bf8dd",
   "metadata": {},
   "source": [
    "# LIST COMPREHENSION:"
   ]
  },
  {
   "cell_type": "code",
   "execution_count": 2,
   "id": "08d0eac3",
   "metadata": {},
   "outputs": [],
   "source": [
    "l1=[]"
   ]
  },
  {
   "cell_type": "code",
   "execution_count": 3,
   "id": "2275d516",
   "metadata": {},
   "outputs": [
    {
     "data": {
      "text/plain": [
       "['bgyuh']"
      ]
     },
     "execution_count": 3,
     "metadata": {},
     "output_type": "execute_result"
    }
   ],
   "source": [
    "l1.append(\"bgyuh\")\n",
    "l1"
   ]
  },
  {
   "cell_type": "code",
   "execution_count": 4,
   "id": "003865b1",
   "metadata": {},
   "outputs": [],
   "source": [
    "for i in\"bgyuh\":\n",
    "    l1.append(i)\n",
    "    "
   ]
  },
  {
   "cell_type": "code",
   "execution_count": 5,
   "id": "b3137780",
   "metadata": {},
   "outputs": [
    {
     "data": {
      "text/plain": [
       "['bgyuh', 'b', 'g', 'y', 'u', 'h']"
      ]
     },
     "execution_count": 5,
     "metadata": {},
     "output_type": "execute_result"
    }
   ],
   "source": [
    "l1"
   ]
  },
  {
   "cell_type": "code",
   "execution_count": 6,
   "id": "b0d925e2",
   "metadata": {},
   "outputs": [
    {
     "data": {
      "text/plain": [
       "['c', 'g', 't', 'y', '6', 'y']"
      ]
     },
     "execution_count": 6,
     "metadata": {},
     "output_type": "execute_result"
    }
   ],
   "source": [
    "[i for i in\"cgty6y\"]"
   ]
  },
  {
   "cell_type": "code",
   "execution_count": 8,
   "id": "d66a95c7",
   "metadata": {},
   "outputs": [
    {
     "name": "stdout",
     "output_type": "stream",
     "text": [
      "['c']['g']['t']['y']['6']['y']"
     ]
    }
   ],
   "source": [
    "for i in\"cgty6y\":\n",
    "    print([i],end=\"\")"
   ]
  },
  {
   "cell_type": "code",
   "execution_count": 9,
   "id": "93e7f563",
   "metadata": {},
   "outputs": [
    {
     "data": {
      "text/plain": [
       "[['c'], ['g'], ['t'], ['y'], ['6'], ['y']]"
      ]
     },
     "execution_count": 9,
     "metadata": {},
     "output_type": "execute_result"
    }
   ],
   "source": [
    "[[i] for i in\"cgty6y\"]"
   ]
  },
  {
   "cell_type": "code",
   "execution_count": 13,
   "id": "f1b802a8",
   "metadata": {},
   "outputs": [],
   "source": [
    "l=[]\n",
    "for i in range(10):\n",
    "    if i%2==0:\n",
    "        l.append(i)"
   ]
  },
  {
   "cell_type": "code",
   "execution_count": 14,
   "id": "80e3ab02",
   "metadata": {},
   "outputs": [
    {
     "data": {
      "text/plain": [
       "[0, 2, 4, 6, 8]"
      ]
     },
     "execution_count": 14,
     "metadata": {},
     "output_type": "execute_result"
    }
   ],
   "source": [
    "l"
   ]
  },
  {
   "cell_type": "code",
   "execution_count": 15,
   "id": "de05ee8c",
   "metadata": {},
   "outputs": [],
   "source": [
    "l=[2,3,4,5,10,12,15,16]\n",
    "l1=[]\n",
    "for i in l:\n",
    "    if i%2==0:\n",
    "        l1.append(i)"
   ]
  },
  {
   "cell_type": "code",
   "execution_count": 16,
   "id": "dc2cefba",
   "metadata": {},
   "outputs": [
    {
     "data": {
      "text/plain": [
       "[2, 4, 10, 12, 16]"
      ]
     },
     "execution_count": 16,
     "metadata": {},
     "output_type": "execute_result"
    }
   ],
   "source": [
    "l1"
   ]
  },
  {
   "cell_type": "code",
   "execution_count": 18,
   "id": "9da2e785",
   "metadata": {},
   "outputs": [],
   "source": [
    "l=[10,20,30,40,50,60,80,100]"
   ]
  },
  {
   "cell_type": "code",
   "execution_count": 19,
   "id": "fa86b215",
   "metadata": {},
   "outputs": [],
   "source": [
    "l1=[]\n",
    "for i in range(10):  #0,10\n",
    "    if i%2==0:\n",
    "        l1.append(i)\n",
    "        "
   ]
  },
  {
   "cell_type": "code",
   "execution_count": 20,
   "id": "94a3e517",
   "metadata": {},
   "outputs": [
    {
     "data": {
      "text/plain": [
       "[0, 2, 4, 6, 8]"
      ]
     },
     "execution_count": 20,
     "metadata": {},
     "output_type": "execute_result"
    }
   ],
   "source": [
    "l1"
   ]
  },
  {
   "cell_type": "code",
   "execution_count": 22,
   "id": "4a9e74cc",
   "metadata": {},
   "outputs": [
    {
     "data": {
      "text/plain": [
       "[0, 2, 4, 6, 8]"
      ]
     },
     "execution_count": 22,
     "metadata": {},
     "output_type": "execute_result"
    }
   ],
   "source": [
    "[i for i in range(10) if i%2==0] #0,9"
   ]
  },
  {
   "cell_type": "code",
   "execution_count": 23,
   "id": "f05f3c15",
   "metadata": {},
   "outputs": [
    {
     "data": {
      "text/plain": [
       "range(0, 10)"
      ]
     },
     "execution_count": 23,
     "metadata": {},
     "output_type": "execute_result"
    }
   ],
   "source": [
    "range(10)"
   ]
  },
  {
   "cell_type": "code",
   "execution_count": 24,
   "id": "4f653fb9",
   "metadata": {},
   "outputs": [],
   "source": [
    "l=[]\n",
    "for i in range(10):\n",
    "    if i%2!=0:\n",
    "        l.append(\"odd\")\n",
    "    else:\n",
    "        l.append(\"even\")"
   ]
  },
  {
   "cell_type": "code",
   "execution_count": 25,
   "id": "ee353edd",
   "metadata": {},
   "outputs": [
    {
     "data": {
      "text/plain": [
       "['even', 'odd', 'even', 'odd', 'even', 'odd', 'even', 'odd', 'even', 'odd']"
      ]
     },
     "execution_count": 25,
     "metadata": {},
     "output_type": "execute_result"
    }
   ],
   "source": [
    "l"
   ]
  },
  {
   "cell_type": "code",
   "execution_count": 26,
   "id": "cb2ba092",
   "metadata": {},
   "outputs": [
    {
     "data": {
      "text/plain": [
       "['even', 'odd', 'even', 'odd', 'even', 'odd', 'even', 'odd', 'even', 'odd']"
      ]
     },
     "execution_count": 26,
     "metadata": {},
     "output_type": "execute_result"
    }
   ],
   "source": [
    "[\"odd\"if i%2!=0 else\"even\"for i in range(10)]"
   ]
  },
  {
   "cell_type": "code",
   "execution_count": 27,
   "id": "a20cdea3",
   "metadata": {},
   "outputs": [],
   "source": [
    "#Matrix\n",
    "\n",
    "mat=[]\n",
    "for i in range(3):# [   ] [   ] [   ] \n",
    "    mat.append([])\n",
    "    for j in range(3):\n",
    "        mat[i].append(j) # [0,1,2] [0,1,2] [0,1,2]\n",
    "         "
   ]
  },
  {
   "cell_type": "code",
   "execution_count": 28,
   "id": "f8b19580",
   "metadata": {},
   "outputs": [
    {
     "data": {
      "text/plain": [
       "[[0, 1, 2], [0, 1, 2], [0, 1, 2]]"
      ]
     },
     "execution_count": 28,
     "metadata": {},
     "output_type": "execute_result"
    }
   ],
   "source": [
    "mat"
   ]
  },
  {
   "cell_type": "code",
   "execution_count": 29,
   "id": "cf78f333",
   "metadata": {},
   "outputs": [
    {
     "data": {
      "text/plain": [
       "[[0, 0, 0, 1, 1, 1, 2, 2, 2]]"
      ]
     },
     "execution_count": 29,
     "metadata": {},
     "output_type": "execute_result"
    }
   ],
   "source": [
    "[[j for j in range(3) for i in range(3)]]"
   ]
  },
  {
   "cell_type": "code",
   "execution_count": 44,
   "id": "93964ad3",
   "metadata": {},
   "outputs": [
    {
     "data": {
      "text/plain": [
       "[0, 6]"
      ]
     },
     "execution_count": 44,
     "metadata": {},
     "output_type": "execute_result"
    }
   ],
   "source": [
    "[i for i in range(8) if i%2==0 if i%3==0] #0-7"
   ]
  },
  {
   "cell_type": "code",
   "execution_count": 31,
   "id": "3990a397",
   "metadata": {},
   "outputs": [
    {
     "data": {
      "text/plain": [
       "[0, 1, 2, 3, 4, 5, 6, 7, 8, 9]"
      ]
     },
     "execution_count": 31,
     "metadata": {},
     "output_type": "execute_result"
    }
   ],
   "source": [
    "l3=[]\n",
    "for i in range(10):\n",
    "    l3.append(i)\n",
    "l3"
   ]
  },
  {
   "cell_type": "code",
   "execution_count": 47,
   "id": "58a7545b",
   "metadata": {},
   "outputs": [
    {
     "data": {
      "text/plain": [
       "['test', 'yes', 'no', 'test', 'test', 'test', 'test', 'test', 'test', 'test']"
      ]
     },
     "execution_count": 47,
     "metadata": {},
     "output_type": "execute_result"
    }
   ],
   "source": [
    "[\"yes\"if i==1 else \"no\" if i==2 else\"test\" for i in l3]"
   ]
  },
  {
   "cell_type": "code",
   "execution_count": 34,
   "id": "0c2a4de6",
   "metadata": {},
   "outputs": [],
   "source": [
    "res=[]\n",
    "for i in l3:\n",
    "    if i==1:\n",
    "        res.append(\"yes\")\n",
    "    elif i==2:\n",
    "        res.append(\"no\")\n",
    "    else:\n",
    "        res.append(\"test\")"
   ]
  },
  {
   "cell_type": "code",
   "execution_count": 35,
   "id": "84bdeed1",
   "metadata": {},
   "outputs": [
    {
     "data": {
      "text/plain": [
       "['test', 'yes', 'no', 'test', 'test', 'test', 'test', 'test', 'test', 'test']"
      ]
     },
     "execution_count": 35,
     "metadata": {},
     "output_type": "execute_result"
    }
   ],
   "source": [
    "res"
   ]
  },
  {
   "cell_type": "code",
   "execution_count": 36,
   "id": "3aedba01",
   "metadata": {},
   "outputs": [
    {
     "data": {
      "text/plain": [
       "range(0, 10, 3)"
      ]
     },
     "execution_count": 36,
     "metadata": {},
     "output_type": "execute_result"
    }
   ],
   "source": [
    "range(0,10,3)"
   ]
  },
  {
   "cell_type": "code",
   "execution_count": 38,
   "id": "370fcb5e",
   "metadata": {},
   "outputs": [
    {
     "data": {
      "text/plain": [
       "[5, 8, 11, 14]"
      ]
     },
     "execution_count": 38,
     "metadata": {},
     "output_type": "execute_result"
    }
   ],
   "source": [
    "[i+5 for i in range(0,10,3)]"
   ]
  },
  {
   "cell_type": "code",
   "execution_count": 39,
   "id": "aa2d33a0",
   "metadata": {},
   "outputs": [
    {
     "name": "stdout",
     "output_type": "stream",
     "text": [
      "5\n",
      "8\n",
      "11\n",
      "14\n"
     ]
    }
   ],
   "source": [
    "for i in range(0,10,3):#  (0, 3,6,9, 12, 15, 18, 21, 24, 27)\n",
    "    i=i+5               #  (5,8,11,14,17,20,23,26,29,32) \n",
    "    print(i)"
   ]
  },
  {
   "cell_type": "code",
   "execution_count": 40,
   "id": "91a27955",
   "metadata": {},
   "outputs": [
    {
     "data": {
      "text/plain": [
       "['yes', 'no', 'yes', 'no', 'yes', 'no', 'yes', 'no', 'yes', 'no']"
      ]
     },
     "execution_count": 40,
     "metadata": {},
     "output_type": "execute_result"
    }
   ],
   "source": [
    "[\"yes\" if i%2==0 else\"no\" for i in range(10)]"
   ]
  },
  {
   "cell_type": "code",
   "execution_count": 69,
   "id": "a681f2b9",
   "metadata": {},
   "outputs": [],
   "source": [
    "lst=[]\n",
    "for i in range(10):\n",
    "    if i%2==0:\n",
    "        lst.append(\"even\")\n",
    "    else:\n",
    "        lst.append(\"odd\")"
   ]
  },
  {
   "cell_type": "code",
   "execution_count": 70,
   "id": "32c91888",
   "metadata": {},
   "outputs": [
    {
     "data": {
      "text/plain": [
       "['even', 'odd', 'even', 'odd', 'even', 'odd', 'even', 'odd', 'even', 'odd']"
      ]
     },
     "execution_count": 70,
     "metadata": {},
     "output_type": "execute_result"
    }
   ],
   "source": [
    "lst"
   ]
  },
  {
   "cell_type": "code",
   "execution_count": null,
   "id": "fb717411",
   "metadata": {},
   "outputs": [],
   "source": [
    "lst.()"
   ]
  }
 ],
 "metadata": {
  "kernelspec": {
   "display_name": "Python 3 (ipykernel)",
   "language": "python",
   "name": "python3"
  },
  "language_info": {
   "codemirror_mode": {
    "name": "ipython",
    "version": 3
   },
   "file_extension": ".py",
   "mimetype": "text/x-python",
   "name": "python",
   "nbconvert_exporter": "python",
   "pygments_lexer": "ipython3",
   "version": "3.9.7"
  }
 },
 "nbformat": 4,
 "nbformat_minor": 5
}
